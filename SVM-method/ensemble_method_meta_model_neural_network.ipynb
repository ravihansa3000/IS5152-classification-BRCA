{
 "cells": [
  {
   "cell_type": "code",
   "execution_count": 31,
   "metadata": {},
   "outputs": [],
   "source": [
    "import pandas as pd\n",
    "import numpy as np\n",
    "import matplotlib.pyplot as plt\n",
    "import seaborn as sns\n",
    "\n",
    "from sklearn.model_selection import GridSearchCV\n",
    "from sklearn.preprocessing import StandardScaler, MinMaxScaler\n",
    "from sklearn.metrics import classification_report, confusion_matrix\n",
    "from sklearn.model_selection import KFold\n",
    "\n",
    "from sklearn.metrics import accuracy_score\n",
    "from sklearn.metrics import precision_score\n",
    "from sklearn.metrics import recall_score\n",
    "from sklearn.metrics import f1_score\n",
    "from sklearn.metrics import cohen_kappa_score\n",
    "from sklearn.metrics import roc_auc_score\n",
    "from sklearn.metrics import matthews_corrcoef\n",
    "from sklearn.metrics import precision_recall_curve\n",
    "\n",
    "from sklearn.metrics import make_scorer\n",
    "\n",
    "from sklearn.svm import SVC\n",
    "from sklearn.linear_model import LogisticRegression\n",
    "from sklearn.tree import DecisionTreeClassifier\n",
    "from sklearn.naive_bayes import GaussianNB\n",
    "from sklearn.neural_network import MLPClassifier\n",
    "\n",
    "from sklearn.ensemble import BaggingClassifier\n",
    "from sklearn.ensemble import AdaBoostClassifier\n",
    "from mlxtend.classifier import StackingCVClassifier"
   ]
  },
  {
   "cell_type": "code",
   "execution_count": 2,
   "metadata": {},
   "outputs": [
    {
     "name": "stdout",
     "output_type": "stream",
     "text": [
      "CURR_DIR: /home/users/nus/csipav/Documents/IS5152-classification-BRCA/SVM-method\n",
      "TRAINING_DATA_CSV_PATH: /home/users/nus/csipav/Documents/IS5152-classification-BRCA/data/training_data_70_perc.csv, TESTING_DATA_CSV_PATH: /home/users/nus/csipav/Documents/IS5152-classification-BRCA/data/testing_data_30_perc.csv\n"
     ]
    }
   ],
   "source": [
    "import os\n",
    "CURR_DIR = os.getcwd()\n",
    "print(f\"CURR_DIR: {CURR_DIR}\")\n",
    "\n",
    "BRCA_DATA_DIR = os.path.join(CURR_DIR, '..', 'data')\n",
    "TRAINING_DATA_CSV = 'training_data_70_perc.csv'\n",
    "TESTING_DATA_CSV = 'testing_data_30_perc.csv'\n",
    "\n",
    "TRAINING_DATA_CSV_PATH = os.path.normpath(os.path.join(BRCA_DATA_DIR, TRAINING_DATA_CSV))\n",
    "TESTING_DATA_CSV_PATH = os.path.normpath(os.path.join(BRCA_DATA_DIR, TESTING_DATA_CSV))\n",
    "\n",
    "print(f\"TRAINING_DATA_CSV_PATH: {TRAINING_DATA_CSV_PATH}, TESTING_DATA_CSV_PATH: {TESTING_DATA_CSV_PATH}\")"
   ]
  },
  {
   "cell_type": "code",
   "execution_count": 3,
   "metadata": {},
   "outputs": [
    {
     "name": "stdout",
     "output_type": "stream",
     "text": [
      "Training dataset\n",
      "(398, 32)\n"
     ]
    },
    {
     "data": {
      "text/html": [
       "<div>\n",
       "<style scoped>\n",
       "    .dataframe tbody tr th:only-of-type {\n",
       "        vertical-align: middle;\n",
       "    }\n",
       "\n",
       "    .dataframe tbody tr th {\n",
       "        vertical-align: top;\n",
       "    }\n",
       "\n",
       "    .dataframe thead th {\n",
       "        text-align: right;\n",
       "    }\n",
       "</style>\n",
       "<table border=\"1\" class=\"dataframe\">\n",
       "  <thead>\n",
       "    <tr style=\"text-align: right;\">\n",
       "      <th></th>\n",
       "      <th>id</th>\n",
       "      <th>diagnosis</th>\n",
       "      <th>radius_mean</th>\n",
       "      <th>texture_mean</th>\n",
       "      <th>perimeter_mean</th>\n",
       "      <th>area_mean</th>\n",
       "      <th>smoothness_mean</th>\n",
       "      <th>compactness_mean</th>\n",
       "      <th>concavity_mean</th>\n",
       "      <th>'concave points_mean'</th>\n",
       "      <th>...</th>\n",
       "      <th>radius_worst</th>\n",
       "      <th>texture_worst</th>\n",
       "      <th>perimeter_worst</th>\n",
       "      <th>area_worst</th>\n",
       "      <th>smoothness_worst</th>\n",
       "      <th>compactness_worst</th>\n",
       "      <th>concavity_worst</th>\n",
       "      <th>'concave points_worst'</th>\n",
       "      <th>symmetry_worst</th>\n",
       "      <th>fractal_dimension_worst</th>\n",
       "    </tr>\n",
       "  </thead>\n",
       "  <tbody>\n",
       "    <tr>\n",
       "      <th>0</th>\n",
       "      <td>908445</td>\n",
       "      <td>M</td>\n",
       "      <td>18.82</td>\n",
       "      <td>21.97</td>\n",
       "      <td>123.70</td>\n",
       "      <td>1110.0</td>\n",
       "      <td>0.10180</td>\n",
       "      <td>0.13890</td>\n",
       "      <td>0.15940</td>\n",
       "      <td>0.08744</td>\n",
       "      <td>...</td>\n",
       "      <td>22.66</td>\n",
       "      <td>30.93</td>\n",
       "      <td>145.3</td>\n",
       "      <td>1603.0</td>\n",
       "      <td>0.1390</td>\n",
       "      <td>0.3463</td>\n",
       "      <td>0.3912</td>\n",
       "      <td>0.17080</td>\n",
       "      <td>0.3007</td>\n",
       "      <td>0.08314</td>\n",
       "    </tr>\n",
       "    <tr>\n",
       "      <th>1</th>\n",
       "      <td>888570</td>\n",
       "      <td>M</td>\n",
       "      <td>17.29</td>\n",
       "      <td>22.13</td>\n",
       "      <td>114.40</td>\n",
       "      <td>947.8</td>\n",
       "      <td>0.08999</td>\n",
       "      <td>0.12730</td>\n",
       "      <td>0.09697</td>\n",
       "      <td>0.07507</td>\n",
       "      <td>...</td>\n",
       "      <td>20.39</td>\n",
       "      <td>27.24</td>\n",
       "      <td>137.9</td>\n",
       "      <td>1295.0</td>\n",
       "      <td>0.1134</td>\n",
       "      <td>0.2867</td>\n",
       "      <td>0.2298</td>\n",
       "      <td>0.15280</td>\n",
       "      <td>0.3067</td>\n",
       "      <td>0.07484</td>\n",
       "    </tr>\n",
       "    <tr>\n",
       "      <th>2</th>\n",
       "      <td>865432</td>\n",
       "      <td>B</td>\n",
       "      <td>14.50</td>\n",
       "      <td>10.89</td>\n",
       "      <td>94.28</td>\n",
       "      <td>640.7</td>\n",
       "      <td>0.11010</td>\n",
       "      <td>0.10990</td>\n",
       "      <td>0.08842</td>\n",
       "      <td>0.05778</td>\n",
       "      <td>...</td>\n",
       "      <td>15.70</td>\n",
       "      <td>15.98</td>\n",
       "      <td>102.8</td>\n",
       "      <td>745.5</td>\n",
       "      <td>0.1313</td>\n",
       "      <td>0.1788</td>\n",
       "      <td>0.2560</td>\n",
       "      <td>0.12210</td>\n",
       "      <td>0.2889</td>\n",
       "      <td>0.08006</td>\n",
       "    </tr>\n",
       "    <tr>\n",
       "      <th>3</th>\n",
       "      <td>909445</td>\n",
       "      <td>M</td>\n",
       "      <td>17.27</td>\n",
       "      <td>25.42</td>\n",
       "      <td>112.40</td>\n",
       "      <td>928.8</td>\n",
       "      <td>0.08331</td>\n",
       "      <td>0.11090</td>\n",
       "      <td>0.12040</td>\n",
       "      <td>0.05736</td>\n",
       "      <td>...</td>\n",
       "      <td>20.38</td>\n",
       "      <td>35.46</td>\n",
       "      <td>132.8</td>\n",
       "      <td>1284.0</td>\n",
       "      <td>0.1436</td>\n",
       "      <td>0.4122</td>\n",
       "      <td>0.5036</td>\n",
       "      <td>0.17390</td>\n",
       "      <td>0.2500</td>\n",
       "      <td>0.07944</td>\n",
       "    </tr>\n",
       "    <tr>\n",
       "      <th>4</th>\n",
       "      <td>89511502</td>\n",
       "      <td>B</td>\n",
       "      <td>12.67</td>\n",
       "      <td>17.30</td>\n",
       "      <td>81.25</td>\n",
       "      <td>489.9</td>\n",
       "      <td>0.10280</td>\n",
       "      <td>0.07664</td>\n",
       "      <td>0.03193</td>\n",
       "      <td>0.02107</td>\n",
       "      <td>...</td>\n",
       "      <td>13.71</td>\n",
       "      <td>21.10</td>\n",
       "      <td>88.7</td>\n",
       "      <td>574.4</td>\n",
       "      <td>0.1384</td>\n",
       "      <td>0.1212</td>\n",
       "      <td>0.1020</td>\n",
       "      <td>0.05602</td>\n",
       "      <td>0.2688</td>\n",
       "      <td>0.06888</td>\n",
       "    </tr>\n",
       "  </tbody>\n",
       "</table>\n",
       "<p>5 rows × 32 columns</p>\n",
       "</div>"
      ],
      "text/plain": [
       "         id diagnosis  radius_mean  texture_mean  perimeter_mean  area_mean  \\\n",
       "0    908445         M        18.82         21.97          123.70     1110.0   \n",
       "1    888570         M        17.29         22.13          114.40      947.8   \n",
       "2    865432         B        14.50         10.89           94.28      640.7   \n",
       "3    909445         M        17.27         25.42          112.40      928.8   \n",
       "4  89511502         B        12.67         17.30           81.25      489.9   \n",
       "\n",
       "   smoothness_mean  compactness_mean  concavity_mean  'concave points_mean'  \\\n",
       "0          0.10180           0.13890         0.15940                0.08744   \n",
       "1          0.08999           0.12730         0.09697                0.07507   \n",
       "2          0.11010           0.10990         0.08842                0.05778   \n",
       "3          0.08331           0.11090         0.12040                0.05736   \n",
       "4          0.10280           0.07664         0.03193                0.02107   \n",
       "\n",
       "   ...  radius_worst  texture_worst  perimeter_worst  area_worst  \\\n",
       "0  ...         22.66          30.93            145.3      1603.0   \n",
       "1  ...         20.39          27.24            137.9      1295.0   \n",
       "2  ...         15.70          15.98            102.8       745.5   \n",
       "3  ...         20.38          35.46            132.8      1284.0   \n",
       "4  ...         13.71          21.10             88.7       574.4   \n",
       "\n",
       "   smoothness_worst  compactness_worst  concavity_worst  \\\n",
       "0            0.1390             0.3463           0.3912   \n",
       "1            0.1134             0.2867           0.2298   \n",
       "2            0.1313             0.1788           0.2560   \n",
       "3            0.1436             0.4122           0.5036   \n",
       "4            0.1384             0.1212           0.1020   \n",
       "\n",
       "   'concave points_worst'  symmetry_worst  fractal_dimension_worst  \n",
       "0                 0.17080          0.3007                  0.08314  \n",
       "1                 0.15280          0.3067                  0.07484  \n",
       "2                 0.12210          0.2889                  0.08006  \n",
       "3                 0.17390          0.2500                  0.07944  \n",
       "4                 0.05602          0.2688                  0.06888  \n",
       "\n",
       "[5 rows x 32 columns]"
      ]
     },
     "execution_count": 3,
     "metadata": {},
     "output_type": "execute_result"
    }
   ],
   "source": [
    "\n",
    "print(\"Training dataset\")\n",
    "df_cancer_train = pd.read_csv(TRAINING_DATA_CSV_PATH)\n",
    "print(df_cancer_train.shape)\n",
    "df_cancer_train.head()\n",
    "\n"
   ]
  },
  {
   "cell_type": "code",
   "execution_count": 4,
   "metadata": {},
   "outputs": [
    {
     "name": "stdout",
     "output_type": "stream",
     "text": [
      "Testing dataset\n",
      "(171, 32)\n"
     ]
    },
    {
     "data": {
      "text/html": [
       "<div>\n",
       "<style scoped>\n",
       "    .dataframe tbody tr th:only-of-type {\n",
       "        vertical-align: middle;\n",
       "    }\n",
       "\n",
       "    .dataframe tbody tr th {\n",
       "        vertical-align: top;\n",
       "    }\n",
       "\n",
       "    .dataframe thead th {\n",
       "        text-align: right;\n",
       "    }\n",
       "</style>\n",
       "<table border=\"1\" class=\"dataframe\">\n",
       "  <thead>\n",
       "    <tr style=\"text-align: right;\">\n",
       "      <th></th>\n",
       "      <th>id</th>\n",
       "      <th>diagnosis</th>\n",
       "      <th>radius_mean</th>\n",
       "      <th>texture_mean</th>\n",
       "      <th>perimeter_mean</th>\n",
       "      <th>area_mean</th>\n",
       "      <th>smoothness_mean</th>\n",
       "      <th>compactness_mean</th>\n",
       "      <th>concavity_mean</th>\n",
       "      <th>'concave points_mean'</th>\n",
       "      <th>...</th>\n",
       "      <th>radius_worst</th>\n",
       "      <th>texture_worst</th>\n",
       "      <th>perimeter_worst</th>\n",
       "      <th>area_worst</th>\n",
       "      <th>smoothness_worst</th>\n",
       "      <th>compactness_worst</th>\n",
       "      <th>concavity_worst</th>\n",
       "      <th>'concave points_worst'</th>\n",
       "      <th>symmetry_worst</th>\n",
       "      <th>fractal_dimension_worst</th>\n",
       "    </tr>\n",
       "  </thead>\n",
       "  <tbody>\n",
       "    <tr>\n",
       "      <th>0</th>\n",
       "      <td>911320501</td>\n",
       "      <td>B</td>\n",
       "      <td>11.600</td>\n",
       "      <td>18.36</td>\n",
       "      <td>73.88</td>\n",
       "      <td>412.7</td>\n",
       "      <td>0.08508</td>\n",
       "      <td>0.05855</td>\n",
       "      <td>0.03367</td>\n",
       "      <td>0.01777</td>\n",
       "      <td>...</td>\n",
       "      <td>12.77</td>\n",
       "      <td>24.02</td>\n",
       "      <td>82.68</td>\n",
       "      <td>495.1</td>\n",
       "      <td>0.1342</td>\n",
       "      <td>0.1808</td>\n",
       "      <td>0.1860</td>\n",
       "      <td>0.08288</td>\n",
       "      <td>0.3210</td>\n",
       "      <td>0.07863</td>\n",
       "    </tr>\n",
       "    <tr>\n",
       "      <th>1</th>\n",
       "      <td>842517</td>\n",
       "      <td>M</td>\n",
       "      <td>20.570</td>\n",
       "      <td>17.77</td>\n",
       "      <td>132.90</td>\n",
       "      <td>1326.0</td>\n",
       "      <td>0.08474</td>\n",
       "      <td>0.07864</td>\n",
       "      <td>0.08690</td>\n",
       "      <td>0.07017</td>\n",
       "      <td>...</td>\n",
       "      <td>24.99</td>\n",
       "      <td>23.41</td>\n",
       "      <td>158.80</td>\n",
       "      <td>1956.0</td>\n",
       "      <td>0.1238</td>\n",
       "      <td>0.1866</td>\n",
       "      <td>0.2416</td>\n",
       "      <td>0.18600</td>\n",
       "      <td>0.2750</td>\n",
       "      <td>0.08902</td>\n",
       "    </tr>\n",
       "    <tr>\n",
       "      <th>2</th>\n",
       "      <td>84300903</td>\n",
       "      <td>M</td>\n",
       "      <td>19.690</td>\n",
       "      <td>21.25</td>\n",
       "      <td>130.00</td>\n",
       "      <td>1203.0</td>\n",
       "      <td>0.10960</td>\n",
       "      <td>0.15990</td>\n",
       "      <td>0.19740</td>\n",
       "      <td>0.12790</td>\n",
       "      <td>...</td>\n",
       "      <td>23.57</td>\n",
       "      <td>25.53</td>\n",
       "      <td>152.50</td>\n",
       "      <td>1709.0</td>\n",
       "      <td>0.1444</td>\n",
       "      <td>0.4245</td>\n",
       "      <td>0.4504</td>\n",
       "      <td>0.24300</td>\n",
       "      <td>0.3613</td>\n",
       "      <td>0.08758</td>\n",
       "    </tr>\n",
       "    <tr>\n",
       "      <th>3</th>\n",
       "      <td>872608</td>\n",
       "      <td>B</td>\n",
       "      <td>9.904</td>\n",
       "      <td>18.06</td>\n",
       "      <td>64.60</td>\n",
       "      <td>302.4</td>\n",
       "      <td>0.09699</td>\n",
       "      <td>0.12940</td>\n",
       "      <td>0.13070</td>\n",
       "      <td>0.03716</td>\n",
       "      <td>...</td>\n",
       "      <td>11.26</td>\n",
       "      <td>24.39</td>\n",
       "      <td>73.07</td>\n",
       "      <td>390.2</td>\n",
       "      <td>0.1301</td>\n",
       "      <td>0.2950</td>\n",
       "      <td>0.3486</td>\n",
       "      <td>0.09910</td>\n",
       "      <td>0.2614</td>\n",
       "      <td>0.11620</td>\n",
       "    </tr>\n",
       "    <tr>\n",
       "      <th>4</th>\n",
       "      <td>88143502</td>\n",
       "      <td>B</td>\n",
       "      <td>14.340</td>\n",
       "      <td>13.47</td>\n",
       "      <td>92.51</td>\n",
       "      <td>641.2</td>\n",
       "      <td>0.09906</td>\n",
       "      <td>0.07624</td>\n",
       "      <td>0.05724</td>\n",
       "      <td>0.04603</td>\n",
       "      <td>...</td>\n",
       "      <td>16.77</td>\n",
       "      <td>16.90</td>\n",
       "      <td>110.40</td>\n",
       "      <td>873.2</td>\n",
       "      <td>0.1297</td>\n",
       "      <td>0.1525</td>\n",
       "      <td>0.1632</td>\n",
       "      <td>0.10870</td>\n",
       "      <td>0.3062</td>\n",
       "      <td>0.06072</td>\n",
       "    </tr>\n",
       "  </tbody>\n",
       "</table>\n",
       "<p>5 rows × 32 columns</p>\n",
       "</div>"
      ],
      "text/plain": [
       "          id diagnosis  radius_mean  texture_mean  perimeter_mean  area_mean  \\\n",
       "0  911320501         B       11.600         18.36           73.88      412.7   \n",
       "1     842517         M       20.570         17.77          132.90     1326.0   \n",
       "2   84300903         M       19.690         21.25          130.00     1203.0   \n",
       "3     872608         B        9.904         18.06           64.60      302.4   \n",
       "4   88143502         B       14.340         13.47           92.51      641.2   \n",
       "\n",
       "   smoothness_mean  compactness_mean  concavity_mean  'concave points_mean'  \\\n",
       "0          0.08508           0.05855         0.03367                0.01777   \n",
       "1          0.08474           0.07864         0.08690                0.07017   \n",
       "2          0.10960           0.15990         0.19740                0.12790   \n",
       "3          0.09699           0.12940         0.13070                0.03716   \n",
       "4          0.09906           0.07624         0.05724                0.04603   \n",
       "\n",
       "   ...  radius_worst  texture_worst  perimeter_worst  area_worst  \\\n",
       "0  ...         12.77          24.02            82.68       495.1   \n",
       "1  ...         24.99          23.41           158.80      1956.0   \n",
       "2  ...         23.57          25.53           152.50      1709.0   \n",
       "3  ...         11.26          24.39            73.07       390.2   \n",
       "4  ...         16.77          16.90           110.40       873.2   \n",
       "\n",
       "   smoothness_worst  compactness_worst  concavity_worst  \\\n",
       "0            0.1342             0.1808           0.1860   \n",
       "1            0.1238             0.1866           0.2416   \n",
       "2            0.1444             0.4245           0.4504   \n",
       "3            0.1301             0.2950           0.3486   \n",
       "4            0.1297             0.1525           0.1632   \n",
       "\n",
       "   'concave points_worst'  symmetry_worst  fractal_dimension_worst  \n",
       "0                 0.08288          0.3210                  0.07863  \n",
       "1                 0.18600          0.2750                  0.08902  \n",
       "2                 0.24300          0.3613                  0.08758  \n",
       "3                 0.09910          0.2614                  0.11620  \n",
       "4                 0.10870          0.3062                  0.06072  \n",
       "\n",
       "[5 rows x 32 columns]"
      ]
     },
     "execution_count": 4,
     "metadata": {},
     "output_type": "execute_result"
    }
   ],
   "source": [
    "print(\"Testing dataset\")\n",
    "df_cancer_test = pd.read_csv(TESTING_DATA_CSV_PATH)\n",
    "print(df_cancer_test.shape)\n",
    "df_cancer_test.head()"
   ]
  },
  {
   "cell_type": "code",
   "execution_count": 5,
   "metadata": {},
   "outputs": [],
   "source": [
    "excluded_columns = [\n",
    "    'concavity_se',\n",
    "    'texture_worst',\n",
    "    'texture_mean',\n",
    "    'symmetry_worst',\n",
    "    \"'concave points_se'\",\n",
    "    'smoothness_worst',\n",
    "    'compactness_se',\n",
    "    'smoothness_mean',\n",
    "    'symmetry_mean',\n",
    "    'fractal_dimension_worst',\n",
    "    'fractal_dimension_se',\n",
    "    'fractal_dimension_mean',\n",
    "    'symmetry_se',\n",
    "    'texture_se',\n",
    "    'smoothness_se',\n",
    "    'id',\n",
    "    'diagnosis'\n",
    "]\n",
    "\n",
    "excluded_columns_training = [\n",
    "    'id',\n",
    "    'diagnosis'\n",
    "]\n",
    "\n",
    "cancer_labels=[1, 0]\n",
    "f1_scorer = make_scorer(f1_score, labels=cancer_labels, pos_label=1)\n",
    "recall_scorer = make_scorer(recall_score, labels=cancer_labels, pos_label=1)\n",
    "\n",
    "scaler_mm = MinMaxScaler()\n",
    "scaler_std = StandardScaler()\n",
    "\n",
    "KF_K = 5\n",
    "kf = KFold(n_splits=KF_K) # Define the split"
   ]
  },
  {
   "cell_type": "code",
   "execution_count": 6,
   "metadata": {},
   "outputs": [
    {
     "name": "stdout",
     "output_type": "stream",
     "text": [
      "Filtered training dataset scaled: (398, 30)\n",
      "Filtered testing dataset scaled: (171, 30)\n"
     ]
    },
    {
     "data": {
      "text/html": [
       "<div>\n",
       "<style scoped>\n",
       "    .dataframe tbody tr th:only-of-type {\n",
       "        vertical-align: middle;\n",
       "    }\n",
       "\n",
       "    .dataframe tbody tr th {\n",
       "        vertical-align: top;\n",
       "    }\n",
       "\n",
       "    .dataframe thead th {\n",
       "        text-align: right;\n",
       "    }\n",
       "</style>\n",
       "<table border=\"1\" class=\"dataframe\">\n",
       "  <thead>\n",
       "    <tr style=\"text-align: right;\">\n",
       "      <th></th>\n",
       "      <th>radius_mean</th>\n",
       "      <th>texture_mean</th>\n",
       "      <th>perimeter_mean</th>\n",
       "      <th>area_mean</th>\n",
       "      <th>smoothness_mean</th>\n",
       "      <th>compactness_mean</th>\n",
       "      <th>concavity_mean</th>\n",
       "      <th>'concave points_mean'</th>\n",
       "      <th>symmetry_mean</th>\n",
       "      <th>fractal_dimension_mean</th>\n",
       "      <th>...</th>\n",
       "      <th>radius_worst</th>\n",
       "      <th>texture_worst</th>\n",
       "      <th>perimeter_worst</th>\n",
       "      <th>area_worst</th>\n",
       "      <th>smoothness_worst</th>\n",
       "      <th>compactness_worst</th>\n",
       "      <th>concavity_worst</th>\n",
       "      <th>'concave points_worst'</th>\n",
       "      <th>symmetry_worst</th>\n",
       "      <th>fractal_dimension_worst</th>\n",
       "    </tr>\n",
       "  </thead>\n",
       "  <tbody>\n",
       "    <tr>\n",
       "      <th>0</th>\n",
       "      <td>0.191439</td>\n",
       "      <td>0.362683</td>\n",
       "      <td>0.184664</td>\n",
       "      <td>0.103965</td>\n",
       "      <td>0.401261</td>\n",
       "      <td>0.135163</td>\n",
       "      <td>0.078963</td>\n",
       "      <td>0.094622</td>\n",
       "      <td>0.164932</td>\n",
       "      <td>0.216616</td>\n",
       "      <td>...</td>\n",
       "      <td>0.149550</td>\n",
       "      <td>0.319829</td>\n",
       "      <td>0.143307</td>\n",
       "      <td>0.067363</td>\n",
       "      <td>0.428106</td>\n",
       "      <td>0.168579</td>\n",
       "      <td>0.193589</td>\n",
       "      <td>0.284811</td>\n",
       "      <td>0.378575</td>\n",
       "      <td>0.261668</td>\n",
       "    </tr>\n",
       "    <tr>\n",
       "      <th>1</th>\n",
       "      <td>0.630736</td>\n",
       "      <td>0.337945</td>\n",
       "      <td>0.604496</td>\n",
       "      <td>0.495838</td>\n",
       "      <td>0.397057</td>\n",
       "      <td>0.212504</td>\n",
       "      <td>0.203799</td>\n",
       "      <td>0.373642</td>\n",
       "      <td>0.327123</td>\n",
       "      <td>0.168424</td>\n",
       "      <td>...</td>\n",
       "      <td>0.596155</td>\n",
       "      <td>0.303571</td>\n",
       "      <td>0.530273</td>\n",
       "      <td>0.429833</td>\n",
       "      <td>0.357468</td>\n",
       "      <td>0.174949</td>\n",
       "      <td>0.251457</td>\n",
       "      <td>0.639175</td>\n",
       "      <td>0.267087</td>\n",
       "      <td>0.377952</td>\n",
       "    </tr>\n",
       "    <tr>\n",
       "      <th>2</th>\n",
       "      <td>0.587639</td>\n",
       "      <td>0.483857</td>\n",
       "      <td>0.583867</td>\n",
       "      <td>0.443062</td>\n",
       "      <td>0.704464</td>\n",
       "      <td>0.525331</td>\n",
       "      <td>0.462946</td>\n",
       "      <td>0.681044</td>\n",
       "      <td>0.467945</td>\n",
       "      <td>0.251757</td>\n",
       "      <td>...</td>\n",
       "      <td>0.544258</td>\n",
       "      <td>0.360075</td>\n",
       "      <td>0.498246</td>\n",
       "      <td>0.368549</td>\n",
       "      <td>0.497385</td>\n",
       "      <td>0.436202</td>\n",
       "      <td>0.468776</td>\n",
       "      <td>0.835052</td>\n",
       "      <td>0.476248</td>\n",
       "      <td>0.361835</td>\n",
       "    </tr>\n",
       "    <tr>\n",
       "      <th>3</th>\n",
       "      <td>0.108379</td>\n",
       "      <td>0.350105</td>\n",
       "      <td>0.118651</td>\n",
       "      <td>0.056638</td>\n",
       "      <td>0.548535</td>\n",
       "      <td>0.407915</td>\n",
       "      <td>0.306520</td>\n",
       "      <td>0.197870</td>\n",
       "      <td>0.248767</td>\n",
       "      <td>0.783133</td>\n",
       "      <td>...</td>\n",
       "      <td>0.094364</td>\n",
       "      <td>0.329691</td>\n",
       "      <td>0.094454</td>\n",
       "      <td>0.041336</td>\n",
       "      <td>0.400258</td>\n",
       "      <td>0.293990</td>\n",
       "      <td>0.362823</td>\n",
       "      <td>0.340550</td>\n",
       "      <td>0.234125</td>\n",
       "      <td>0.682149</td>\n",
       "    </tr>\n",
       "    <tr>\n",
       "      <th>4</th>\n",
       "      <td>0.325628</td>\n",
       "      <td>0.157652</td>\n",
       "      <td>0.317186</td>\n",
       "      <td>0.202008</td>\n",
       "      <td>0.574131</td>\n",
       "      <td>0.203265</td>\n",
       "      <td>0.134240</td>\n",
       "      <td>0.245101</td>\n",
       "      <td>0.471233</td>\n",
       "      <td>0.113454</td>\n",
       "      <td>...</td>\n",
       "      <td>0.295739</td>\n",
       "      <td>0.130064</td>\n",
       "      <td>0.284226</td>\n",
       "      <td>0.161175</td>\n",
       "      <td>0.397541</td>\n",
       "      <td>0.137501</td>\n",
       "      <td>0.169858</td>\n",
       "      <td>0.373540</td>\n",
       "      <td>0.342705</td>\n",
       "      <td>0.061220</td>\n",
       "    </tr>\n",
       "  </tbody>\n",
       "</table>\n",
       "<p>5 rows × 30 columns</p>\n",
       "</div>"
      ],
      "text/plain": [
       "   radius_mean  texture_mean  perimeter_mean  area_mean  smoothness_mean  \\\n",
       "0     0.191439      0.362683        0.184664   0.103965         0.401261   \n",
       "1     0.630736      0.337945        0.604496   0.495838         0.397057   \n",
       "2     0.587639      0.483857        0.583867   0.443062         0.704464   \n",
       "3     0.108379      0.350105        0.118651   0.056638         0.548535   \n",
       "4     0.325628      0.157652        0.317186   0.202008         0.574131   \n",
       "\n",
       "   compactness_mean  concavity_mean  'concave points_mean'  symmetry_mean  \\\n",
       "0          0.135163        0.078963               0.094622       0.164932   \n",
       "1          0.212504        0.203799               0.373642       0.327123   \n",
       "2          0.525331        0.462946               0.681044       0.467945   \n",
       "3          0.407915        0.306520               0.197870       0.248767   \n",
       "4          0.203265        0.134240               0.245101       0.471233   \n",
       "\n",
       "   fractal_dimension_mean  ...  radius_worst  texture_worst  perimeter_worst  \\\n",
       "0                0.216616  ...      0.149550       0.319829         0.143307   \n",
       "1                0.168424  ...      0.596155       0.303571         0.530273   \n",
       "2                0.251757  ...      0.544258       0.360075         0.498246   \n",
       "3                0.783133  ...      0.094364       0.329691         0.094454   \n",
       "4                0.113454  ...      0.295739       0.130064         0.284226   \n",
       "\n",
       "   area_worst  smoothness_worst  compactness_worst  concavity_worst  \\\n",
       "0    0.067363          0.428106           0.168579         0.193589   \n",
       "1    0.429833          0.357468           0.174949         0.251457   \n",
       "2    0.368549          0.497385           0.436202         0.468776   \n",
       "3    0.041336          0.400258           0.293990         0.362823   \n",
       "4    0.161175          0.397541           0.137501         0.169858   \n",
       "\n",
       "   'concave points_worst'  symmetry_worst  fractal_dimension_worst  \n",
       "0                0.284811        0.378575                 0.261668  \n",
       "1                0.639175        0.267087                 0.377952  \n",
       "2                0.835052        0.476248                 0.361835  \n",
       "3                0.340550        0.234125                 0.682149  \n",
       "4                0.373540        0.342705                 0.061220  \n",
       "\n",
       "[5 rows x 30 columns]"
      ]
     },
     "execution_count": 6,
     "metadata": {},
     "output_type": "execute_result"
    }
   ],
   "source": [
    "X_train = df_cancer_train.drop(excluded_columns_training, axis=1)\n",
    "\n",
    "\n",
    "X_train_mm_scaled_values = scaler_std.fit_transform(X_train.values)\n",
    "X_train_mm_scaled = pd.DataFrame(X_train_mm_scaled_values, columns=X_train.columns)\n",
    "print(f\"Filtered training dataset scaled: {X_train_mm_scaled.shape}\")\n",
    "X_train_mm_scaled.head()\n",
    "\n",
    "\n",
    "\n",
    "# X_test = df_cancer_test.drop(excluded_columns, axis=1)\n",
    "X_test = df_cancer_test.drop(excluded_columns_training, axis=1)\n",
    "\n",
    "X_test_mm_scaled_values = scaler_mm.fit_transform(X_test.values)\n",
    "X_test_mm_scaled = pd.DataFrame(X_test_mm_scaled_values, columns=X_test.columns)\n",
    "print(f\"Filtered testing dataset scaled: {X_test_mm_scaled.shape}\")\n",
    "X_test_mm_scaled.head()\n"
   ]
  },
  {
   "cell_type": "code",
   "execution_count": 7,
   "metadata": {},
   "outputs": [
    {
     "data": {
      "text/html": [
       "<div>\n",
       "<style scoped>\n",
       "    .dataframe tbody tr th:only-of-type {\n",
       "        vertical-align: middle;\n",
       "    }\n",
       "\n",
       "    .dataframe tbody tr th {\n",
       "        vertical-align: top;\n",
       "    }\n",
       "\n",
       "    .dataframe thead th {\n",
       "        text-align: right;\n",
       "    }\n",
       "</style>\n",
       "<table border=\"1\" class=\"dataframe\">\n",
       "  <thead>\n",
       "    <tr style=\"text-align: right;\">\n",
       "      <th></th>\n",
       "      <th>radius_mean</th>\n",
       "      <th>texture_mean</th>\n",
       "      <th>perimeter_mean</th>\n",
       "      <th>area_mean</th>\n",
       "      <th>smoothness_mean</th>\n",
       "      <th>compactness_mean</th>\n",
       "      <th>concavity_mean</th>\n",
       "      <th>'concave points_mean'</th>\n",
       "      <th>symmetry_mean</th>\n",
       "      <th>fractal_dimension_mean</th>\n",
       "      <th>...</th>\n",
       "      <th>radius_worst</th>\n",
       "      <th>texture_worst</th>\n",
       "      <th>perimeter_worst</th>\n",
       "      <th>area_worst</th>\n",
       "      <th>smoothness_worst</th>\n",
       "      <th>compactness_worst</th>\n",
       "      <th>concavity_worst</th>\n",
       "      <th>'concave points_worst'</th>\n",
       "      <th>symmetry_worst</th>\n",
       "      <th>fractal_dimension_worst</th>\n",
       "    </tr>\n",
       "  </thead>\n",
       "  <tbody>\n",
       "    <tr>\n",
       "      <th>0</th>\n",
       "      <td>-0.656781</td>\n",
       "      <td>-0.231352</td>\n",
       "      <td>-0.681134</td>\n",
       "      <td>-0.626598</td>\n",
       "      <td>-0.899920</td>\n",
       "      <td>-0.876961</td>\n",
       "      <td>-0.682900</td>\n",
       "      <td>-0.781539</td>\n",
       "      <td>-1.154846</td>\n",
       "      <td>-0.679557</td>\n",
       "      <td>...</td>\n",
       "      <td>-0.681245</td>\n",
       "      <td>-0.277045</td>\n",
       "      <td>-0.687116</td>\n",
       "      <td>-0.626901</td>\n",
       "      <td>-0.027326</td>\n",
       "      <td>-0.455798</td>\n",
       "      <td>-0.396599</td>\n",
       "      <td>-0.474411</td>\n",
       "      <td>0.461776</td>\n",
       "      <td>-0.320904</td>\n",
       "    </tr>\n",
       "    <tr>\n",
       "      <th>1</th>\n",
       "      <td>1.595460</td>\n",
       "      <td>-0.366170</td>\n",
       "      <td>1.467544</td>\n",
       "      <td>1.561421</td>\n",
       "      <td>-0.925734</td>\n",
       "      <td>-0.501092</td>\n",
       "      <td>-0.024987</td>\n",
       "      <td>0.483869</td>\n",
       "      <td>-0.123844</td>\n",
       "      <td>-0.966249</td>\n",
       "      <td>...</td>\n",
       "      <td>1.595849</td>\n",
       "      <td>-0.374082</td>\n",
       "      <td>1.369729</td>\n",
       "      <td>1.541017</td>\n",
       "      <td>-0.499283</td>\n",
       "      <td>-0.419817</td>\n",
       "      <td>-0.119694</td>\n",
       "      <td>0.992043</td>\n",
       "      <td>-0.324204</td>\n",
       "      <td>0.292177</td>\n",
       "    </tr>\n",
       "    <tr>\n",
       "      <th>2</th>\n",
       "      <td>1.374505</td>\n",
       "      <td>0.429029</td>\n",
       "      <td>1.361967</td>\n",
       "      <td>1.266747</td>\n",
       "      <td>0.961716</td>\n",
       "      <td>1.019222</td>\n",
       "      <td>1.340772</td>\n",
       "      <td>1.877991</td>\n",
       "      <td>0.771317</td>\n",
       "      <td>-0.470511</td>\n",
       "      <td>...</td>\n",
       "      <td>1.331244</td>\n",
       "      <td>-0.036839</td>\n",
       "      <td>1.199496</td>\n",
       "      <td>1.174479</td>\n",
       "      <td>0.435554</td>\n",
       "      <td>1.056007</td>\n",
       "      <td>0.920195</td>\n",
       "      <td>1.802632</td>\n",
       "      <td>1.150363</td>\n",
       "      <td>0.207207</td>\n",
       "    </tr>\n",
       "    <tr>\n",
       "      <th>3</th>\n",
       "      <td>-1.082622</td>\n",
       "      <td>-0.299904</td>\n",
       "      <td>-1.018981</td>\n",
       "      <td>-0.890847</td>\n",
       "      <td>0.004325</td>\n",
       "      <td>0.448590</td>\n",
       "      <td>0.516373</td>\n",
       "      <td>-0.313290</td>\n",
       "      <td>-0.621930</td>\n",
       "      <td>2.690564</td>\n",
       "      <td>...</td>\n",
       "      <td>-0.962621</td>\n",
       "      <td>-0.218187</td>\n",
       "      <td>-0.946789</td>\n",
       "      <td>-0.782569</td>\n",
       "      <td>-0.213386</td>\n",
       "      <td>0.252647</td>\n",
       "      <td>0.413199</td>\n",
       "      <td>-0.243749</td>\n",
       "      <td>-0.556581</td>\n",
       "      <td>1.895984</td>\n",
       "    </tr>\n",
       "    <tr>\n",
       "      <th>4</th>\n",
       "      <td>0.031195</td>\n",
       "      <td>-1.348745</td>\n",
       "      <td>-0.002891</td>\n",
       "      <td>-0.079174</td>\n",
       "      <td>0.161485</td>\n",
       "      <td>-0.545994</td>\n",
       "      <td>-0.391579</td>\n",
       "      <td>-0.099088</td>\n",
       "      <td>0.792215</td>\n",
       "      <td>-1.293256</td>\n",
       "      <td>...</td>\n",
       "      <td>0.064121</td>\n",
       "      <td>-1.409673</td>\n",
       "      <td>0.061908</td>\n",
       "      <td>-0.065816</td>\n",
       "      <td>-0.231538</td>\n",
       "      <td>-0.631358</td>\n",
       "      <td>-0.510150</td>\n",
       "      <td>-0.107229</td>\n",
       "      <td>0.208895</td>\n",
       "      <td>-1.377717</td>\n",
       "    </tr>\n",
       "  </tbody>\n",
       "</table>\n",
       "<p>5 rows × 30 columns</p>\n",
       "</div>"
      ],
      "text/plain": [
       "   radius_mean  texture_mean  perimeter_mean  area_mean  smoothness_mean  \\\n",
       "0    -0.656781     -0.231352       -0.681134  -0.626598        -0.899920   \n",
       "1     1.595460     -0.366170        1.467544   1.561421        -0.925734   \n",
       "2     1.374505      0.429029        1.361967   1.266747         0.961716   \n",
       "3    -1.082622     -0.299904       -1.018981  -0.890847         0.004325   \n",
       "4     0.031195     -1.348745       -0.002891  -0.079174         0.161485   \n",
       "\n",
       "   compactness_mean  concavity_mean  'concave points_mean'  symmetry_mean  \\\n",
       "0         -0.876961       -0.682900              -0.781539      -1.154846   \n",
       "1         -0.501092       -0.024987               0.483869      -0.123844   \n",
       "2          1.019222        1.340772               1.877991       0.771317   \n",
       "3          0.448590        0.516373              -0.313290      -0.621930   \n",
       "4         -0.545994       -0.391579              -0.099088       0.792215   \n",
       "\n",
       "   fractal_dimension_mean  ...  radius_worst  texture_worst  perimeter_worst  \\\n",
       "0               -0.679557  ...     -0.681245      -0.277045        -0.687116   \n",
       "1               -0.966249  ...      1.595849      -0.374082         1.369729   \n",
       "2               -0.470511  ...      1.331244      -0.036839         1.199496   \n",
       "3                2.690564  ...     -0.962621      -0.218187        -0.946789   \n",
       "4               -1.293256  ...      0.064121      -1.409673         0.061908   \n",
       "\n",
       "   area_worst  smoothness_worst  compactness_worst  concavity_worst  \\\n",
       "0   -0.626901         -0.027326          -0.455798        -0.396599   \n",
       "1    1.541017         -0.499283          -0.419817        -0.119694   \n",
       "2    1.174479          0.435554           1.056007         0.920195   \n",
       "3   -0.782569         -0.213386           0.252647         0.413199   \n",
       "4   -0.065816         -0.231538          -0.631358        -0.510150   \n",
       "\n",
       "   'concave points_worst'  symmetry_worst  fractal_dimension_worst  \n",
       "0               -0.474411        0.461776                -0.320904  \n",
       "1                0.992043       -0.324204                 0.292177  \n",
       "2                1.802632        1.150363                 0.207207  \n",
       "3               -0.243749       -0.556581                 1.895984  \n",
       "4               -0.107229        0.208895                -1.377717  \n",
       "\n",
       "[5 rows x 30 columns]"
      ]
     },
     "execution_count": 7,
     "metadata": {},
     "output_type": "execute_result"
    }
   ],
   "source": [
    "X_train_std_scaled_values = scaler_std.fit_transform(X_train.values)\n",
    "X_train_std_scaled = pd.DataFrame(X_train_std_scaled_values, columns=X_train.columns)\n",
    "\n",
    "X_test_std_scaled_values = scaler_std.fit_transform(X_test.values)\n",
    "X_test_std_scaled = pd.DataFrame(X_test_std_scaled_values, columns=X_test.columns)\n",
    "\n",
    "X_test_std_scaled.head()\n"
   ]
  },
  {
   "cell_type": "code",
   "execution_count": 8,
   "metadata": {},
   "outputs": [
    {
     "name": "stdout",
     "output_type": "stream",
     "text": [
      "y_train: (398,), y_test: (171,)\n"
     ]
    },
    {
     "data": {
      "text/plain": [
       "0    1\n",
       "1    1\n",
       "2    0\n",
       "3    1\n",
       "4    0\n",
       "Name: diagnosis, dtype: int64"
      ]
     },
     "execution_count": 8,
     "metadata": {},
     "output_type": "execute_result"
    }
   ],
   "source": [
    "y_train = df_cancer_train['diagnosis']\n",
    "y_test = df_cancer_test['diagnosis']\n",
    "print(f\"y_train: {y_train.shape}, y_test: {y_test.shape}\")\n",
    "\n",
    "cancer_mapping = {'M': 1, 'B': 0}\n",
    "y_train = y_train.map(cancer_mapping)\n",
    "y_test = y_test.map(cancer_mapping)\n",
    "\n",
    "y_train.head()"
   ]
  },
  {
   "cell_type": "markdown",
   "metadata": {},
   "source": [
    "# GridSearch - SVC"
   ]
  },
  {
   "cell_type": "markdown",
   "metadata": {},
   "source": [
    "## Standard Scaler"
   ]
  },
  {
   "cell_type": "code",
   "execution_count": 9,
   "metadata": {},
   "outputs": [
    {
     "name": "stdout",
     "output_type": "stream",
     "text": [
      "Fitting 5 folds for each of 324 candidates, totalling 1620 fits\n"
     ]
    },
    {
     "name": "stderr",
     "output_type": "stream",
     "text": [
      "[Parallel(n_jobs=-1)]: Using backend LokyBackend with 24 concurrent workers.\n",
      "[Parallel(n_jobs=-1)]: Done   2 tasks      | elapsed:    0.8s\n",
      "[Parallel(n_jobs=-1)]: Done 184 tasks      | elapsed:    1.4s\n",
      "[Parallel(n_jobs=-1)]: Done 1152 tasks      | elapsed:    2.8s\n"
     ]
    },
    {
     "name": "stdout",
     "output_type": "stream",
     "text": [
      "{'C': 2, 'decision_function_shape': 'ovo', 'degree': 2, 'gamma': 'scale', 'kernel': 'rbf', 'max_iter': -1, 'tol': 0.001}\n",
      "\n",
      "\n",
      "SVC(C=2, break_ties=False, cache_size=200, class_weight=None, coef0=0.0,\n",
      "    decision_function_shape='ovo', degree=2, gamma='scale', kernel='rbf',\n",
      "    max_iter=-1, probability=True, random_state=None, shrinking=True, tol=0.001,\n",
      "    verbose=False)\n"
     ]
    },
    {
     "name": "stderr",
     "output_type": "stream",
     "text": [
      "[Parallel(n_jobs=-1)]: Done 1620 out of 1620 | elapsed:    3.4s finished\n"
     ]
    }
   ],
   "source": [
    "param_grid = {\n",
    "    'C': [1, 2, 5],\n",
    "    'gamma': [0.0001, 0.01, 'scale'],\n",
    "    'kernel': ['rbf', 'linear'],\n",
    "    'degree': [2, 3, 4],\n",
    "    'max_iter': [-1],\n",
    "    'decision_function_shape': ['ovo', 'ovr'],\n",
    "    'tol': [1e-3, 1e-5, 1e-6]\n",
    "}\n",
    "\n",
    "grid_svc_std = GridSearchCV(SVC(probability=True),param_grid,cv=KF_K,scoring=recall_scorer,refit=True,verbose=1,n_jobs=-1)\n",
    "grid_svc_std.fit(X_train_std_scaled,y_train)\n",
    "\n",
    "\n",
    "print (grid_svc_std.best_params_)\n",
    "print ('\\n')\n",
    "print (grid_svc_std.best_estimator_)"
   ]
  },
  {
   "cell_type": "code",
   "execution_count": 10,
   "metadata": {},
   "outputs": [
    {
     "name": "stdout",
     "output_type": "stream",
     "text": [
      "              precision    recall  f1-score   support\n",
      "\n",
      "           0       0.98      0.97      0.98       104\n",
      "           1       0.96      0.97      0.96        67\n",
      "\n",
      "    accuracy                           0.97       171\n",
      "   macro avg       0.97      0.97      0.97       171\n",
      "weighted avg       0.97      0.97      0.97       171\n",
      "\n"
     ]
    },
    {
     "data": {
      "text/plain": [
       "<matplotlib.axes._subplots.AxesSubplot at 0x2aab30066ed0>"
      ]
     },
     "execution_count": 10,
     "metadata": {},
     "output_type": "execute_result"
    },
    {
     "data": {
      "image/png": "[encoded data removed]",
      "text/plain": [
       "<Figure size 432x288 with 2 Axes>"
      ]
     },
     "metadata": {
      "needs_background": "light"
     },
     "output_type": "display_data"
    }
   ],
   "source": [
    "y_predict_std = grid_svc_std.predict(X_test_std_scaled)\n",
    "cm = confusion_matrix(y_test, y_predict_std)\n",
    "\n",
    "cm = np.array(confusion_matrix(y_test, y_predict_std, labels=cancer_labels))\n",
    "confusion = pd.DataFrame(cm, index=['is_cancer', 'is_healthy'],\n",
    "                         columns=['predicted_cancer','predicted_healthy'])\n",
    "\n",
    "confusion\n",
    "\n",
    "\n",
    "print(classification_report(y_test,y_predict_std))\n",
    "sns.heatmap(confusion,annot=True,fmt=\"d\")"
   ]
  },
  {
   "cell_type": "markdown",
   "metadata": {},
   "source": [
    "## MinMax Scaler"
   ]
  },
  {
   "cell_type": "code",
   "execution_count": 11,
   "metadata": {},
   "outputs": [
    {
     "name": "stdout",
     "output_type": "stream",
     "text": [
      "Fitting 5 folds for each of 324 candidates, totalling 1620 fits\n"
     ]
    },
    {
     "name": "stderr",
     "output_type": "stream",
     "text": [
      "[Parallel(n_jobs=-1)]: Using backend LokyBackend with 24 concurrent workers.\n",
      "[Parallel(n_jobs=-1)]: Done   2 tasks      | elapsed:    0.1s\n",
      "[Parallel(n_jobs=-1)]: Done 320 tasks      | elapsed:    0.9s\n"
     ]
    },
    {
     "name": "stdout",
     "output_type": "stream",
     "text": [
      "{'C': 2, 'decision_function_shape': 'ovo', 'degree': 2, 'gamma': 'scale', 'kernel': 'rbf', 'max_iter': -1, 'tol': 0.001}\n",
      "\n",
      "\n",
      "SVC(C=2, break_ties=False, cache_size=200, class_weight=None, coef0=0.0,\n",
      "    decision_function_shape='ovo', degree=2, gamma='scale', kernel='rbf',\n",
      "    max_iter=-1, probability=True, random_state=None, shrinking=True, tol=0.001,\n",
      "    verbose=False)\n"
     ]
    },
    {
     "name": "stderr",
     "output_type": "stream",
     "text": [
      "[Parallel(n_jobs=-1)]: Done 1620 out of 1620 | elapsed:    2.2s finished\n"
     ]
    }
   ],
   "source": [
    "param_grid = {\n",
    "    'C': [1, 2, 5],\n",
    "    'gamma': [0.0001, 0.01, 'scale'],\n",
    "    'kernel': ['rbf', 'linear'],\n",
    "    'degree': [2, 3, 4],\n",
    "    'max_iter': [-1],\n",
    "    'decision_function_shape': ['ovo', 'ovr'],\n",
    "    'tol': [1e-3, 1e-5, 1e-6]\n",
    "}\n",
    "\n",
    "grid_svc_mm = GridSearchCV(SVC(probability=True),param_grid,cv=KF_K,scoring=recall_scorer,refit=True,verbose=1,n_jobs=-1)\n",
    "grid_svc_mm.fit(X_train_mm_scaled,y_train)\n",
    "\n",
    "\n",
    "print (grid_svc_mm.best_params_)\n",
    "print ('\\n')\n",
    "print (grid_svc_mm.best_estimator_)"
   ]
  },
  {
   "cell_type": "code",
   "execution_count": 12,
   "metadata": {},
   "outputs": [
    {
     "name": "stdout",
     "output_type": "stream",
     "text": [
      "              precision    recall  f1-score   support\n",
      "\n",
      "           0       1.00      0.01      0.02       104\n",
      "           1       0.39      1.00      0.57        67\n",
      "\n",
      "    accuracy                           0.40       171\n",
      "   macro avg       0.70      0.50      0.29       171\n",
      "weighted avg       0.76      0.40      0.23       171\n",
      "\n"
     ]
    },
    {
     "data": {
      "text/plain": [
       "<matplotlib.axes._subplots.AxesSubplot at 0x2aab30101b90>"
      ]
     },
     "execution_count": 12,
     "metadata": {},
     "output_type": "execute_result"
    },
    {
     "data": {
      "image/png": "[encoded data removed]",
      "text/plain": [
       "<Figure size 432x288 with 2 Axes>"
      ]
     },
     "metadata": {
      "needs_background": "light"
     },
     "output_type": "display_data"
    }
   ],
   "source": [
    "y_predict = grid_svc_mm.predict(X_test_mm_scaled)\n",
    "cm = confusion_matrix(y_test, y_predict)\n",
    "\n",
    "cm = np.array(confusion_matrix(y_test, y_predict, labels=cancer_labels))\n",
    "confusion = pd.DataFrame(cm, index=['is_cancer', 'is_healthy'],\n",
    "                         columns=['predicted_cancer','predicted_healthy'])\n",
    "\n",
    "confusion\n",
    "\n",
    "\n",
    "print(classification_report(y_test,y_predict))\n",
    "sns.heatmap(confusion,annot=True,fmt=\"d\")"
   ]
  },
  {
   "cell_type": "markdown",
   "metadata": {},
   "source": [
    "## Comparison - MinMax, Standard"
   ]
  },
  {
   "cell_type": "code",
   "execution_count": 13,
   "metadata": {},
   "outputs": [
    {
     "name": "stdout",
     "output_type": "stream",
     "text": [
      "Evaluating model: SVM MinMax\n",
      "TRAIN: 318, TEST: 80, X_k_train: (318, 30), X_k_test: (80, 30)\n",
      "Fitting 5 folds for each of 324 candidates, totalling 1620 fits\n"
     ]
    },
    {
     "name": "stderr",
     "output_type": "stream",
     "text": [
      "[Parallel(n_jobs=-1)]: Using backend LokyBackend with 24 concurrent workers.\n",
      "[Parallel(n_jobs=-1)]: Done   2 tasks      | elapsed:    0.1s\n",
      "[Parallel(n_jobs=-1)]: Done 320 tasks      | elapsed:    0.8s\n",
      "[Parallel(n_jobs=-1)]: Done 1320 tasks      | elapsed:    2.3s\n",
      "[Parallel(n_jobs=-1)]: Done 1620 out of 1620 | elapsed:    2.7s finished\n",
      "[Parallel(n_jobs=-1)]: Using backend LokyBackend with 24 concurrent workers.\n",
      "[Parallel(n_jobs=-1)]: Done   2 tasks      | elapsed:    0.1s\n"
     ]
    },
    {
     "name": "stdout",
     "output_type": "stream",
     "text": [
      "TRAIN: 318, TEST: 80, X_k_train: (318, 30), X_k_test: (80, 30)\n",
      "Fitting 5 folds for each of 324 candidates, totalling 1620 fits\n"
     ]
    },
    {
     "name": "stderr",
     "output_type": "stream",
     "text": [
      "[Parallel(n_jobs=-1)]: Done 368 tasks      | elapsed:    0.8s\n",
      "[Parallel(n_jobs=-1)]: Done 1368 tasks      | elapsed:    2.2s\n",
      "[Parallel(n_jobs=-1)]: Done 1620 out of 1620 | elapsed:    2.6s finished\n",
      "[Parallel(n_jobs=-1)]: Using backend LokyBackend with 24 concurrent workers.\n",
      "[Parallel(n_jobs=-1)]: Done   2 tasks      | elapsed:    0.1s\n"
     ]
    },
    {
     "name": "stdout",
     "output_type": "stream",
     "text": [
      "TRAIN: 318, TEST: 80, X_k_train: (318, 30), X_k_test: (80, 30)\n",
      "Fitting 5 folds for each of 324 candidates, totalling 1620 fits\n"
     ]
    },
    {
     "name": "stderr",
     "output_type": "stream",
     "text": [
      "[Parallel(n_jobs=-1)]: Done 368 tasks      | elapsed:    0.8s\n",
      "[Parallel(n_jobs=-1)]: Done 1620 out of 1620 | elapsed:    2.1s finished\n",
      "[Parallel(n_jobs=-1)]: Using backend LokyBackend with 24 concurrent workers.\n",
      "[Parallel(n_jobs=-1)]: Done   2 tasks      | elapsed:    0.1s\n"
     ]
    },
    {
     "name": "stdout",
     "output_type": "stream",
     "text": [
      "TRAIN: 319, TEST: 79, X_k_train: (319, 30), X_k_test: (79, 30)\n",
      "Fitting 5 folds for each of 324 candidates, totalling 1620 fits\n"
     ]
    },
    {
     "name": "stderr",
     "output_type": "stream",
     "text": [
      "[Parallel(n_jobs=-1)]: Done 368 tasks      | elapsed:    0.8s\n",
      "[Parallel(n_jobs=-1)]: Done 1368 tasks      | elapsed:    2.2s\n",
      "[Parallel(n_jobs=-1)]: Done 1573 out of 1620 | elapsed:    2.4s remaining:    0.1s\n",
      "[Parallel(n_jobs=-1)]: Done 1620 out of 1620 | elapsed:    2.5s finished\n",
      "[Parallel(n_jobs=-1)]: Using backend LokyBackend with 24 concurrent workers.\n",
      "[Parallel(n_jobs=-1)]: Done   2 tasks      | elapsed:    0.1s\n"
     ]
    },
    {
     "name": "stdout",
     "output_type": "stream",
     "text": [
      "TRAIN: 319, TEST: 79, X_k_train: (319, 30), X_k_test: (79, 30)\n",
      "Fitting 5 folds for each of 324 candidates, totalling 1620 fits\n"
     ]
    },
    {
     "name": "stderr",
     "output_type": "stream",
     "text": [
      "[Parallel(n_jobs=-1)]: Done 272 tasks      | elapsed:    0.8s\n",
      "[Parallel(n_jobs=-1)]: Done 1272 tasks      | elapsed:    2.3s\n",
      "[Parallel(n_jobs=-1)]: Done 1620 out of 1620 | elapsed:    2.7s finished\n",
      "[Parallel(n_jobs=-1)]: Using backend LokyBackend with 24 concurrent workers.\n",
      "[Parallel(n_jobs=-1)]: Done   2 tasks      | elapsed:    0.1s\n"
     ]
    },
    {
     "name": "stdout",
     "output_type": "stream",
     "text": [
      "SVC K-Fold mean_accuracy_score: 0.975, accuracy_scores: [0.975, 0.9875, 0.975, 0.9746835443037974, 0.9620253164556962]\n",
      "SVC K-Fold mean_precision_score: 0.977, precision_scores: [0.9733333333333334, 0.9919354838709677, 0.9791666666666667, 0.9814814814814814, 0.960594315245478]\n",
      "SVC K-Fold mean_recall_score: 0.969, recall_scores: [0.9733333333333334, 0.9736842105263157, 0.9705882352941176, 0.962962962962963, 0.9629870129870131]\n",
      "SVC K-Fold mean_f1_score: 0.973, f1_scores: [0.9733333333333334, 0.98242144583608, 0.9742101869761444, 0.9713352685050798, 0.961631860126275]\n",
      "SVC K-Fold mean_roc_auc_score: 0.993, roc_auc_scores: [0.9946666666666666, 0.9741156169111302, 1.0, 0.9992877492877492, 0.9987012987012988]\n",
      "result: {'Scaling Method': 'SVM MinMax', 'Accuracy': array([0.975]), 'Precision': array([0.977]), 'Recall': array([0.969]), 'F1': array([0.973]), 'ROC': array([0.993])}\n",
      "=================================\n",
      "Evaluating model: SVM Standard\n",
      "TRAIN: 318, TEST: 80, X_k_train: (318, 30), X_k_test: (80, 30)\n",
      "Fitting 5 folds for each of 324 candidates, totalling 1620 fits\n"
     ]
    },
    {
     "name": "stderr",
     "output_type": "stream",
     "text": [
      "[Parallel(n_jobs=-1)]: Done 368 tasks      | elapsed:    0.8s\n",
      "[Parallel(n_jobs=-1)]: Done 1368 tasks      | elapsed:    2.2s\n",
      "[Parallel(n_jobs=-1)]: Done 1620 out of 1620 | elapsed:    2.6s finished\n",
      "[Parallel(n_jobs=-1)]: Using backend LokyBackend with 24 concurrent workers.\n",
      "[Parallel(n_jobs=-1)]: Done   2 tasks      | elapsed:    0.1s\n"
     ]
    },
    {
     "name": "stdout",
     "output_type": "stream",
     "text": [
      "TRAIN: 318, TEST: 80, X_k_train: (318, 30), X_k_test: (80, 30)\n",
      "Fitting 5 folds for each of 324 candidates, totalling 1620 fits\n"
     ]
    },
    {
     "name": "stderr",
     "output_type": "stream",
     "text": [
      "[Parallel(n_jobs=-1)]: Done 256 tasks      | elapsed:    0.7s\n",
      "[Parallel(n_jobs=-1)]: Done 1506 tasks      | elapsed:    2.4s\n",
      "[Parallel(n_jobs=-1)]: Done 1620 out of 1620 | elapsed:    2.7s finished\n",
      "[Parallel(n_jobs=-1)]: Using backend LokyBackend with 24 concurrent workers.\n",
      "[Parallel(n_jobs=-1)]: Done   2 tasks      | elapsed:    0.0s\n"
     ]
    },
    {
     "name": "stdout",
     "output_type": "stream",
     "text": [
      "TRAIN: 318, TEST: 80, X_k_train: (318, 30), X_k_test: (80, 30)\n",
      "Fitting 5 folds for each of 324 candidates, totalling 1620 fits\n"
     ]
    },
    {
     "name": "stderr",
     "output_type": "stream",
     "text": [
      "[Parallel(n_jobs=-1)]: Done 400 tasks      | elapsed:    1.0s\n",
      "[Parallel(n_jobs=-1)]: Done 1620 out of 1620 | elapsed:    2.3s finished\n",
      "[Parallel(n_jobs=-1)]: Using backend LokyBackend with 24 concurrent workers.\n",
      "[Parallel(n_jobs=-1)]: Done   2 tasks      | elapsed:    0.1s\n"
     ]
    },
    {
     "name": "stdout",
     "output_type": "stream",
     "text": [
      "TRAIN: 319, TEST: 79, X_k_train: (319, 30), X_k_test: (79, 30)\n",
      "Fitting 5 folds for each of 324 candidates, totalling 1620 fits\n"
     ]
    },
    {
     "name": "stderr",
     "output_type": "stream",
     "text": [
      "[Parallel(n_jobs=-1)]: Done 368 tasks      | elapsed:    0.9s\n",
      "[Parallel(n_jobs=-1)]: Done 1368 tasks      | elapsed:    2.3s\n",
      "[Parallel(n_jobs=-1)]: Done 1620 out of 1620 | elapsed:    2.6s finished\n",
      "[Parallel(n_jobs=-1)]: Using backend LokyBackend with 24 concurrent workers.\n",
      "[Parallel(n_jobs=-1)]: Done   2 tasks      | elapsed:    0.1s\n"
     ]
    },
    {
     "name": "stdout",
     "output_type": "stream",
     "text": [
      "TRAIN: 319, TEST: 79, X_k_train: (319, 30), X_k_test: (79, 30)\n",
      "Fitting 5 folds for each of 324 candidates, totalling 1620 fits\n"
     ]
    },
    {
     "name": "stderr",
     "output_type": "stream",
     "text": [
      "[Parallel(n_jobs=-1)]: Done 368 tasks      | elapsed:    0.8s\n",
      "[Parallel(n_jobs=-1)]: Done 1368 tasks      | elapsed:    2.2s\n"
     ]
    },
    {
     "name": "stdout",
     "output_type": "stream",
     "text": [
      "SVC K-Fold mean_accuracy_score: 0.975, accuracy_scores: [0.975, 0.9875, 0.975, 0.9746835443037974, 0.9620253164556962]\n",
      "SVC K-Fold mean_precision_score: 0.977, precision_scores: [0.9733333333333334, 0.9919354838709677, 0.9791666666666667, 0.9814814814814814, 0.960594315245478]\n",
      "SVC K-Fold mean_recall_score: 0.969, recall_scores: [0.9733333333333334, 0.9736842105263157, 0.9705882352941176, 0.962962962962963, 0.9629870129870131]\n",
      "SVC K-Fold mean_f1_score: 0.973, f1_scores: [0.9733333333333334, 0.98242144583608, 0.9742101869761444, 0.9713352685050798, 0.961631860126275]\n",
      "SVC K-Fold mean_roc_auc_score: 0.993, roc_auc_scores: [0.9946666666666666, 0.9741156169111302, 1.0, 0.9992877492877492, 0.9987012987012988]\n",
      "result: {'Scaling Method': 'SVM Standard', 'Accuracy': array([0.975]), 'Precision': array([0.977]), 'Recall': array([0.969]), 'F1': array([0.973]), 'ROC': array([0.993])}\n",
      "=================================\n"
     ]
    },
    {
     "name": "stderr",
     "output_type": "stream",
     "text": [
      "[Parallel(n_jobs=-1)]: Done 1573 out of 1620 | elapsed:    2.5s remaining:    0.1s\n",
      "[Parallel(n_jobs=-1)]: Done 1620 out of 1620 | elapsed:    2.6s finished\n"
     ]
    }
   ],
   "source": [
    "k_fold_models = [\n",
    "    {'name': 'SVM MinMax', 'model': grid_svc_mm},\n",
    "    {'name': 'SVM Standard', 'model': grid_svc_std}\n",
    "]\n",
    "\n",
    "column_names = ['Scaling Method', 'Accuracy', 'Precision', 'Recall', 'F1', 'ROC']\n",
    "k_fold_res_df = pd.DataFrame(columns=column_names)\n",
    "\n",
    "for item in k_fold_models:\n",
    "    eval_model = item['model']\n",
    "    eval_name = item['name']\n",
    "    print(f\"Evaluating model: {item['name']}\")\n",
    "    \n",
    "    accuracy_scores = []\n",
    "    precision_scores = []\n",
    "    recall_scores = []\n",
    "    f1_scores = []\n",
    "    cohen_kappa_scores = []\n",
    "    roc_auc_scores = []\n",
    "    \n",
    "    if eval_name == 'SVM MinMax':\n",
    "        kf_split = kf.split(X_train_mm_scaled)\n",
    "    elif eval_name == 'SVM Standard':\n",
    "        kf_split = kf.split(X_train_std_scaled)\n",
    "    else: # fail\n",
    "        kf_split = None\n",
    "        \n",
    "        \n",
    "    for train_index, test_index in kf_split:\n",
    "        \n",
    "        if eval_name == 'SVM MinMax':\n",
    "            X_k_train = X_train_mm_scaled[X_train_mm_scaled.index.isin(train_index)]\n",
    "            X_k_test = X_train_mm_scaled[X_train_mm_scaled.index.isin(test_index)]\n",
    "        elif eval_name == 'SVM Standard':\n",
    "            X_k_train = X_train_std_scaled[X_train_std_scaled.index.isin(train_index)]\n",
    "            X_k_test = X_train_std_scaled[X_train_std_scaled.index.isin(test_index)]\n",
    "        else: # fail\n",
    "            X_k_train = None\n",
    "            X_k_test = None\n",
    "\n",
    "        y_k_train = y_train[y_train.index.isin(train_index)]\n",
    "        y_k_test = y_train[y_train.index.isin(test_index)]\n",
    "\n",
    "        print(f\"TRAIN: {len(train_index)}, TEST: {len(test_index)}, X_k_train: {X_k_train.shape}, X_k_test: {X_k_test.shape}\")\n",
    "\n",
    "        eval_model.fit(X_k_train, y_k_train)\n",
    "        predictions = eval_model.predict(X_k_test)\n",
    "        predictions_proba = eval_model.predict_proba(X_k_test)\n",
    "\n",
    "        accuracy_scores.append(accuracy_score(y_k_test, predictions))\n",
    "        precision_scores.append(precision_score(y_k_test, predictions, average=\"macro\"))\n",
    "        recall_scores.append(recall_score(y_k_test, predictions, average=\"macro\"))\n",
    "        f1_scores.append(f1_score(y_k_test, predictions, average=\"macro\"))\n",
    "        roc_auc_scores.append(roc_auc_score(y_k_test, predictions_proba[:,1]))\n",
    "    \n",
    "    print(f\"SVC K-Fold mean_accuracy_score: {np.round(np.mean(accuracy_scores), 3)}, accuracy_scores: {accuracy_scores}\")\n",
    "    print(f\"SVC K-Fold mean_precision_score: {np.round(np.mean(precision_scores), 3)}, precision_scores: {precision_scores}\")\n",
    "    print(f\"SVC K-Fold mean_recall_score: {np.round(np.mean(recall_scores), 3)}, recall_scores: {recall_scores}\")\n",
    "    print(f\"SVC K-Fold mean_f1_score: {np.round(np.mean(f1_scores), 3)}, f1_scores: {f1_scores}\")\n",
    "    print(f\"SVC K-Fold mean_roc_auc_score: {np.round(np.mean(roc_auc_scores), 3)}, roc_auc_scores: {roc_auc_scores}\")\n",
    "\n",
    "    result = {\n",
    "        'Scaling Method': eval_name,\n",
    "        'Accuracy': np.round(np.mean(accuracy_scores), 3).flatten(),\n",
    "        'Precision': np.round(np.mean(precision_scores), 3).flatten(),\n",
    "        'Recall': np.round(np.mean(recall_scores), 3).flatten(),\n",
    "        'F1': np.round(np.mean(f1_scores), 3).flatten(),\n",
    "        'ROC': np.round(np.mean(roc_auc_scores), 3).flatten()\n",
    "    }\n",
    "    print(f\"result: {result}\")\n",
    "    k_fold_res_df = k_fold_res_df.append(pd.DataFrame(result, columns=column_names))\n",
    "    print(\"=================================\")\n",
    "\n",
    "\n"
   ]
  },
  {
   "cell_type": "code",
   "execution_count": 14,
   "metadata": {},
   "outputs": [
    {
     "data": {
      "text/html": [
       "<div>\n",
       "<style scoped>\n",
       "    .dataframe tbody tr th:only-of-type {\n",
       "        vertical-align: middle;\n",
       "    }\n",
       "\n",
       "    .dataframe tbody tr th {\n",
       "        vertical-align: top;\n",
       "    }\n",
       "\n",
       "    .dataframe thead th {\n",
       "        text-align: right;\n",
       "    }\n",
       "</style>\n",
       "<table border=\"1\" class=\"dataframe\">\n",
       "  <thead>\n",
       "    <tr style=\"text-align: right;\">\n",
       "      <th></th>\n",
       "      <th>Accuracy</th>\n",
       "      <th>Precision</th>\n",
       "      <th>Recall</th>\n",
       "      <th>F1</th>\n",
       "      <th>ROC</th>\n",
       "    </tr>\n",
       "    <tr>\n",
       "      <th>Scaling Method</th>\n",
       "      <th></th>\n",
       "      <th></th>\n",
       "      <th></th>\n",
       "      <th></th>\n",
       "      <th></th>\n",
       "    </tr>\n",
       "  </thead>\n",
       "  <tbody>\n",
       "    <tr>\n",
       "      <th>SVM MinMax</th>\n",
       "      <td>0.975</td>\n",
       "      <td>0.977</td>\n",
       "      <td>0.969</td>\n",
       "      <td>0.973</td>\n",
       "      <td>0.993</td>\n",
       "    </tr>\n",
       "    <tr>\n",
       "      <th>SVM Standard</th>\n",
       "      <td>0.975</td>\n",
       "      <td>0.977</td>\n",
       "      <td>0.969</td>\n",
       "      <td>0.973</td>\n",
       "      <td>0.993</td>\n",
       "    </tr>\n",
       "  </tbody>\n",
       "</table>\n",
       "</div>"
      ],
      "text/plain": [
       "                Accuracy  Precision  Recall     F1    ROC\n",
       "Scaling Method                                           \n",
       "SVM MinMax         0.975      0.977   0.969  0.973  0.993\n",
       "SVM Standard       0.975      0.977   0.969  0.973  0.993"
      ]
     },
     "execution_count": 14,
     "metadata": {},
     "output_type": "execute_result"
    },
    {
     "data": {
      "image/png": "[encoded data removed]",
      "text/plain": [
       "<Figure size 720x360 with 1 Axes>"
      ]
     },
     "metadata": {
      "needs_background": "light"
     },
     "output_type": "display_data"
    }
   ],
   "source": [
    "k_fold_res_df.set_index('Scaling Method', inplace=True)\n",
    "invert_scale_scores_df = k_fold_res_df.transpose()\n",
    "\n",
    "invert_scale_scores_df.plot(figsize=(10,5), grid=True)\n",
    "\n",
    "k_fold_res_df.head()"
   ]
  },
  {
   "cell_type": "code",
   "execution_count": 15,
   "metadata": {},
   "outputs": [
    {
     "name": "stdout",
     "output_type": "stream",
     "text": [
      "Evaluating model: SVM MinMax\n",
      "Fitting 5 folds for each of 324 candidates, totalling 1620 fits\n"
     ]
    },
    {
     "name": "stderr",
     "output_type": "stream",
     "text": [
      "[Parallel(n_jobs=-1)]: Using backend LokyBackend with 24 concurrent workers.\n",
      "[Parallel(n_jobs=-1)]: Done   2 tasks      | elapsed:    0.1s\n",
      "[Parallel(n_jobs=-1)]: Done 368 tasks      | elapsed:    0.8s\n",
      "[Parallel(n_jobs=-1)]: Done 1368 tasks      | elapsed:    2.2s\n",
      "[Parallel(n_jobs=-1)]: Done 1620 out of 1620 | elapsed:    2.6s finished\n",
      "[Parallel(n_jobs=-1)]: Using backend LokyBackend with 24 concurrent workers.\n",
      "[Parallel(n_jobs=-1)]: Done   2 tasks      | elapsed:    0.1s\n"
     ]
    },
    {
     "name": "stdout",
     "output_type": "stream",
     "text": [
      "result: {'Scaling Method': 'SVM MinMax', 'Accuracy': array([0.39766082]), 'Precision': array([0.69705882]), 'Recall': array([0.50480769]), 'F1': array([0.29222423]), 'ROC': array([0.99540758])}\n",
      "=================================\n",
      "Evaluating model: SVM Standard\n",
      "Fitting 5 folds for each of 324 candidates, totalling 1620 fits\n"
     ]
    },
    {
     "name": "stderr",
     "output_type": "stream",
     "text": [
      "[Parallel(n_jobs=-1)]: Done 368 tasks      | elapsed:    0.8s\n",
      "[Parallel(n_jobs=-1)]: Done 1368 tasks      | elapsed:    2.2s\n"
     ]
    },
    {
     "name": "stdout",
     "output_type": "stream",
     "text": [
      "result: {'Scaling Method': 'SVM Standard', 'Accuracy': array([0.97076023]), 'Precision': array([0.96823244]), 'Recall': array([0.97065155]), 'F1': array([0.96940419]), 'ROC': array([0.99483352])}\n",
      "=================================\n"
     ]
    },
    {
     "name": "stderr",
     "output_type": "stream",
     "text": [
      "[Parallel(n_jobs=-1)]: Done 1620 out of 1620 | elapsed:    2.6s finished\n"
     ]
    },
    {
     "data": {
      "text/html": [
       "<div>\n",
       "<style scoped>\n",
       "    .dataframe tbody tr th:only-of-type {\n",
       "        vertical-align: middle;\n",
       "    }\n",
       "\n",
       "    .dataframe tbody tr th {\n",
       "        vertical-align: top;\n",
       "    }\n",
       "\n",
       "    .dataframe thead th {\n",
       "        text-align: right;\n",
       "    }\n",
       "</style>\n",
       "<table border=\"1\" class=\"dataframe\">\n",
       "  <thead>\n",
       "    <tr style=\"text-align: right;\">\n",
       "      <th></th>\n",
       "      <th>Accuracy</th>\n",
       "      <th>Precision</th>\n",
       "      <th>Recall</th>\n",
       "      <th>F1</th>\n",
       "      <th>ROC</th>\n",
       "    </tr>\n",
       "    <tr>\n",
       "      <th>Scaling Method</th>\n",
       "      <th></th>\n",
       "      <th></th>\n",
       "      <th></th>\n",
       "      <th></th>\n",
       "      <th></th>\n",
       "    </tr>\n",
       "  </thead>\n",
       "  <tbody>\n",
       "    <tr>\n",
       "      <th>SVM MinMax</th>\n",
       "      <td>0.397661</td>\n",
       "      <td>0.697059</td>\n",
       "      <td>0.504808</td>\n",
       "      <td>0.292224</td>\n",
       "      <td>0.995408</td>\n",
       "    </tr>\n",
       "    <tr>\n",
       "      <th>SVM Standard</th>\n",
       "      <td>0.970760</td>\n",
       "      <td>0.968232</td>\n",
       "      <td>0.970652</td>\n",
       "      <td>0.969404</td>\n",
       "      <td>0.994834</td>\n",
       "    </tr>\n",
       "  </tbody>\n",
       "</table>\n",
       "</div>"
      ],
      "text/plain": [
       "                Accuracy  Precision    Recall        F1       ROC\n",
       "Scaling Method                                                   \n",
       "SVM MinMax      0.397661   0.697059  0.504808  0.292224  0.995408\n",
       "SVM Standard    0.970760   0.968232  0.970652  0.969404  0.994834"
      ]
     },
     "execution_count": 15,
     "metadata": {},
     "output_type": "execute_result"
    },
    {
     "data": {
      "image/png": "[encoded data removed]",
      "text/plain": [
       "<Figure size 720x360 with 1 Axes>"
      ]
     },
     "metadata": {
      "needs_background": "light"
     },
     "output_type": "display_data"
    }
   ],
   "source": [
    "k_fold_models = [\n",
    "    {'name': 'SVM MinMax', 'model': grid_svc_mm},\n",
    "    {'name': 'SVM Standard', 'model': grid_svc_std}\n",
    "]\n",
    "column_names = ['Scaling Method', 'Accuracy', 'Precision', 'Recall', 'F1', 'ROC']\n",
    "k_fold_res_df = pd.DataFrame(columns=column_names)\n",
    "\n",
    "for item in k_fold_models:\n",
    "    eval_model = item['model']\n",
    "    eval_name = item['name']\n",
    "    print(f\"Evaluating model: {item['name']}\")\n",
    "    \n",
    "    if eval_name == 'SVM MinMax':\n",
    "        X_k_train = X_train_mm_scaled\n",
    "        X_k_test = X_test_mm_scaled\n",
    "    elif eval_name == 'SVM Standard':\n",
    "        X_k_train = X_train_std_scaled\n",
    "        X_k_test = X_test_std_scaled\n",
    "    else: # fail\n",
    "        X_k_train = None\n",
    "        X_k_test = None\n",
    "        \n",
    "    eval_model.fit(X_k_train, y_train)\n",
    "    predictions = eval_model.predict(X_k_test)\n",
    "    predictions_proba = eval_model.predict_proba(X_k_test)\n",
    "    \n",
    "    result = {\n",
    "        'Scaling Method': eval_name,\n",
    "        'Accuracy': accuracy_score(y_test, predictions).flatten(),\n",
    "        'Precision': precision_score(y_test, predictions, average=\"macro\").flatten(),\n",
    "        'Recall': recall_score(y_test, predictions, average=\"macro\").flatten(),\n",
    "        'F1': f1_score(y_test, predictions, average=\"macro\").flatten(),\n",
    "        'ROC': roc_auc_score(y_test, predictions_proba[:,1]).flatten()\n",
    "    }\n",
    "    print(f\"result: {result}\")\n",
    "    k_fold_res_df = k_fold_res_df.append(pd.DataFrame(result, columns=column_names))\n",
    "    print(\"=================================\")\n",
    "    \n",
    "\n",
    "    \n",
    "k_fold_res_df.set_index('Scaling Method', inplace=True)\n",
    "invert_scale_scores_df = k_fold_res_df.transpose()\n",
    "\n",
    "invert_scale_scores_df.plot(figsize=(10,5), grid=True)\n",
    "\n",
    "k_fold_res_df.head()"
   ]
  },
  {
   "cell_type": "markdown",
   "metadata": {},
   "source": [
    "## GridSearch - SVC with Bagging"
   ]
  },
  {
   "cell_type": "code",
   "execution_count": 16,
   "metadata": {},
   "outputs": [
    {
     "name": "stdout",
     "output_type": "stream",
     "text": [
      "Fitting 5 folds for each of 5832 candidates, totalling 29160 fits\n"
     ]
    },
    {
     "name": "stderr",
     "output_type": "stream",
     "text": [
      "[Parallel(n_jobs=-1)]: Using backend LokyBackend with 24 concurrent workers.\n",
      "[Parallel(n_jobs=-1)]: Done   2 tasks      | elapsed:    0.2s\n",
      "[Parallel(n_jobs=-1)]: Done 254 tasks      | elapsed:    5.0s\n",
      "[Parallel(n_jobs=-1)]: Done 522 tasks      | elapsed:    7.7s\n",
      "[Parallel(n_jobs=-1)]: Done 872 tasks      | elapsed:   11.7s\n",
      "[Parallel(n_jobs=-1)]: Done 1322 tasks      | elapsed:   16.8s\n",
      "[Parallel(n_jobs=-1)]: Done 1872 tasks      | elapsed:   24.6s\n",
      "[Parallel(n_jobs=-1)]: Done 2522 tasks      | elapsed:   31.7s\n",
      "[Parallel(n_jobs=-1)]: Done 3272 tasks      | elapsed:   39.9s\n",
      "[Parallel(n_jobs=-1)]: Done 4122 tasks      | elapsed:   51.2s\n",
      "[Parallel(n_jobs=-1)]: Done 5072 tasks      | elapsed:  1.1min\n",
      "[Parallel(n_jobs=-1)]: Done 6122 tasks      | elapsed:  1.3min\n",
      "[Parallel(n_jobs=-1)]: Done 7272 tasks      | elapsed:  1.5min\n",
      "[Parallel(n_jobs=-1)]: Done 8522 tasks      | elapsed:  1.8min\n",
      "[Parallel(n_jobs=-1)]: Done 9872 tasks      | elapsed:  2.0min\n",
      "[Parallel(n_jobs=-1)]: Done 11322 tasks      | elapsed:  2.3min\n",
      "[Parallel(n_jobs=-1)]: Done 12872 tasks      | elapsed:  2.6min\n",
      "[Parallel(n_jobs=-1)]: Done 14522 tasks      | elapsed:  3.0min\n",
      "[Parallel(n_jobs=-1)]: Done 16272 tasks      | elapsed:  3.3min\n",
      "[Parallel(n_jobs=-1)]: Done 18122 tasks      | elapsed:  3.7min\n",
      "[Parallel(n_jobs=-1)]: Done 20072 tasks      | elapsed:  4.1min\n",
      "[Parallel(n_jobs=-1)]: Done 22122 tasks      | elapsed:  4.6min\n",
      "[Parallel(n_jobs=-1)]: Done 24272 tasks      | elapsed:  5.0min\n",
      "[Parallel(n_jobs=-1)]: Done 26522 tasks      | elapsed:  5.5min\n",
      "[Parallel(n_jobs=-1)]: Done 28872 tasks      | elapsed:  6.0min\n",
      "[Parallel(n_jobs=-1)]: Done 29160 out of 29160 | elapsed:  6.1min finished\n"
     ]
    },
    {
     "name": "stdout",
     "output_type": "stream",
     "text": [
      "{'base_estimator': SVC(C=1, break_ties=False, cache_size=200, class_weight=None, coef0=0.0,\n",
      "    decision_function_shape='ovr', degree=2, gamma=0.0001, kernel='rbf',\n",
      "    max_iter=-1, probability=True, random_state=None, shrinking=True, tol=1e-05,\n",
      "    verbose=False), 'base_estimator__C': 1, 'base_estimator__decision_function_shape': 'ovr', 'base_estimator__degree': 2, 'base_estimator__gamma': 0.0001, 'base_estimator__kernel': 'rbf', 'base_estimator__max_iter': -1, 'base_estimator__tol': 1e-05, 'max_features': 0.5, 'max_samples': 1.0, 'n_estimators': 50}\n",
      "\n",
      "\n",
      "BaggingClassifier(base_estimator=SVC(C=1, break_ties=False, cache_size=200,\n",
      "                                     class_weight=None, coef0=0.0,\n",
      "                                     decision_function_shape='ovr', degree=2,\n",
      "                                     gamma=0.0001, kernel='rbf', max_iter=-1,\n",
      "                                     probability=True, random_state=None,\n",
      "                                     shrinking=True, tol=1e-05, verbose=False),\n",
      "                  bootstrap=True, bootstrap_features=False, max_features=0.5,\n",
      "                  max_samples=1.0, n_estimators=50, n_jobs=None,\n",
      "                  oob_score=False, random_state=None, verbose=0,\n",
      "                  warm_start=False)\n"
     ]
    }
   ],
   "source": [
    "param_grid = {\n",
    "    'base_estimator': [SVC(probability=True)],\n",
    "    'n_estimators': [20, 50, 100],\n",
    "    'max_features' : [0.2, 0.5, 1.0],\n",
    "    'max_samples' : [0.5, 0.8, 1.0],\n",
    "    'base_estimator__C': [1, 2, 5],\n",
    "    'base_estimator__gamma': [0.0001, 0.01, 'scale'],\n",
    "    'base_estimator__kernel': ['rbf', 'linear'],\n",
    "    'base_estimator__degree': [2, 3, 4],\n",
    "    'base_estimator__max_iter': [-1],\n",
    "    'base_estimator__decision_function_shape': ['ovo', 'ovr'],\n",
    "    'base_estimator__tol': [1e-3, 1e-5]\n",
    "}\n",
    "\n",
    "grid_svc_bagging_std = GridSearchCV(\n",
    "    BaggingClassifier(),param_grid,cv=KF_K,scoring=recall_scorer,refit=True,verbose=1,n_jobs=-1\n",
    ")\n",
    "grid_svc_bagging_std.fit(X_train_std_scaled,y_train)\n",
    "\n",
    "\n",
    "print (grid_svc_bagging_std.best_params_)\n",
    "print ('\\n')\n",
    "print (grid_svc_bagging_std.best_estimator_)"
   ]
  },
  {
   "cell_type": "code",
   "execution_count": 17,
   "metadata": {},
   "outputs": [
    {
     "name": "stdout",
     "output_type": "stream",
     "text": [
      "              precision    recall  f1-score   support\n",
      "\n",
      "           0       0.93      0.94      0.94       104\n",
      "           1       0.91      0.90      0.90        67\n",
      "\n",
      "    accuracy                           0.92       171\n",
      "   macro avg       0.92      0.92      0.92       171\n",
      "weighted avg       0.92      0.92      0.92       171\n",
      "\n"
     ]
    },
    {
     "data": {
      "text/plain": [
       "<matplotlib.axes._subplots.AxesSubplot at 0x2aab33d90290>"
      ]
     },
     "execution_count": 17,
     "metadata": {},
     "output_type": "execute_result"
    },
    {
     "data": {
      "image/png": "[encoded data removed]",
      "text/plain": [
       "<Figure size 432x288 with 2 Axes>"
      ]
     },
     "metadata": {
      "needs_background": "light"
     },
     "output_type": "display_data"
    }
   ],
   "source": [
    "y_predict_std = grid_svc_bagging_std.predict(X_test_std_scaled)\n",
    "cm = confusion_matrix(y_test, y_predict_std)\n",
    "\n",
    "cm = np.array(confusion_matrix(y_test, y_predict_std, labels=cancer_labels))\n",
    "confusion = pd.DataFrame(cm, index=['is_cancer', 'is_healthy'],\n",
    "                         columns=['predicted_cancer','predicted_healthy'])\n",
    "\n",
    "confusion\n",
    "\n",
    "\n",
    "print(classification_report(y_test,y_predict_std))\n",
    "sns.heatmap(confusion,annot=True,fmt=\"d\")"
   ]
  },
  {
   "cell_type": "markdown",
   "metadata": {},
   "source": [
    "## GridSearch - SVC with Adaptive Boosting"
   ]
  },
  {
   "cell_type": "code",
   "execution_count": 18,
   "metadata": {},
   "outputs": [
    {
     "name": "stdout",
     "output_type": "stream",
     "text": [
      "Fitting 5 folds for each of 1944 candidates, totalling 9720 fits\n"
     ]
    },
    {
     "name": "stderr",
     "output_type": "stream",
     "text": [
      "[Parallel(n_jobs=-1)]: Using backend LokyBackend with 24 concurrent workers.\n",
      "[Parallel(n_jobs=-1)]: Done   2 tasks      | elapsed:    0.6s\n",
      "[Parallel(n_jobs=-1)]: Done 152 tasks      | elapsed:    9.9s\n",
      "[Parallel(n_jobs=-1)]: Done 402 tasks      | elapsed:   20.0s\n",
      "[Parallel(n_jobs=-1)]: Done 752 tasks      | elapsed:   38.0s\n",
      "[Parallel(n_jobs=-1)]: Done 1202 tasks      | elapsed:   57.6s\n",
      "[Parallel(n_jobs=-1)]: Done 1752 tasks      | elapsed:  1.4min\n",
      "[Parallel(n_jobs=-1)]: Done 2402 tasks      | elapsed:  1.9min\n",
      "[Parallel(n_jobs=-1)]: Done 3152 tasks      | elapsed:  2.4min\n",
      "[Parallel(n_jobs=-1)]: Done 4002 tasks      | elapsed:  3.1min\n",
      "[Parallel(n_jobs=-1)]: Done 4952 tasks      | elapsed:  3.8min\n",
      "[Parallel(n_jobs=-1)]: Done 6002 tasks      | elapsed:  4.5min\n",
      "[Parallel(n_jobs=-1)]: Done 7152 tasks      | elapsed:  5.4min\n",
      "[Parallel(n_jobs=-1)]: Done 8402 tasks      | elapsed:  6.3min\n",
      "[Parallel(n_jobs=-1)]: Done 9720 out of 9720 | elapsed:  7.2min finished\n"
     ]
    },
    {
     "name": "stdout",
     "output_type": "stream",
     "text": [
      "{'base_estimator': SVC(C=1, break_ties=False, cache_size=200, class_weight=None, coef0=0.0,\n",
      "    decision_function_shape='ovo', degree=2, gamma='scale', kernel='rbf',\n",
      "    max_iter=-1, probability=True, random_state=None, shrinking=True, tol=0.001,\n",
      "    verbose=False), 'base_estimator__C': 1, 'base_estimator__decision_function_shape': 'ovo', 'base_estimator__degree': 2, 'base_estimator__gamma': 'scale', 'base_estimator__kernel': 'rbf', 'base_estimator__max_iter': -1, 'base_estimator__tol': 0.001, 'learning_rate': 0.2, 'n_estimators': 50}\n",
      "\n",
      "\n",
      "AdaBoostClassifier(algorithm='SAMME.R',\n",
      "                   base_estimator=SVC(C=1, break_ties=False, cache_size=200,\n",
      "                                      class_weight=None, coef0=0.0,\n",
      "                                      decision_function_shape='ovo', degree=2,\n",
      "                                      gamma='scale', kernel='rbf', max_iter=-1,\n",
      "                                      probability=True, random_state=None,\n",
      "                                      shrinking=True, tol=0.001,\n",
      "                                      verbose=False),\n",
      "                   learning_rate=0.2, n_estimators=50, random_state=None)\n"
     ]
    }
   ],
   "source": [
    "param_grid = {\n",
    "    'base_estimator': [SVC(probability=True)],\n",
    "    'n_estimators': [20, 50, 100],\n",
    "    'learning_rate' : [0.2, 0.5, 1.0],\n",
    "    'base_estimator__C': [1, 2, 5],\n",
    "    'base_estimator__gamma': [0.0001, 0.01, 'scale'],\n",
    "    'base_estimator__kernel': ['rbf', 'linear'],\n",
    "    'base_estimator__degree': [2, 3, 4],\n",
    "    'base_estimator__max_iter': [-1],\n",
    "    'base_estimator__decision_function_shape': ['ovo', 'ovr'],\n",
    "    'base_estimator__tol': [1e-3, 1e-5]\n",
    "}\n",
    "\n",
    "grid_svc_adaboost_std = GridSearchCV(\n",
    "    AdaBoostClassifier(),param_grid,cv=KF_K,scoring=recall_scorer,refit=True,verbose=1,n_jobs=-1\n",
    ")\n",
    "grid_svc_adaboost_std.fit(X_train_std_scaled,y_train)\n",
    "\n",
    "\n",
    "print (grid_svc_adaboost_std.best_params_)\n",
    "print ('\\n')\n",
    "print (grid_svc_adaboost_std.best_estimator_)"
   ]
  },
  {
   "cell_type": "code",
   "execution_count": 19,
   "metadata": {},
   "outputs": [
    {
     "name": "stdout",
     "output_type": "stream",
     "text": [
      "              precision    recall  f1-score   support\n",
      "\n",
      "           0       0.98      0.98      0.98       104\n",
      "           1       0.97      0.97      0.97        67\n",
      "\n",
      "    accuracy                           0.98       171\n",
      "   macro avg       0.98      0.98      0.98       171\n",
      "weighted avg       0.98      0.98      0.98       171\n",
      "\n"
     ]
    },
    {
     "data": {
      "text/plain": [
       "<matplotlib.axes._subplots.AxesSubplot at 0x2aab30093510>"
      ]
     },
     "execution_count": 19,
     "metadata": {},
     "output_type": "execute_result"
    },
    {
     "data": {
      "image/png": "[encoded data removed]",
      "text/plain": [
       "<Figure size 432x288 with 2 Axes>"
      ]
     },
     "metadata": {
      "needs_background": "light"
     },
     "output_type": "display_data"
    }
   ],
   "source": [
    "y_predict_std = grid_svc_adaboost_std.predict(X_test_std_scaled)\n",
    "cm = confusion_matrix(y_test, y_predict_std)\n",
    "\n",
    "cm = np.array(confusion_matrix(y_test, y_predict_std, labels=cancer_labels))\n",
    "confusion = pd.DataFrame(cm, index=['is_cancer', 'is_healthy'],\n",
    "                         columns=['predicted_cancer','predicted_healthy'])\n",
    "\n",
    "confusion\n",
    "\n",
    "\n",
    "print(classification_report(y_test,y_predict_std))\n",
    "sns.heatmap(confusion,annot=True,fmt=\"d\")"
   ]
  },
  {
   "cell_type": "markdown",
   "metadata": {},
   "source": [
    "## SVM - Overall Comparison"
   ]
  },
  {
   "cell_type": "code",
   "execution_count": 20,
   "metadata": {},
   "outputs": [
    {
     "name": "stdout",
     "output_type": "stream",
     "text": [
      "Evaluating model: SVM Standard\n",
      "Fitting 5 folds for each of 324 candidates, totalling 1620 fits\n"
     ]
    },
    {
     "name": "stderr",
     "output_type": "stream",
     "text": [
      "[Parallel(n_jobs=-1)]: Using backend LokyBackend with 24 concurrent workers.\n",
      "[Parallel(n_jobs=-1)]: Done   2 tasks      | elapsed:    0.1s\n",
      "[Parallel(n_jobs=-1)]: Done 400 tasks      | elapsed:    0.9s\n",
      "[Parallel(n_jobs=-1)]: Done 1620 out of 1620 | elapsed:    2.3s finished\n",
      "[Parallel(n_jobs=-1)]: Using backend LokyBackend with 24 concurrent workers.\n",
      "[Parallel(n_jobs=-1)]: Done   2 tasks      | elapsed:    0.1s\n"
     ]
    },
    {
     "name": "stdout",
     "output_type": "stream",
     "text": [
      "result: {'Scaling Method': 'SVM Standard', 'Accuracy': array([0.97076023]), 'Precision': array([0.96823244]), 'Recall': array([0.97065155]), 'F1': array([0.96940419]), 'ROC': array([0.99483352])}\n",
      "=================================\n",
      "Evaluating model: SVM+Bagging\n",
      "Fitting 5 folds for each of 5832 candidates, totalling 29160 fits\n"
     ]
    },
    {
     "name": "stderr",
     "output_type": "stream",
     "text": [
      "[Parallel(n_jobs=-1)]: Done 254 tasks      | elapsed:    5.0s\n",
      "[Parallel(n_jobs=-1)]: Done 522 tasks      | elapsed:    7.7s\n",
      "[Parallel(n_jobs=-1)]: Done 872 tasks      | elapsed:   11.7s\n",
      "[Parallel(n_jobs=-1)]: Done 1322 tasks      | elapsed:   16.8s\n",
      "[Parallel(n_jobs=-1)]: Done 1872 tasks      | elapsed:   24.6s\n",
      "[Parallel(n_jobs=-1)]: Done 2522 tasks      | elapsed:   31.8s\n",
      "[Parallel(n_jobs=-1)]: Done 3272 tasks      | elapsed:   40.0s\n",
      "[Parallel(n_jobs=-1)]: Done 4122 tasks      | elapsed:   51.4s\n",
      "[Parallel(n_jobs=-1)]: Done 5072 tasks      | elapsed:  1.1min\n",
      "[Parallel(n_jobs=-1)]: Done 6122 tasks      | elapsed:  1.3min\n",
      "[Parallel(n_jobs=-1)]: Done 7272 tasks      | elapsed:  1.5min\n",
      "[Parallel(n_jobs=-1)]: Done 8522 tasks      | elapsed:  1.8min\n",
      "[Parallel(n_jobs=-1)]: Done 9872 tasks      | elapsed:  2.0min\n",
      "[Parallel(n_jobs=-1)]: Done 11322 tasks      | elapsed:  2.3min\n",
      "[Parallel(n_jobs=-1)]: Done 12872 tasks      | elapsed:  2.6min\n",
      "[Parallel(n_jobs=-1)]: Done 14522 tasks      | elapsed:  3.0min\n",
      "[Parallel(n_jobs=-1)]: Done 16272 tasks      | elapsed:  3.3min\n",
      "[Parallel(n_jobs=-1)]: Done 18122 tasks      | elapsed:  3.7min\n",
      "[Parallel(n_jobs=-1)]: Done 20072 tasks      | elapsed:  4.1min\n",
      "[Parallel(n_jobs=-1)]: Done 22122 tasks      | elapsed:  4.6min\n",
      "[Parallel(n_jobs=-1)]: Done 24272 tasks      | elapsed:  5.0min\n",
      "[Parallel(n_jobs=-1)]: Done 26522 tasks      | elapsed:  5.5min\n",
      "[Parallel(n_jobs=-1)]: Done 28872 tasks      | elapsed:  6.0min\n",
      "[Parallel(n_jobs=-1)]: Done 29160 out of 29160 | elapsed:  6.1min finished\n"
     ]
    },
    {
     "name": "stdout",
     "output_type": "stream",
     "text": [
      "result: {'Scaling Method': 'SVM+Bagging', 'Accuracy': array([0.92397661]), 'Precision': array([0.92121212]), 'Recall': array([0.91891504]), 'F1': array([0.92002734]), 'ROC': array([0.98550517])}\n",
      "=================================\n",
      "Evaluating model: SVM+Boosting\n",
      "Fitting 5 folds for each of 1944 candidates, totalling 9720 fits\n"
     ]
    },
    {
     "name": "stderr",
     "output_type": "stream",
     "text": [
      "[Parallel(n_jobs=-1)]: Using backend LokyBackend with 24 concurrent workers.\n",
      "[Parallel(n_jobs=-1)]: Done   2 tasks      | elapsed:    0.6s\n",
      "[Parallel(n_jobs=-1)]: Done 152 tasks      | elapsed:    9.9s\n",
      "[Parallel(n_jobs=-1)]: Done 402 tasks      | elapsed:   19.7s\n",
      "[Parallel(n_jobs=-1)]: Done 752 tasks      | elapsed:   37.6s\n",
      "[Parallel(n_jobs=-1)]: Done 1202 tasks      | elapsed:   57.6s\n",
      "[Parallel(n_jobs=-1)]: Done 1752 tasks      | elapsed:  1.4min\n",
      "[Parallel(n_jobs=-1)]: Done 2402 tasks      | elapsed:  1.9min\n",
      "[Parallel(n_jobs=-1)]: Done 3152 tasks      | elapsed:  2.4min\n",
      "[Parallel(n_jobs=-1)]: Done 4002 tasks      | elapsed:  3.1min\n",
      "[Parallel(n_jobs=-1)]: Done 4952 tasks      | elapsed:  3.8min\n",
      "[Parallel(n_jobs=-1)]: Done 6002 tasks      | elapsed:  4.6min\n",
      "[Parallel(n_jobs=-1)]: Done 7152 tasks      | elapsed:  5.4min\n",
      "[Parallel(n_jobs=-1)]: Done 8402 tasks      | elapsed:  6.3min\n",
      "[Parallel(n_jobs=-1)]: Done 9720 out of 9720 | elapsed:  7.2min finished\n"
     ]
    },
    {
     "name": "stdout",
     "output_type": "stream",
     "text": [
      "result: {'Scaling Method': 'SVM+Boosting', 'Accuracy': array([0.97660819]), 'Precision': array([0.97545924]), 'Recall': array([0.97545924]), 'F1': array([0.97545924]), 'ROC': array([0.99555109])}\n",
      "=================================\n"
     ]
    },
    {
     "data": {
      "text/html": [
       "<div>\n",
       "<style scoped>\n",
       "    .dataframe tbody tr th:only-of-type {\n",
       "        vertical-align: middle;\n",
       "    }\n",
       "\n",
       "    .dataframe tbody tr th {\n",
       "        vertical-align: top;\n",
       "    }\n",
       "\n",
       "    .dataframe thead th {\n",
       "        text-align: right;\n",
       "    }\n",
       "</style>\n",
       "<table border=\"1\" class=\"dataframe\">\n",
       "  <thead>\n",
       "    <tr style=\"text-align: right;\">\n",
       "      <th></th>\n",
       "      <th>Accuracy</th>\n",
       "      <th>Precision</th>\n",
       "      <th>Recall</th>\n",
       "      <th>F1</th>\n",
       "      <th>ROC</th>\n",
       "    </tr>\n",
       "    <tr>\n",
       "      <th>Scaling Method</th>\n",
       "      <th></th>\n",
       "      <th></th>\n",
       "      <th></th>\n",
       "      <th></th>\n",
       "      <th></th>\n",
       "    </tr>\n",
       "  </thead>\n",
       "  <tbody>\n",
       "    <tr>\n",
       "      <th>SVM Standard</th>\n",
       "      <td>0.970760</td>\n",
       "      <td>0.968232</td>\n",
       "      <td>0.970652</td>\n",
       "      <td>0.969404</td>\n",
       "      <td>0.994834</td>\n",
       "    </tr>\n",
       "    <tr>\n",
       "      <th>SVM+Bagging</th>\n",
       "      <td>0.923977</td>\n",
       "      <td>0.921212</td>\n",
       "      <td>0.918915</td>\n",
       "      <td>0.920027</td>\n",
       "      <td>0.985505</td>\n",
       "    </tr>\n",
       "    <tr>\n",
       "      <th>SVM+Boosting</th>\n",
       "      <td>0.976608</td>\n",
       "      <td>0.975459</td>\n",
       "      <td>0.975459</td>\n",
       "      <td>0.975459</td>\n",
       "      <td>0.995551</td>\n",
       "    </tr>\n",
       "  </tbody>\n",
       "</table>\n",
       "</div>"
      ],
      "text/plain": [
       "                Accuracy  Precision    Recall        F1       ROC\n",
       "Scaling Method                                                   \n",
       "SVM Standard    0.970760   0.968232  0.970652  0.969404  0.994834\n",
       "SVM+Bagging     0.923977   0.921212  0.918915  0.920027  0.985505\n",
       "SVM+Boosting    0.976608   0.975459  0.975459  0.975459  0.995551"
      ]
     },
     "execution_count": 20,
     "metadata": {},
     "output_type": "execute_result"
    },
    {
     "data": {
      "image/png": "[encoded data removed]",
      "text/plain": [
       "<Figure size 720x360 with 1 Axes>"
      ]
     },
     "metadata": {
      "needs_background": "light"
     },
     "output_type": "display_data"
    }
   ],
   "source": [
    "k_fold_models = [\n",
    "    {'name': 'SVM Standard', 'model': grid_svc_std},\n",
    "    {'name': 'SVM+Bagging', 'model': grid_svc_bagging_std},\n",
    "    {'name': 'SVM+Boosting', 'model': grid_svc_adaboost_std}\n",
    "]\n",
    "column_names = ['Model', 'Accuracy', 'Precision', 'Recall', 'F1', 'ROC']\n",
    "k_fold_res_df = pd.DataFrame(columns=column_names)\n",
    "\n",
    "for item in k_fold_models:\n",
    "    eval_model = item['model']\n",
    "    eval_name = item['name']\n",
    "    print(f\"Evaluating model: {item['name']}\")\n",
    "    \n",
    "    X_k_train = X_train_std_scaled\n",
    "    X_k_test = X_test_std_scaled\n",
    "\n",
    "    eval_model.fit(X_k_train, y_train)\n",
    "    predictions = eval_model.predict(X_k_test)\n",
    "    predictions_proba = eval_model.predict_proba(X_k_test)\n",
    "    \n",
    "    result = {\n",
    "        'Scaling Method': eval_name,\n",
    "        'Accuracy': accuracy_score(y_test, predictions).flatten(),\n",
    "        'Precision': precision_score(y_test, predictions, average=\"macro\").flatten(),\n",
    "        'Recall': recall_score(y_test, predictions, average=\"macro\").flatten(),\n",
    "        'F1': f1_score(y_test, predictions, average=\"macro\").flatten(),\n",
    "        'ROC': roc_auc_score(y_test, predictions_proba[:,1]).flatten()\n",
    "    }\n",
    "    print(f\"result: {result}\")\n",
    "    k_fold_res_df = k_fold_res_df.append(pd.DataFrame(result, columns=column_names))\n",
    "    print(\"=================================\")\n",
    "    \n",
    "\n",
    "    \n",
    "k_fold_res_df.set_index('Model', inplace=True)\n",
    "invert_scale_scores_df = k_fold_res_df.transpose()\n",
    "\n",
    "invert_scale_scores_df.plot(figsize=(10,5), grid=True)\n",
    "\n",
    "k_fold_res_df.head()"
   ]
  },
  {
   "cell_type": "code",
   "execution_count": null,
   "metadata": {},
   "outputs": [],
   "source": []
  },
  {
   "cell_type": "markdown",
   "metadata": {},
   "source": [
    "# GridSearch - Logistic Regression"
   ]
  },
  {
   "cell_type": "code",
   "execution_count": null,
   "metadata": {},
   "outputs": [],
   "source": []
  },
  {
   "cell_type": "code",
   "execution_count": 21,
   "metadata": {},
   "outputs": [
    {
     "name": "stdout",
     "output_type": "stream",
     "text": [
      "Fitting 5 folds for each of 4 candidates, totalling 20 fits\n"
     ]
    },
    {
     "name": "stderr",
     "output_type": "stream",
     "text": [
      "[Parallel(n_jobs=-1)]: Using backend LokyBackend with 24 concurrent workers.\n"
     ]
    },
    {
     "name": "stdout",
     "output_type": "stream",
     "text": [
      "{'C': 1, 'penalty': 'l2'}\n",
      "\n",
      "\n",
      "LogisticRegression(C=1, class_weight=None, dual=False, fit_intercept=True,\n",
      "                   intercept_scaling=1, l1_ratio=None, max_iter=100,\n",
      "                   multi_class='auto', n_jobs=None, penalty='l2',\n",
      "                   random_state=None, solver='lbfgs', tol=0.0001, verbose=0,\n",
      "                   warm_start=False)\n"
     ]
    },
    {
     "name": "stderr",
     "output_type": "stream",
     "text": [
      "[Parallel(n_jobs=-1)]: Done  15 out of  20 | elapsed:    0.9s remaining:    0.3s\n",
      "[Parallel(n_jobs=-1)]: Done  20 out of  20 | elapsed:    1.0s finished\n"
     ]
    }
   ],
   "source": [
    "param_grid = {'penalty': ['l2'],\n",
    "              'C': [1, 10, 50, 100],\n",
    "            }\n",
    "grid_lr = GridSearchCV(LogisticRegression(),param_grid,cv=KF_K,scoring=recall_scorer,refit=True,verbose=1,n_jobs=-1)\n",
    "grid_lr.fit(X_train_std_scaled,y_train)\n",
    "\n",
    "\n",
    "print (grid_lr.best_params_)\n",
    "print ('\\n')\n",
    "print (grid_lr.best_estimator_)"
   ]
  },
  {
   "cell_type": "code",
   "execution_count": 22,
   "metadata": {},
   "outputs": [
    {
     "name": "stdout",
     "output_type": "stream",
     "text": [
      "              precision    recall  f1-score   support\n",
      "\n",
      "           0       0.98      0.98      0.98       104\n",
      "           1       0.97      0.97      0.97        67\n",
      "\n",
      "    accuracy                           0.98       171\n",
      "   macro avg       0.98      0.98      0.98       171\n",
      "weighted avg       0.98      0.98      0.98       171\n",
      "\n"
     ]
    },
    {
     "data": {
      "text/plain": [
       "<matplotlib.axes._subplots.AxesSubplot at 0x2aab347d5d50>"
      ]
     },
     "execution_count": 22,
     "metadata": {},
     "output_type": "execute_result"
    },
    {
     "data": {
      "image/png": "[encoded data removed]",
      "text/plain": [
       "<Figure size 432x288 with 2 Axes>"
      ]
     },
     "metadata": {
      "needs_background": "light"
     },
     "output_type": "display_data"
    }
   ],
   "source": [
    "y_predict = grid_lr.predict(X_test_std_scaled)\n",
    "cm = confusion_matrix(y_test, y_predict)\n",
    "\n",
    "cm = np.array(confusion_matrix(y_test, y_predict, labels=cancer_labels))\n",
    "confusion = pd.DataFrame(cm, index=['is_cancer', 'is_healthy'],\n",
    "                         columns=['predicted_cancer','predicted_healthy'])\n",
    "\n",
    "confusion\n",
    "\n",
    "\n",
    "print(classification_report(y_test,y_predict))\n",
    "sns.heatmap(confusion,annot=True,fmt=\"d\")"
   ]
  },
  {
   "cell_type": "markdown",
   "metadata": {},
   "source": [
    "# GridSearch - Decision Trees"
   ]
  },
  {
   "cell_type": "code",
   "execution_count": 23,
   "metadata": {},
   "outputs": [
    {
     "name": "stdout",
     "output_type": "stream",
     "text": [
      "Fitting 5 folds for each of 20 candidates, totalling 100 fits\n"
     ]
    },
    {
     "name": "stderr",
     "output_type": "stream",
     "text": [
      "[Parallel(n_jobs=-1)]: Using backend LokyBackend with 24 concurrent workers.\n",
      "[Parallel(n_jobs=-1)]: Done   2 tasks      | elapsed:    0.1s\n"
     ]
    },
    {
     "name": "stdout",
     "output_type": "stream",
     "text": [
      "{'criterion': 'entropy', 'max_depth': 30, 'splitter': 'best'}\n",
      "\n",
      "\n",
      "DecisionTreeClassifier(ccp_alpha=0.0, class_weight=None, criterion='entropy',\n",
      "                       max_depth=30, max_features=None, max_leaf_nodes=None,\n",
      "                       min_impurity_decrease=0.0, min_impurity_split=None,\n",
      "                       min_samples_leaf=1, min_samples_split=2,\n",
      "                       min_weight_fraction_leaf=0.0, presort='deprecated',\n",
      "                       random_state=None, splitter='best')\n"
     ]
    },
    {
     "name": "stderr",
     "output_type": "stream",
     "text": [
      "[Parallel(n_jobs=-1)]: Done 100 out of 100 | elapsed:    0.5s finished\n"
     ]
    }
   ],
   "source": [
    "param_grid = {'criterion': ['gini', 'entropy'],\n",
    "              'splitter': ['best', 'random'],\n",
    "              'max_depth': [1, 5, 10, 20, 30],\n",
    "            }\n",
    "grid_dt = GridSearchCV(DecisionTreeClassifier(),param_grid,cv=KF_K,scoring=recall_scorer,refit=True,verbose=1,n_jobs=-1)\n",
    "grid_dt.fit(X_train_std_scaled,y_train)\n",
    "\n",
    "\n",
    "print (grid_dt.best_params_)\n",
    "print ('\\n')\n",
    "print (grid_dt.best_estimator_)"
   ]
  },
  {
   "cell_type": "code",
   "execution_count": 24,
   "metadata": {},
   "outputs": [
    {
     "name": "stdout",
     "output_type": "stream",
     "text": [
      "              precision    recall  f1-score   support\n",
      "\n",
      "           0       0.93      0.95      0.94       104\n",
      "           1       0.92      0.88      0.90        67\n",
      "\n",
      "    accuracy                           0.92       171\n",
      "   macro avg       0.92      0.92      0.92       171\n",
      "weighted avg       0.92      0.92      0.92       171\n",
      "\n"
     ]
    },
    {
     "data": {
      "text/plain": [
       "<matplotlib.axes._subplots.AxesSubplot at 0x2aab3480e110>"
      ]
     },
     "execution_count": 24,
     "metadata": {},
     "output_type": "execute_result"
    },
    {
     "data": {
      "image/png": "[encoded data removed]",
      "text/plain": [
       "<Figure size 432x288 with 2 Axes>"
      ]
     },
     "metadata": {
      "needs_background": "light"
     },
     "output_type": "display_data"
    }
   ],
   "source": [
    "y_predict = grid_dt.predict(X_test_std_scaled)\n",
    "cm = confusion_matrix(y_test, y_predict)\n",
    "\n",
    "cm = np.array(confusion_matrix(y_test, y_predict, labels=cancer_labels))\n",
    "confusion = pd.DataFrame(cm, index=['is_cancer', 'is_healthy'],\n",
    "                         columns=['predicted_cancer','predicted_healthy'])\n",
    "\n",
    "confusion\n",
    "\n",
    "\n",
    "print(classification_report(y_test,y_predict))\n",
    "sns.heatmap(confusion,annot=True,fmt=\"d\")"
   ]
  },
  {
   "cell_type": "markdown",
   "metadata": {},
   "source": [
    "# Naive Bayes (no hyper-parameters)"
   ]
  },
  {
   "cell_type": "code",
   "execution_count": 25,
   "metadata": {},
   "outputs": [
    {
     "data": {
      "text/plain": [
       "GaussianNB(priors=None, var_smoothing=1e-09)"
      ]
     },
     "execution_count": 25,
     "metadata": {},
     "output_type": "execute_result"
    }
   ],
   "source": [
    "model_nb = GaussianNB()\n",
    "model_nb.fit(X_train_std_scaled,y_train)\n"
   ]
  },
  {
   "cell_type": "code",
   "execution_count": 26,
   "metadata": {},
   "outputs": [
    {
     "name": "stdout",
     "output_type": "stream",
     "text": [
      "              precision    recall  f1-score   support\n",
      "\n",
      "           0       0.94      0.99      0.96       104\n",
      "           1       0.98      0.90      0.94        67\n",
      "\n",
      "    accuracy                           0.95       171\n",
      "   macro avg       0.96      0.94      0.95       171\n",
      "weighted avg       0.95      0.95      0.95       171\n",
      "\n"
     ]
    },
    {
     "data": {
      "text/plain": [
       "<matplotlib.axes._subplots.AxesSubplot at 0x2aab34accc90>"
      ]
     },
     "execution_count": 26,
     "metadata": {},
     "output_type": "execute_result"
    },
    {
     "data": {
      "image/png": "[encoded data removed]",
      "text/plain": [
       "<Figure size 432x288 with 2 Axes>"
      ]
     },
     "metadata": {
      "needs_background": "light"
     },
     "output_type": "display_data"
    }
   ],
   "source": [
    "y_predict = model_nb.predict(X_test_std_scaled)\n",
    "cm = confusion_matrix(y_test, y_predict)\n",
    "\n",
    "cm = np.array(confusion_matrix(y_test, y_predict, labels=cancer_labels))\n",
    "confusion = pd.DataFrame(cm, index=['is_cancer', 'is_healthy'],\n",
    "                         columns=['predicted_cancer','predicted_healthy'])\n",
    "\n",
    "confusion\n",
    "\n",
    "\n",
    "print(classification_report(y_test,y_predict))\n",
    "sns.heatmap(confusion,annot=True,fmt=\"d\")"
   ]
  },
  {
   "cell_type": "markdown",
   "metadata": {},
   "source": [
    "# Ensemble method - Stacking"
   ]
  },
  {
   "cell_type": "code",
   "execution_count": 28,
   "metadata": {},
   "outputs": [
    {
     "name": "stdout",
     "output_type": "stream",
     "text": [
      "Fitting 5 folds for each of 1944 candidates, totalling 9720 fits\n"
     ]
    },
    {
     "name": "stderr",
     "output_type": "stream",
     "text": [
      "[Parallel(n_jobs=-1)]: Using backend LokyBackend with 24 concurrent workers.\n",
      "[Parallel(n_jobs=-1)]: Done   2 tasks      | elapsed:    0.2s\n",
      "[Parallel(n_jobs=-1)]: Done 198 tasks      | elapsed:    6.3s\n",
      "[Parallel(n_jobs=-1)]: Done 450 tasks      | elapsed:    9.6s\n",
      "[Parallel(n_jobs=-1)]: Done 800 tasks      | elapsed:   18.7s\n",
      "[Parallel(n_jobs=-1)]: Done 1250 tasks      | elapsed:   29.0s\n",
      "[Parallel(n_jobs=-1)]: Done 1800 tasks      | elapsed:   40.8s\n",
      "[Parallel(n_jobs=-1)]: Done 2450 tasks      | elapsed:   54.2s\n",
      "[Parallel(n_jobs=-1)]: Done 3200 tasks      | elapsed:  1.2min\n",
      "[Parallel(n_jobs=-1)]: Done 4050 tasks      | elapsed:  1.5min\n",
      "[Parallel(n_jobs=-1)]: Done 5000 tasks      | elapsed:  1.8min\n",
      "[Parallel(n_jobs=-1)]: Done 6050 tasks      | elapsed:  2.2min\n",
      "[Parallel(n_jobs=-1)]: Done 7200 tasks      | elapsed:  2.6min\n",
      "[Parallel(n_jobs=-1)]: Done 8450 tasks      | elapsed:  3.0min\n",
      "[Parallel(n_jobs=-1)]: Done 9720 out of 9720 | elapsed:  3.4min finished\n",
      "[Parallel(n_jobs=-1)]: Using backend LokyBackend with 24 concurrent workers.\n"
     ]
    },
    {
     "name": "stdout",
     "output_type": "stream",
     "text": [
      "Fitting 5 folds for each of 1944 candidates, totalling 9720 fits\n"
     ]
    },
    {
     "name": "stderr",
     "output_type": "stream",
     "text": [
      "[Parallel(n_jobs=-1)]: Done   2 tasks      | elapsed:    0.4s\n",
      "[Parallel(n_jobs=-1)]: Done 152 tasks      | elapsed:    6.2s\n",
      "[Parallel(n_jobs=-1)]: Done 402 tasks      | elapsed:   11.2s\n",
      "[Parallel(n_jobs=-1)]: Done 752 tasks      | elapsed:   21.4s\n",
      "[Parallel(n_jobs=-1)]: Done 1202 tasks      | elapsed:   33.3s\n",
      "[Parallel(n_jobs=-1)]: Done 1752 tasks      | elapsed:   47.2s\n",
      "[Parallel(n_jobs=-1)]: Done 2402 tasks      | elapsed:  1.1min\n",
      "[Parallel(n_jobs=-1)]: Done 3152 tasks      | elapsed:  1.3min\n",
      "[Parallel(n_jobs=-1)]: Done 4002 tasks      | elapsed:  1.7min\n",
      "[Parallel(n_jobs=-1)]: Done 4952 tasks      | elapsed:  2.1min\n",
      "[Parallel(n_jobs=-1)]: Done 6002 tasks      | elapsed:  2.5min\n",
      "[Parallel(n_jobs=-1)]: Done 7152 tasks      | elapsed:  3.0min\n",
      "[Parallel(n_jobs=-1)]: Done 8402 tasks      | elapsed:  3.4min\n",
      "[Parallel(n_jobs=-1)]: Done 9720 out of 9720 | elapsed:  3.9min finished\n",
      "[Parallel(n_jobs=-1)]: Using backend LokyBackend with 24 concurrent workers.\n"
     ]
    },
    {
     "name": "stdout",
     "output_type": "stream",
     "text": [
      "Fitting 5 folds for each of 1944 candidates, totalling 9720 fits\n"
     ]
    },
    {
     "name": "stderr",
     "output_type": "stream",
     "text": [
      "[Parallel(n_jobs=-1)]: Done   2 tasks      | elapsed:    0.4s\n",
      "[Parallel(n_jobs=-1)]: Done 152 tasks      | elapsed:    5.9s\n",
      "[Parallel(n_jobs=-1)]: Done 402 tasks      | elapsed:   11.4s\n",
      "[Parallel(n_jobs=-1)]: Done 752 tasks      | elapsed:   21.6s\n",
      "[Parallel(n_jobs=-1)]: Done 1202 tasks      | elapsed:   33.3s\n",
      "[Parallel(n_jobs=-1)]: Done 1752 tasks      | elapsed:   47.5s\n",
      "[Parallel(n_jobs=-1)]: Done 2402 tasks      | elapsed:  1.1min\n",
      "[Parallel(n_jobs=-1)]: Done 3152 tasks      | elapsed:  1.4min\n",
      "[Parallel(n_jobs=-1)]: Done 4002 tasks      | elapsed:  1.7min\n",
      "[Parallel(n_jobs=-1)]: Done 4952 tasks      | elapsed:  2.1min\n",
      "[Parallel(n_jobs=-1)]: Done 6002 tasks      | elapsed:  2.6min\n",
      "[Parallel(n_jobs=-1)]: Done 7152 tasks      | elapsed:  3.0min\n",
      "[Parallel(n_jobs=-1)]: Done 8402 tasks      | elapsed:  3.5min\n",
      "[Parallel(n_jobs=-1)]: Done 9720 out of 9720 | elapsed:  4.0min finished\n"
     ]
    },
    {
     "name": "stdout",
     "output_type": "stream",
     "text": [
      "Fitting 5 folds for each of 1944 candidates, totalling 9720 fits\n"
     ]
    },
    {
     "name": "stderr",
     "output_type": "stream",
     "text": [
      "[Parallel(n_jobs=-1)]: Using backend LokyBackend with 24 concurrent workers.\n",
      "[Parallel(n_jobs=-1)]: Done   2 tasks      | elapsed:    0.4s\n",
      "[Parallel(n_jobs=-1)]: Done 152 tasks      | elapsed:    6.7s\n",
      "[Parallel(n_jobs=-1)]: Done 402 tasks      | elapsed:   12.8s\n",
      "[Parallel(n_jobs=-1)]: Done 752 tasks      | elapsed:   24.5s\n",
      "[Parallel(n_jobs=-1)]: Done 1202 tasks      | elapsed:   37.8s\n",
      "[Parallel(n_jobs=-1)]: Done 1752 tasks      | elapsed:   54.0s\n",
      "[Parallel(n_jobs=-1)]: Done 2402 tasks      | elapsed:  1.2min\n",
      "[Parallel(n_jobs=-1)]: Done 3152 tasks      | elapsed:  1.6min\n",
      "[Parallel(n_jobs=-1)]: Done 4002 tasks      | elapsed:  2.0min\n",
      "[Parallel(n_jobs=-1)]: Done 4952 tasks      | elapsed:  2.5min\n",
      "[Parallel(n_jobs=-1)]: Done 6002 tasks      | elapsed:  2.9min\n",
      "[Parallel(n_jobs=-1)]: Done 7152 tasks      | elapsed:  3.5min\n",
      "[Parallel(n_jobs=-1)]: Done 8402 tasks      | elapsed:  4.1min\n",
      "[Parallel(n_jobs=-1)]: Done 9720 out of 9720 | elapsed:  4.6min finished\n"
     ]
    },
    {
     "name": "stdout",
     "output_type": "stream",
     "text": [
      "Fitting 5 folds for each of 1944 candidates, totalling 9720 fits\n"
     ]
    },
    {
     "name": "stderr",
     "output_type": "stream",
     "text": [
      "[Parallel(n_jobs=-1)]: Using backend LokyBackend with 24 concurrent workers.\n",
      "[Parallel(n_jobs=-1)]: Done   2 tasks      | elapsed:    0.4s\n",
      "[Parallel(n_jobs=-1)]: Done 152 tasks      | elapsed:    6.7s\n",
      "[Parallel(n_jobs=-1)]: Done 402 tasks      | elapsed:   13.0s\n",
      "[Parallel(n_jobs=-1)]: Done 752 tasks      | elapsed:   24.6s\n",
      "[Parallel(n_jobs=-1)]: Done 1202 tasks      | elapsed:   37.9s\n",
      "[Parallel(n_jobs=-1)]: Done 1752 tasks      | elapsed:   54.3s\n",
      "[Parallel(n_jobs=-1)]: Done 2402 tasks      | elapsed:  1.2min\n",
      "[Parallel(n_jobs=-1)]: Done 3152 tasks      | elapsed:  1.6min\n",
      "[Parallel(n_jobs=-1)]: Done 4002 tasks      | elapsed:  2.0min\n",
      "[Parallel(n_jobs=-1)]: Done 4952 tasks      | elapsed:  2.5min\n",
      "[Parallel(n_jobs=-1)]: Done 6002 tasks      | elapsed:  3.0min\n",
      "[Parallel(n_jobs=-1)]: Done 7152 tasks      | elapsed:  3.5min\n",
      "[Parallel(n_jobs=-1)]: Done 8402 tasks      | elapsed:  4.1min\n",
      "[Parallel(n_jobs=-1)]: Done 9720 out of 9720 | elapsed:  4.7min finished\n"
     ]
    },
    {
     "name": "stdout",
     "output_type": "stream",
     "text": [
      "Fitting 5 folds for each of 4 candidates, totalling 20 fits\n",
      "Fitting 5 folds for each of 4 candidates, totalling 20 fits\n"
     ]
    },
    {
     "name": "stderr",
     "output_type": "stream",
     "text": [
      "[Parallel(n_jobs=-1)]: Using backend LokyBackend with 24 concurrent workers.\n",
      "[Parallel(n_jobs=-1)]: Done  15 out of  20 | elapsed:    0.1s remaining:    0.0s\n",
      "[Parallel(n_jobs=-1)]: Done  20 out of  20 | elapsed:    0.1s finished\n",
      "[Parallel(n_jobs=-1)]: Using backend LokyBackend with 24 concurrent workers.\n",
      "[Parallel(n_jobs=-1)]: Done  15 out of  20 | elapsed:    0.1s remaining:    0.0s\n",
      "[Parallel(n_jobs=-1)]: Done  20 out of  20 | elapsed:    0.1s finished\n",
      "[Parallel(n_jobs=-1)]: Using backend LokyBackend with 24 concurrent workers.\n",
      "[Parallel(n_jobs=-1)]: Done  15 out of  20 | elapsed:    0.1s remaining:    0.0s\n",
      "[Parallel(n_jobs=-1)]: Done  20 out of  20 | elapsed:    0.1s finished\n",
      "[Parallel(n_jobs=-1)]: Using backend LokyBackend with 24 concurrent workers.\n"
     ]
    },
    {
     "name": "stdout",
     "output_type": "stream",
     "text": [
      "Fitting 5 folds for each of 4 candidates, totalling 20 fits\n",
      "Fitting 5 folds for each of 4 candidates, totalling 20 fits\n"
     ]
    },
    {
     "name": "stderr",
     "output_type": "stream",
     "text": [
      "[Parallel(n_jobs=-1)]: Done  15 out of  20 | elapsed:    0.1s remaining:    0.0s\n",
      "[Parallel(n_jobs=-1)]: Done  20 out of  20 | elapsed:    0.1s finished\n",
      "[Parallel(n_jobs=-1)]: Using backend LokyBackend with 24 concurrent workers.\n",
      "[Parallel(n_jobs=-1)]: Done  15 out of  20 | elapsed:    0.1s remaining:    0.0s\n",
      "[Parallel(n_jobs=-1)]: Done  20 out of  20 | elapsed:    0.1s finished\n"
     ]
    },
    {
     "name": "stdout",
     "output_type": "stream",
     "text": [
      "Fitting 5 folds for each of 4 candidates, totalling 20 fits\n",
      "Fitting 5 folds for each of 20 candidates, totalling 100 fits\n"
     ]
    },
    {
     "name": "stderr",
     "output_type": "stream",
     "text": [
      "[Parallel(n_jobs=-1)]: Using backend LokyBackend with 24 concurrent workers.\n",
      "[Parallel(n_jobs=-1)]: Done   2 tasks      | elapsed:    0.0s\n",
      "[Parallel(n_jobs=-1)]: Done 100 out of 100 | elapsed:    0.3s finished\n",
      "[Parallel(n_jobs=-1)]: Using backend LokyBackend with 24 concurrent workers.\n",
      "[Parallel(n_jobs=-1)]: Done   2 tasks      | elapsed:    0.0s\n"
     ]
    },
    {
     "name": "stdout",
     "output_type": "stream",
     "text": [
      "Fitting 5 folds for each of 20 candidates, totalling 100 fits\n"
     ]
    },
    {
     "name": "stderr",
     "output_type": "stream",
     "text": [
      "[Parallel(n_jobs=-1)]: Done 100 out of 100 | elapsed:    0.3s finished\n",
      "[Parallel(n_jobs=-1)]: Using backend LokyBackend with 24 concurrent workers.\n",
      "[Parallel(n_jobs=-1)]: Done   2 tasks      | elapsed:    0.0s\n"
     ]
    },
    {
     "name": "stdout",
     "output_type": "stream",
     "text": [
      "Fitting 5 folds for each of 20 candidates, totalling 100 fits\n"
     ]
    },
    {
     "name": "stderr",
     "output_type": "stream",
     "text": [
      "[Parallel(n_jobs=-1)]: Done 100 out of 100 | elapsed:    0.3s finished\n",
      "[Parallel(n_jobs=-1)]: Using backend LokyBackend with 24 concurrent workers.\n",
      "[Parallel(n_jobs=-1)]: Done   2 tasks      | elapsed:    0.1s\n"
     ]
    },
    {
     "name": "stdout",
     "output_type": "stream",
     "text": [
      "Fitting 5 folds for each of 20 candidates, totalling 100 fits\n"
     ]
    },
    {
     "name": "stderr",
     "output_type": "stream",
     "text": [
      "[Parallel(n_jobs=-1)]: Done 100 out of 100 | elapsed:    0.2s finished\n",
      "[Parallel(n_jobs=-1)]: Using backend LokyBackend with 24 concurrent workers.\n",
      "[Parallel(n_jobs=-1)]: Done   2 tasks      | elapsed:    0.0s\n"
     ]
    },
    {
     "name": "stdout",
     "output_type": "stream",
     "text": [
      "Fitting 5 folds for each of 20 candidates, totalling 100 fits\n"
     ]
    },
    {
     "name": "stderr",
     "output_type": "stream",
     "text": [
      "[Parallel(n_jobs=-1)]: Done 100 out of 100 | elapsed:    0.3s finished\n",
      "[Parallel(n_jobs=-1)]: Using backend LokyBackend with 24 concurrent workers.\n"
     ]
    },
    {
     "name": "stdout",
     "output_type": "stream",
     "text": [
      "Fitting 5 folds for each of 1944 candidates, totalling 9720 fits\n"
     ]
    },
    {
     "name": "stderr",
     "output_type": "stream",
     "text": [
      "[Parallel(n_jobs=-1)]: Done   2 tasks      | elapsed:    0.6s\n",
      "[Parallel(n_jobs=-1)]: Done 152 tasks      | elapsed:    9.9s\n",
      "[Parallel(n_jobs=-1)]: Done 402 tasks      | elapsed:   19.8s\n",
      "[Parallel(n_jobs=-1)]: Done 752 tasks      | elapsed:   37.4s\n",
      "[Parallel(n_jobs=-1)]: Done 1202 tasks      | elapsed:   57.9s\n",
      "[Parallel(n_jobs=-1)]: Done 1752 tasks      | elapsed:  1.4min\n",
      "[Parallel(n_jobs=-1)]: Done 2402 tasks      | elapsed:  1.9min\n",
      "[Parallel(n_jobs=-1)]: Done 3152 tasks      | elapsed:  2.4min\n",
      "[Parallel(n_jobs=-1)]: Done 4002 tasks      | elapsed:  3.1min\n",
      "[Parallel(n_jobs=-1)]: Done 4952 tasks      | elapsed:  3.8min\n",
      "[Parallel(n_jobs=-1)]: Done 6002 tasks      | elapsed:  4.5min\n",
      "[Parallel(n_jobs=-1)]: Done 7152 tasks      | elapsed:  5.4min\n",
      "[Parallel(n_jobs=-1)]: Done 8402 tasks      | elapsed:  6.3min\n",
      "[Parallel(n_jobs=-1)]: Done 9720 out of 9720 | elapsed:  7.2min finished\n"
     ]
    },
    {
     "name": "stdout",
     "output_type": "stream",
     "text": [
      "Fitting 5 folds for each of 4 candidates, totalling 20 fits\n",
      "Fitting 5 folds for each of 20 candidates, totalling 100 fits\n"
     ]
    },
    {
     "name": "stderr",
     "output_type": "stream",
     "text": [
      "[Parallel(n_jobs=-1)]: Using backend LokyBackend with 24 concurrent workers.\n",
      "[Parallel(n_jobs=-1)]: Done  15 out of  20 | elapsed:    0.1s remaining:    0.0s\n",
      "[Parallel(n_jobs=-1)]: Done  20 out of  20 | elapsed:    0.1s finished\n",
      "[Parallel(n_jobs=-1)]: Using backend LokyBackend with 24 concurrent workers.\n",
      "[Parallel(n_jobs=-1)]: Done   4 tasks      | elapsed:    0.0s\n",
      "[Parallel(n_jobs=-1)]: Done 100 out of 100 | elapsed:    0.3s finished\n"
     ]
    },
    {
     "data": {
      "text/plain": [
       "StackingCVClassifier(classifiers=[GridSearchCV(cv=5, error_score=nan,\n",
       "                                               estimator=AdaBoostClassifier(algorithm='SAMME.R',\n",
       "                                                                            base_estimator=None,\n",
       "                                                                            learning_rate=1.0,\n",
       "                                                                            n_estimators=50,\n",
       "                                                                            random_state=None),\n",
       "                                               iid='deprecated', n_jobs=-1,\n",
       "                                               param_grid={'base_estimator': [SVC(C=1,\n",
       "                                                                                  break_ties=False,\n",
       "                                                                                  cache_size=200,\n",
       "                                                                                  class_weight=None,\n",
       "                                                                                  coef0=0.0,\n",
       "                                                                                  decision_function_shape='ovo',\n",
       "                                                                                  degre...\n",
       "                                                   n_iter_no_change=10,\n",
       "                                                   nesterovs_momentum=True,\n",
       "                                                   power_t=0.5,\n",
       "                                                   random_state=None,\n",
       "                                                   shuffle=True, solver='adam',\n",
       "                                                   tol=0.0001,\n",
       "                                                   validation_fraction=0.1,\n",
       "                                                   verbose=False,\n",
       "                                                   warm_start=False),\n",
       "                     n_jobs=None, pre_dispatch='2*n_jobs', random_state=None,\n",
       "                     shuffle=False, store_train_meta_features=False,\n",
       "                     stratify=True, use_clones=True,\n",
       "                     use_features_in_secondary=False, use_probas=True,\n",
       "                     verbose=0)"
      ]
     },
     "execution_count": 28,
     "metadata": {},
     "output_type": "execute_result"
    }
   ],
   "source": [
    "meta_classifier_model = MLPClassifier(max_iter=500, verbose=False) # hidden_layer_sizes=(100,100,100)\n",
    "\n",
    "# Define parameter grid \n",
    "params = {\n",
    "          \"meta_classifier\": [meta_classifier_model],\n",
    "          \"meta_classifier__learning_rate\": [\"constant\", \"adaptive\"], # invscaling\n",
    "          \"meta_classifier__hidden_layer_sizes\": [(50,50,50), (50,100,50), (100,)],\n",
    "          \"meta_classifier__solver\": ['sgd', 'adam'],\n",
    "          \"meta_classifier__activation\": [\"logistic\", \"relu\", \"tanh\"]\n",
    "         }\n",
    "\n",
    "stack_cvc_mlp = StackingCVClassifier(classifiers=[grid_svc_adaboost_std, grid_lr, grid_dt, model_nb],\n",
    "                            shuffle=False,\n",
    "                            use_probas=True,\n",
    "                            cv=KF_K,\n",
    "                            meta_classifier=meta_classifier_model)\n",
    "\n",
    "\n",
    "# Initialize GridSearchCV\n",
    "# grid_stack_cvc_mlp = GridSearchCV(\n",
    "#                     estimator=stack_cvc_mlp, \n",
    "#                     param_grid=params, \n",
    "#                     cv=5,\n",
    "#                     scoring=recall_scorer,\n",
    "#                     verbose=1,\n",
    "#                     n_jobs=-1)\n",
    "\n",
    "stack_cvc_mlp.fit(X_train_std_scaled, y_train)\n",
    "        "
   ]
  },
  {
   "cell_type": "code",
   "execution_count": 29,
   "metadata": {},
   "outputs": [
    {
     "name": "stdout",
     "output_type": "stream",
     "text": [
      "              precision    recall  f1-score   support\n",
      "\n",
      "           0       0.98      1.00      0.99       104\n",
      "           1       1.00      0.97      0.98        67\n",
      "\n",
      "    accuracy                           0.99       171\n",
      "   macro avg       0.99      0.99      0.99       171\n",
      "weighted avg       0.99      0.99      0.99       171\n",
      "\n"
     ]
    },
    {
     "data": {
      "text/plain": [
       "<matplotlib.axes._subplots.AxesSubplot at 0x2aab300915d0>"
      ]
     },
     "execution_count": 29,
     "metadata": {},
     "output_type": "execute_result"
    },
    {
     "data": {
      "image/png": "[encoded data removed]",
      "text/plain": [
       "<Figure size 432x288 with 2 Axes>"
      ]
     },
     "metadata": {
      "needs_background": "light"
     },
     "output_type": "display_data"
    }
   ],
   "source": [
    "y_predict = stack_cvc_mlp.predict(X_test_std_scaled)\n",
    "cm = confusion_matrix(y_test, y_predict)\n",
    "\n",
    "cm = np.array(confusion_matrix(y_test, y_predict, labels=cancer_labels))\n",
    "confusion = pd.DataFrame(cm, index=['is_cancer', 'is_healthy'],\n",
    "                         columns=['predicted_cancer','predicted_healthy'])\n",
    "\n",
    "confusion\n",
    "\n",
    "\n",
    "print(classification_report(y_test,y_predict))\n",
    "sns.heatmap(confusion,annot=True,fmt=\"d\")"
   ]
  },
  {
   "cell_type": "markdown",
   "metadata": {},
   "source": [
    "# K-Fold Validation"
   ]
  },
  {
   "cell_type": "code",
   "execution_count": null,
   "metadata": {},
   "outputs": [],
   "source": []
  },
  {
   "cell_type": "code",
   "execution_count": 41,
   "metadata": {},
   "outputs": [
    {
     "name": "stdout",
     "output_type": "stream",
     "text": [
      "Evaluating model: Logistic Regression\n",
      "TRAIN: 318, TEST: 80, X_k_train: (318, 30), X_k_test: (80, 30)\n",
      "Fitting 5 folds for each of 4 candidates, totalling 20 fits\n",
      "TRAIN: 318, TEST: 80, X_k_train: (318, 30), X_k_test: (80, 30)\n",
      "Fitting 5 folds for each of 4 candidates, totalling 20 fits\n"
     ]
    },
    {
     "name": "stderr",
     "output_type": "stream",
     "text": [
      "[Parallel(n_jobs=-1)]: Using backend LokyBackend with 24 concurrent workers.\n",
      "[Parallel(n_jobs=-1)]: Done  15 out of  20 | elapsed:    0.1s remaining:    0.0s\n",
      "[Parallel(n_jobs=-1)]: Done  20 out of  20 | elapsed:    0.1s finished\n",
      "[Parallel(n_jobs=-1)]: Using backend LokyBackend with 24 concurrent workers.\n",
      "[Parallel(n_jobs=-1)]: Done  15 out of  20 | elapsed:    0.1s remaining:    0.0s\n",
      "[Parallel(n_jobs=-1)]: Done  20 out of  20 | elapsed:    0.1s finished\n",
      "[Parallel(n_jobs=-1)]: Using backend LokyBackend with 24 concurrent workers.\n",
      "[Parallel(n_jobs=-1)]: Done  15 out of  20 | elapsed:    0.1s remaining:    0.0s\n"
     ]
    },
    {
     "name": "stdout",
     "output_type": "stream",
     "text": [
      "TRAIN: 318, TEST: 80, X_k_train: (318, 30), X_k_test: (80, 30)\n",
      "Fitting 5 folds for each of 4 candidates, totalling 20 fits\n",
      "TRAIN: 319, TEST: 79, X_k_train: (319, 30), X_k_test: (79, 30)\n",
      "Fitting 5 folds for each of 4 candidates, totalling 20 fits\n"
     ]
    },
    {
     "name": "stderr",
     "output_type": "stream",
     "text": [
      "[Parallel(n_jobs=-1)]: Done  20 out of  20 | elapsed:    0.2s finished\n",
      "[Parallel(n_jobs=-1)]: Using backend LokyBackend with 24 concurrent workers.\n",
      "[Parallel(n_jobs=-1)]: Done  15 out of  20 | elapsed:    0.1s remaining:    0.0s\n",
      "[Parallel(n_jobs=-1)]: Done  20 out of  20 | elapsed:    0.1s finished\n",
      "[Parallel(n_jobs=-1)]: Using backend LokyBackend with 24 concurrent workers.\n"
     ]
    },
    {
     "name": "stdout",
     "output_type": "stream",
     "text": [
      "TRAIN: 319, TEST: 79, X_k_train: (319, 30), X_k_test: (79, 30)\n",
      "Fitting 5 folds for each of 4 candidates, totalling 20 fits\n",
      "SVC K-Fold mean_accuracy_score: 0.97, accuracy_scores: [0.95, 0.9875, 0.9625, 0.9873417721518988, 0.9620253164556962]\n",
      "SVC K-Fold mean_precision_score: 0.97, precision_scores: [0.9427083333333333, 0.9919354838709677, 0.9635718891038041, 0.9905660377358491, 0.960594315245478]\n",
      "SVC K-Fold mean_recall_score: 0.966, recall_scores: [0.9533333333333334, 0.9736842105263157, 0.9597186700767264, 0.9814814814814814, 0.9629870129870131]\n",
      "SVC K-Fold mean_f1_score: 0.968, f1_scores: [0.9473337722185649, 0.98242144583608, 0.961482908040443, 0.9858041329739443, 0.961631860126275]\n",
      "SVC K-Fold mean_roc_auc_score: 0.989, roc_auc_scores: [0.9926666666666666, 0.9741156169111302, 0.9859335038363172, 1.0, 0.990909090909091]\n",
      "SVC K-Fold mean_mcc_score: 0.936, mcc_scores: [0.8959786703810408, 0.9654471944281583, 0.9232825187205841, 0.9720050670928767, 0.9235782288778845]\n",
      "result: {'Model': 'Logistic Regression', 'Accuracy': array([0.97]), 'Precision': array([0.97]), 'Recall': array([0.966]), 'F1': array([0.968]), 'ROC': array([0.989]), 'PRC': [(array([0.78947368, 0.78378378, 0.80555556, 0.82857143, 0.85294118,\n",
      "       0.87878788, 0.90625   , 0.93548387, 0.93333333, 0.96551724,\n",
      "       0.96428571, 1.        , 1.        , 1.        , 1.        ,\n",
      "       1.        , 1.        , 1.        , 1.        , 1.        ,\n",
      "       1.        , 1.        , 1.        , 1.        , 1.        ,\n",
      "       1.        , 1.        , 1.        , 1.        , 1.        ,\n",
      "       1.        , 1.        , 1.        , 1.        , 1.        ,\n",
      "       1.        , 1.        , 1.        , 1.        ]), array([1.        , 0.96666667, 0.96666667, 0.96666667, 0.96666667,\n",
      "       0.96666667, 0.96666667, 0.96666667, 0.93333333, 0.93333333,\n",
      "       0.9       , 0.9       , 0.86666667, 0.83333333, 0.8       ,\n",
      "       0.76666667, 0.73333333, 0.7       , 0.66666667, 0.63333333,\n",
      "       0.6       , 0.56666667, 0.53333333, 0.5       , 0.46666667,\n",
      "       0.43333333, 0.4       , 0.36666667, 0.33333333, 0.3       ,\n",
      "       0.26666667, 0.23333333, 0.2       , 0.16666667, 0.13333333,\n",
      "       0.1       , 0.06666667, 0.03333333, 0.        ]), array([0.13500393, 0.1605553 , 0.20041585, 0.22832195, 0.28800087,\n",
      "       0.38876748, 0.55613837, 0.61697946, 0.61915729, 0.74085195,\n",
      "       0.78111233, 0.8818616 , 0.93819659, 0.9882092 , 0.99103592,\n",
      "       0.99830369, 0.99868432, 0.9992067 , 0.99958993, 0.99990224,\n",
      "       0.99996358, 0.99996824, 0.99998586, 0.99999105, 0.99999768,\n",
      "       0.99999772, 0.99999862, 0.99999874, 0.99999884, 0.9999994 ,\n",
      "       0.99999967, 0.99999996, 0.99999996, 0.99999997, 1.        ,\n",
      "       1.        , 1.        , 1.        ])), (array([0.3877551 , 0.375     , 0.38297872, 0.39130435, 0.4       ,\n",
      "       0.40909091, 0.41860465, 0.42857143, 0.43902439, 0.45      ,\n",
      "       0.46153846, 0.47368421, 0.48648649, 0.5       , 0.51428571,\n",
      "       0.52941176, 0.54545455, 0.5625    , 0.58064516, 0.6       ,\n",
      "       0.62068966, 0.64285714, 0.66666667, 0.69230769, 0.72      ,\n",
      "       0.75      , 0.7826087 , 0.81818182, 0.85714286, 0.9       ,\n",
      "       0.94736842, 1.        , 1.        , 1.        , 1.        ,\n",
      "       1.        , 1.        , 1.        , 1.        , 1.        ,\n",
      "       1.        , 1.        , 1.        , 1.        , 1.        ,\n",
      "       1.        , 1.        , 1.        , 1.        , 1.        ]), array([1.        , 0.94736842, 0.94736842, 0.94736842, 0.94736842,\n",
      "       0.94736842, 0.94736842, 0.94736842, 0.94736842, 0.94736842,\n",
      "       0.94736842, 0.94736842, 0.94736842, 0.94736842, 0.94736842,\n",
      "       0.94736842, 0.94736842, 0.94736842, 0.94736842, 0.94736842,\n",
      "       0.94736842, 0.94736842, 0.94736842, 0.94736842, 0.94736842,\n",
      "       0.94736842, 0.94736842, 0.94736842, 0.94736842, 0.94736842,\n",
      "       0.94736842, 0.94736842, 0.89473684, 0.84210526, 0.78947368,\n",
      "       0.73684211, 0.68421053, 0.63157895, 0.57894737, 0.52631579,\n",
      "       0.47368421, 0.42105263, 0.36842105, 0.31578947, 0.26315789,\n",
      "       0.21052632, 0.15789474, 0.10526316, 0.05263158, 0.        ]), array([5.26689072e-06, 6.17920867e-06, 8.92213584e-06, 1.65688519e-05,\n",
      "       1.92502944e-05, 3.09114962e-05, 7.19647375e-05, 7.45993750e-05,\n",
      "       8.95801220e-05, 1.23380442e-04, 2.40131108e-04, 2.86688260e-04,\n",
      "       2.94352278e-04, 3.34665593e-04, 3.55344187e-04, 4.56019856e-04,\n",
      "       6.43015089e-04, 1.37635091e-03, 1.70269880e-03, 2.76461274e-03,\n",
      "       2.78816584e-03, 3.03214181e-03, 4.62171001e-03, 5.07804335e-03,\n",
      "       1.01207353e-02, 1.54299842e-02, 1.66344122e-02, 5.94920465e-02,\n",
      "       6.95571328e-02, 8.78130082e-02, 1.97664290e-01, 9.48176390e-01,\n",
      "       9.96146770e-01, 9.98985421e-01, 9.99656351e-01, 9.99722757e-01,\n",
      "       9.99837867e-01, 9.99966493e-01, 9.99970725e-01, 9.99995152e-01,\n",
      "       9.99998492e-01, 9.99999294e-01, 9.99999998e-01, 1.00000000e+00,\n",
      "       1.00000000e+00, 1.00000000e+00, 1.00000000e+00, 1.00000000e+00,\n",
      "       1.00000000e+00])), (array([0.62962963, 0.62264151, 0.63461538, 0.64705882, 0.66      ,\n",
      "       0.67346939, 0.6875    , 0.70212766, 0.7173913 , 0.73333333,\n",
      "       0.75      , 0.76744186, 0.78571429, 0.80487805, 0.825     ,\n",
      "       0.84615385, 0.86842105, 0.89189189, 0.91666667, 0.94285714,\n",
      "       0.94117647, 0.96969697, 1.        , 1.        , 1.        ,\n",
      "       1.        , 1.        , 1.        , 1.        , 1.        ,\n",
      "       1.        , 1.        , 1.        , 1.        , 1.        ,\n",
      "       1.        , 1.        , 1.        , 1.        , 1.        ,\n",
      "       1.        , 1.        , 1.        , 1.        , 1.        ,\n",
      "       1.        , 1.        , 1.        , 1.        , 1.        ,\n",
      "       1.        , 1.        , 1.        , 1.        , 1.        ]), array([1.        , 0.97058824, 0.97058824, 0.97058824, 0.97058824,\n",
      "       0.97058824, 0.97058824, 0.97058824, 0.97058824, 0.97058824,\n",
      "       0.97058824, 0.97058824, 0.97058824, 0.97058824, 0.97058824,\n",
      "       0.97058824, 0.97058824, 0.97058824, 0.97058824, 0.97058824,\n",
      "       0.94117647, 0.94117647, 0.94117647, 0.91176471, 0.88235294,\n",
      "       0.85294118, 0.82352941, 0.79411765, 0.76470588, 0.73529412,\n",
      "       0.70588235, 0.67647059, 0.64705882, 0.61764706, 0.58823529,\n",
      "       0.55882353, 0.52941176, 0.5       , 0.47058824, 0.44117647,\n",
      "       0.41176471, 0.38235294, 0.35294118, 0.32352941, 0.29411765,\n",
      "       0.26470588, 0.23529412, 0.20588235, 0.17647059, 0.14705882,\n",
      "       0.11764706, 0.08823529, 0.05882353, 0.02941176, 0.        ]), array([0.00530478, 0.00873349, 0.01374981, 0.01459452, 0.02159587,\n",
      "       0.02363904, 0.02390649, 0.02625015, 0.03223364, 0.03972706,\n",
      "       0.05315849, 0.06348656, 0.0667982 , 0.07049455, 0.07311402,\n",
      "       0.09259435, 0.09580814, 0.13580676, 0.26731385, 0.37060136,\n",
      "       0.43475684, 0.505465  , 0.53050317, 0.61210442, 0.62840941,\n",
      "       0.67998763, 0.74015297, 0.95216307, 0.990389  , 0.99229207,\n",
      "       0.99240212, 0.99616838, 0.99624232, 0.99648094, 0.999877  ,\n",
      "       0.99988104, 0.99991485, 0.99992419, 0.99992892, 0.99997802,\n",
      "       0.99998204, 0.99999497, 0.99999642, 0.99999798, 0.99999992,\n",
      "       0.99999994, 0.99999998, 0.99999999, 1.        , 1.        ,\n",
      "       1.        , 1.        , 1.        , 1.        ])), (array([1., 1., 1., 1., 1., 1., 1., 1., 1., 1., 1., 1., 1., 1., 1., 1., 1.,\n",
      "       1., 1., 1., 1., 1., 1., 1., 1., 1., 1., 1.]), array([1.        , 0.96296296, 0.92592593, 0.88888889, 0.85185185,\n",
      "       0.81481481, 0.77777778, 0.74074074, 0.7037037 , 0.66666667,\n",
      "       0.62962963, 0.59259259, 0.55555556, 0.51851852, 0.48148148,\n",
      "       0.44444444, 0.40740741, 0.37037037, 0.33333333, 0.2962963 ,\n",
      "       0.25925926, 0.22222222, 0.18518519, 0.14814815, 0.11111111,\n",
      "       0.07407407, 0.03703704, 0.        ]), array([0.45824935, 0.52314538, 0.86389665, 0.91325048, 0.92484561,\n",
      "       0.9291704 , 0.96563197, 0.9852051 , 0.99344556, 0.99381834,\n",
      "       0.99435449, 0.99903063, 0.99949392, 0.99976603, 0.99991932,\n",
      "       0.99993758, 0.99994944, 0.99996114, 0.99996213, 0.99996884,\n",
      "       0.99997808, 0.99999818, 0.99999989, 0.99999992, 0.99999997,\n",
      "       0.99999999, 1.        ])), (array([0.92105263, 0.91891892, 0.94444444, 0.94285714, 0.97058824,\n",
      "       0.96969697, 0.96875   , 0.96774194, 0.96666667, 0.96551724,\n",
      "       0.96428571, 0.96296296, 0.96153846, 0.96      , 1.        ,\n",
      "       1.        , 1.        , 1.        , 1.        , 1.        ,\n",
      "       1.        , 1.        , 1.        , 1.        , 1.        ,\n",
      "       1.        , 1.        , 1.        , 1.        , 1.        ,\n",
      "       1.        , 1.        , 1.        , 1.        , 1.        ,\n",
      "       1.        , 1.        ]), array([1.        , 0.97142857, 0.97142857, 0.94285714, 0.94285714,\n",
      "       0.91428571, 0.88571429, 0.85714286, 0.82857143, 0.8       ,\n",
      "       0.77142857, 0.74285714, 0.71428571, 0.68571429, 0.68571429,\n",
      "       0.65714286, 0.62857143, 0.6       , 0.57142857, 0.54285714,\n",
      "       0.51428571, 0.48571429, 0.45714286, 0.42857143, 0.4       ,\n",
      "       0.37142857, 0.34285714, 0.31428571, 0.28571429, 0.25714286,\n",
      "       0.22857143, 0.2       , 0.17142857, 0.14285714, 0.11428571,\n",
      "       0.08571429, 0.        ]), array([0.17052182, 0.33077296, 0.90868041, 0.95352973, 0.95906935,\n",
      "       0.96516402, 0.97360419, 0.9979303 , 0.99939643, 0.99977297,\n",
      "       0.9998224 , 0.99995406, 0.99995977, 0.99996736, 0.99999512,\n",
      "       0.999996  , 0.99999741, 0.99999878, 0.99999884, 0.99999956,\n",
      "       0.99999973, 0.99999995, 0.99999999, 1.        , 1.        ,\n",
      "       1.        , 1.        , 1.        , 1.        , 1.        ,\n",
      "       1.        , 1.        , 1.        , 1.        , 1.        ,\n",
      "       1.        ]))], 'MCC': array([0.936])}\n",
      "=================================\n",
      "Evaluating model: SVM + AdaBoost\n",
      "TRAIN: 318, TEST: 80, X_k_train: (318, 30), X_k_test: (80, 30)\n",
      "Fitting 5 folds for each of 1944 candidates, totalling 9720 fits\n"
     ]
    },
    {
     "name": "stderr",
     "output_type": "stream",
     "text": [
      "[Parallel(n_jobs=-1)]: Done  15 out of  20 | elapsed:    0.1s remaining:    0.0s\n",
      "[Parallel(n_jobs=-1)]: Done  20 out of  20 | elapsed:    0.1s finished\n",
      "[Parallel(n_jobs=-1)]: Using backend LokyBackend with 24 concurrent workers.\n",
      "[Parallel(n_jobs=-1)]: Done   2 tasks      | elapsed:    0.3s\n",
      "[Parallel(n_jobs=-1)]: Done 152 tasks      | elapsed:    5.7s\n",
      "[Parallel(n_jobs=-1)]: Done 402 tasks      | elapsed:    9.7s\n",
      "[Parallel(n_jobs=-1)]: Done 752 tasks      | elapsed:   18.4s\n",
      "[Parallel(n_jobs=-1)]: Done 1202 tasks      | elapsed:   28.8s\n",
      "[Parallel(n_jobs=-1)]: Done 1752 tasks      | elapsed:   40.4s\n",
      "[Parallel(n_jobs=-1)]: Done 2402 tasks      | elapsed:   54.2s\n",
      "[Parallel(n_jobs=-1)]: Done 3152 tasks      | elapsed:  1.1min\n",
      "[Parallel(n_jobs=-1)]: Done 4002 tasks      | elapsed:  1.5min\n",
      "[Parallel(n_jobs=-1)]: Done 4952 tasks      | elapsed:  1.8min\n",
      "[Parallel(n_jobs=-1)]: Done 6002 tasks      | elapsed:  2.2min\n",
      "[Parallel(n_jobs=-1)]: Done 7152 tasks      | elapsed:  2.6min\n",
      "[Parallel(n_jobs=-1)]: Done 8402 tasks      | elapsed:  3.0min\n",
      "[Parallel(n_jobs=-1)]: Done 9720 out of 9720 | elapsed:  3.4min finished\n",
      "[Parallel(n_jobs=-1)]: Using backend LokyBackend with 24 concurrent workers.\n"
     ]
    },
    {
     "name": "stdout",
     "output_type": "stream",
     "text": [
      "TRAIN: 318, TEST: 80, X_k_train: (318, 30), X_k_test: (80, 30)\n",
      "Fitting 5 folds for each of 1944 candidates, totalling 9720 fits\n"
     ]
    },
    {
     "name": "stderr",
     "output_type": "stream",
     "text": [
      "[Parallel(n_jobs=-1)]: Done   2 tasks      | elapsed:    0.4s\n",
      "[Parallel(n_jobs=-1)]: Done 152 tasks      | elapsed:    5.5s\n",
      "[Parallel(n_jobs=-1)]: Done 402 tasks      | elapsed:   10.2s\n",
      "[Parallel(n_jobs=-1)]: Done 752 tasks      | elapsed:   19.2s\n",
      "[Parallel(n_jobs=-1)]: Done 1202 tasks      | elapsed:   30.0s\n",
      "[Parallel(n_jobs=-1)]: Done 1752 tasks      | elapsed:   42.8s\n",
      "[Parallel(n_jobs=-1)]: Done 2402 tasks      | elapsed:   57.3s\n",
      "[Parallel(n_jobs=-1)]: Done 3152 tasks      | elapsed:  1.2min\n",
      "[Parallel(n_jobs=-1)]: Done 4002 tasks      | elapsed:  1.6min\n",
      "[Parallel(n_jobs=-1)]: Done 4952 tasks      | elapsed:  1.9min\n",
      "[Parallel(n_jobs=-1)]: Done 6002 tasks      | elapsed:  2.3min\n",
      "[Parallel(n_jobs=-1)]: Done 7152 tasks      | elapsed:  2.7min\n",
      "[Parallel(n_jobs=-1)]: Done 8402 tasks      | elapsed:  3.1min\n",
      "[Parallel(n_jobs=-1)]: Done 9720 out of 9720 | elapsed:  3.6min finished\n"
     ]
    },
    {
     "name": "stdout",
     "output_type": "stream",
     "text": [
      "TRAIN: 318, TEST: 80, X_k_train: (318, 30), X_k_test: (80, 30)\n",
      "Fitting 5 folds for each of 1944 candidates, totalling 9720 fits\n"
     ]
    },
    {
     "name": "stderr",
     "output_type": "stream",
     "text": [
      "[Parallel(n_jobs=-1)]: Using backend LokyBackend with 24 concurrent workers.\n",
      "[Parallel(n_jobs=-1)]: Done   2 tasks      | elapsed:    0.4s\n",
      "[Parallel(n_jobs=-1)]: Done 152 tasks      | elapsed:    6.3s\n",
      "[Parallel(n_jobs=-1)]: Done 402 tasks      | elapsed:   11.7s\n",
      "[Parallel(n_jobs=-1)]: Done 752 tasks      | elapsed:   22.3s\n",
      "[Parallel(n_jobs=-1)]: Done 1202 tasks      | elapsed:   34.5s\n",
      "[Parallel(n_jobs=-1)]: Done 1752 tasks      | elapsed:   49.1s\n",
      "[Parallel(n_jobs=-1)]: Done 2402 tasks      | elapsed:  1.1min\n",
      "[Parallel(n_jobs=-1)]: Done 3152 tasks      | elapsed:  1.4min\n",
      "[Parallel(n_jobs=-1)]: Done 4002 tasks      | elapsed:  1.8min\n",
      "[Parallel(n_jobs=-1)]: Done 4952 tasks      | elapsed:  2.2min\n",
      "[Parallel(n_jobs=-1)]: Done 6002 tasks      | elapsed:  2.7min\n",
      "[Parallel(n_jobs=-1)]: Done 7152 tasks      | elapsed:  3.1min\n",
      "[Parallel(n_jobs=-1)]: Done 8402 tasks      | elapsed:  3.6min\n",
      "[Parallel(n_jobs=-1)]: Done 9720 out of 9720 | elapsed:  4.1min finished\n"
     ]
    },
    {
     "name": "stdout",
     "output_type": "stream",
     "text": [
      "TRAIN: 319, TEST: 79, X_k_train: (319, 30), X_k_test: (79, 30)\n",
      "Fitting 5 folds for each of 1944 candidates, totalling 9720 fits\n"
     ]
    },
    {
     "name": "stderr",
     "output_type": "stream",
     "text": [
      "[Parallel(n_jobs=-1)]: Using backend LokyBackend with 24 concurrent workers.\n",
      "[Parallel(n_jobs=-1)]: Done   2 tasks      | elapsed:    0.4s\n",
      "[Parallel(n_jobs=-1)]: Done 152 tasks      | elapsed:    6.6s\n",
      "[Parallel(n_jobs=-1)]: Done 402 tasks      | elapsed:   12.9s\n",
      "[Parallel(n_jobs=-1)]: Done 752 tasks      | elapsed:   24.6s\n",
      "[Parallel(n_jobs=-1)]: Done 1202 tasks      | elapsed:   38.0s\n",
      "[Parallel(n_jobs=-1)]: Done 1752 tasks      | elapsed:   54.2s\n",
      "[Parallel(n_jobs=-1)]: Done 2402 tasks      | elapsed:  1.2min\n",
      "[Parallel(n_jobs=-1)]: Done 3152 tasks      | elapsed:  1.6min\n",
      "[Parallel(n_jobs=-1)]: Done 4002 tasks      | elapsed:  2.0min\n",
      "[Parallel(n_jobs=-1)]: Done 4952 tasks      | elapsed:  2.5min\n",
      "[Parallel(n_jobs=-1)]: Done 6002 tasks      | elapsed:  3.0min\n",
      "[Parallel(n_jobs=-1)]: Done 7152 tasks      | elapsed:  3.5min\n",
      "[Parallel(n_jobs=-1)]: Done 8402 tasks      | elapsed:  4.1min\n",
      "[Parallel(n_jobs=-1)]: Done 9720 out of 9720 | elapsed:  4.7min finished\n"
     ]
    },
    {
     "name": "stdout",
     "output_type": "stream",
     "text": [
      "TRAIN: 319, TEST: 79, X_k_train: (319, 30), X_k_test: (79, 30)\n",
      "Fitting 5 folds for each of 1944 candidates, totalling 9720 fits\n"
     ]
    },
    {
     "name": "stderr",
     "output_type": "stream",
     "text": [
      "[Parallel(n_jobs=-1)]: Using backend LokyBackend with 24 concurrent workers.\n",
      "[Parallel(n_jobs=-1)]: Done   2 tasks      | elapsed:    0.4s\n",
      "[Parallel(n_jobs=-1)]: Done 152 tasks      | elapsed:    6.8s\n",
      "[Parallel(n_jobs=-1)]: Done 402 tasks      | elapsed:   13.0s\n",
      "[Parallel(n_jobs=-1)]: Done 752 tasks      | elapsed:   24.8s\n",
      "[Parallel(n_jobs=-1)]: Done 1202 tasks      | elapsed:   38.2s\n",
      "[Parallel(n_jobs=-1)]: Done 1752 tasks      | elapsed:   54.7s\n",
      "[Parallel(n_jobs=-1)]: Done 2402 tasks      | elapsed:  1.2min\n",
      "[Parallel(n_jobs=-1)]: Done 3152 tasks      | elapsed:  1.6min\n",
      "[Parallel(n_jobs=-1)]: Done 4002 tasks      | elapsed:  2.0min\n",
      "[Parallel(n_jobs=-1)]: Done 4952 tasks      | elapsed:  2.5min\n",
      "[Parallel(n_jobs=-1)]: Done 6002 tasks      | elapsed:  3.0min\n",
      "[Parallel(n_jobs=-1)]: Done 7152 tasks      | elapsed:  3.6min\n",
      "[Parallel(n_jobs=-1)]: Done 8402 tasks      | elapsed:  4.1min\n",
      "[Parallel(n_jobs=-1)]: Done 9720 out of 9720 | elapsed:  4.7min finished\n"
     ]
    },
    {
     "name": "stdout",
     "output_type": "stream",
     "text": [
      "SVC K-Fold mean_accuracy_score: 0.98, accuracy_scores: [0.9625, 0.9875, 1.0, 0.9873417721518988, 0.9620253164556962]\n",
      "SVC K-Fold mean_precision_score: 0.98, precision_scores: [0.9575378538512178, 0.9919354838709677, 1.0, 0.9905660377358491, 0.960594315245478]\n",
      "SVC K-Fold mean_recall_score: 0.976, recall_scores: [0.9633333333333334, 0.9736842105263157, 1.0, 0.9814814814814814, 0.9629870129870131]\n",
      "SVC K-Fold mean_f1_score: 0.978, f1_scores: [0.9602583209140587, 0.98242144583608, 1.0, 0.9858041329739443, 0.961631860126275]\n",
      "SVC K-Fold mean_roc_auc_score: 0.993, roc_auc_scores: [0.9893333333333333, 0.9775668679896461, 1.0, 0.9992877492877492, 0.9974025974025975]\n",
      "SVC K-Fold mean_mcc_score: 0.956, mcc_scores: [0.9208529501523341, 0.9654471944281583, 1.0, 0.9720050670928767, 0.9235782288778845]\n",
      "result: {'Model': 'SVM + AdaBoost', 'Accuracy': array([0.98]), 'Precision': array([0.98]), 'Recall': array([0.976]), 'F1': array([0.978]), 'ROC': array([0.993]), 'PRC': [(array([0.66666667, 0.65909091, 0.6744186 , 0.69047619, 0.70731707,\n",
      "       0.725     , 0.74358974, 0.76315789, 0.78378378, 0.80555556,\n",
      "       0.82857143, 0.85294118, 0.87878788, 0.90625   , 0.93548387,\n",
      "       0.96666667, 0.96551724, 1.        , 1.        , 1.        ,\n",
      "       1.        , 1.        , 1.        , 1.        , 1.        ,\n",
      "       1.        , 1.        , 1.        , 1.        , 1.        ,\n",
      "       1.        , 1.        , 1.        , 1.        , 1.        ,\n",
      "       1.        , 1.        , 1.        , 1.        , 1.        ,\n",
      "       1.        , 1.        , 1.        , 1.        , 1.        ,\n",
      "       1.        ]), array([1.        , 0.96666667, 0.96666667, 0.96666667, 0.96666667,\n",
      "       0.96666667, 0.96666667, 0.96666667, 0.96666667, 0.96666667,\n",
      "       0.96666667, 0.96666667, 0.96666667, 0.96666667, 0.96666667,\n",
      "       0.96666667, 0.93333333, 0.93333333, 0.9       , 0.86666667,\n",
      "       0.83333333, 0.8       , 0.76666667, 0.73333333, 0.7       ,\n",
      "       0.66666667, 0.63333333, 0.6       , 0.56666667, 0.53333333,\n",
      "       0.5       , 0.46666667, 0.43333333, 0.4       , 0.36666667,\n",
      "       0.33333333, 0.3       , 0.26666667, 0.23333333, 0.2       ,\n",
      "       0.16666667, 0.13333333, 0.1       , 0.06666667, 0.03333333,\n",
      "       0.        ]), array([0.04140196, 0.06300228, 0.08756707, 0.09408844, 0.09917543,\n",
      "       0.10051996, 0.10429602, 0.12728877, 0.15142603, 0.18105666,\n",
      "       0.21208242, 0.22813377, 0.2560127 , 0.49842879, 0.58009886,\n",
      "       0.82610483, 0.83199519, 0.83908212, 0.88611278, 0.91191877,\n",
      "       0.96420196, 0.97164984, 0.97470553, 0.97873305, 0.99994416,\n",
      "       0.99997208, 0.99998547, 0.99999116, 0.99999741, 0.99999862,\n",
      "       0.99999918, 0.99999937, 0.99999939, 0.99999983, 0.99999992,\n",
      "       0.99999993, 0.99999998, 0.99999998, 0.99999998, 0.99999999,\n",
      "       1.        , 1.        , 1.        , 1.        , 1.        ])), (array([0.42222222, 0.40909091, 0.41860465, 0.42857143, 0.43902439,\n",
      "       0.45      , 0.46153846, 0.47368421, 0.48648649, 0.5       ,\n",
      "       0.51428571, 0.52941176, 0.54545455, 0.5625    , 0.58064516,\n",
      "       0.6       , 0.62068966, 0.64285714, 0.66666667, 0.69230769,\n",
      "       0.72      , 0.75      , 0.7826087 , 0.81818182, 0.85714286,\n",
      "       0.9       , 0.94736842, 1.        , 1.        , 1.        ,\n",
      "       1.        , 1.        , 1.        , 1.        , 1.        ,\n",
      "       1.        , 1.        , 1.        , 1.        , 1.        ,\n",
      "       1.        , 1.        , 1.        , 1.        , 1.        ,\n",
      "       1.        ]), array([1.        , 0.94736842, 0.94736842, 0.94736842, 0.94736842,\n",
      "       0.94736842, 0.94736842, 0.94736842, 0.94736842, 0.94736842,\n",
      "       0.94736842, 0.94736842, 0.94736842, 0.94736842, 0.94736842,\n",
      "       0.94736842, 0.94736842, 0.94736842, 0.94736842, 0.94736842,\n",
      "       0.94736842, 0.94736842, 0.94736842, 0.94736842, 0.94736842,\n",
      "       0.94736842, 0.94736842, 0.94736842, 0.89473684, 0.84210526,\n",
      "       0.78947368, 0.73684211, 0.68421053, 0.63157895, 0.57894737,\n",
      "       0.52631579, 0.47368421, 0.42105263, 0.36842105, 0.31578947,\n",
      "       0.26315789, 0.21052632, 0.15789474, 0.10526316, 0.05263158,\n",
      "       0.        ]), array([0.01764734, 0.01779588, 0.01807477, 0.01868733, 0.01919241,\n",
      "       0.01929644, 0.02078889, 0.02110867, 0.02535143, 0.0345814 ,\n",
      "       0.03789223, 0.03832542, 0.04014803, 0.04871881, 0.05612806,\n",
      "       0.05896848, 0.07183158, 0.11800542, 0.11885555, 0.12059599,\n",
      "       0.12827211, 0.14005541, 0.14470988, 0.14517606, 0.17807799,\n",
      "       0.42375698, 0.45662107, 0.85016439, 0.88131029, 0.9205278 ,\n",
      "       0.92130021, 0.94269418, 0.94795171, 0.98316282, 0.99566118,\n",
      "       0.99946108, 0.99961836, 0.9997152 , 0.99993922, 0.99998989,\n",
      "       0.99999813, 0.99999883, 0.99999989, 0.9999999 , 0.99999993])), (array([1., 1., 1., 1., 1., 1., 1., 1., 1., 1., 1., 1., 1., 1., 1., 1., 1.,\n",
      "       1., 1., 1., 1., 1., 1., 1., 1., 1., 1., 1., 1., 1., 1., 1., 1., 1.,\n",
      "       1.]), array([1.        , 0.97058824, 0.94117647, 0.91176471, 0.88235294,\n",
      "       0.85294118, 0.82352941, 0.79411765, 0.76470588, 0.73529412,\n",
      "       0.70588235, 0.67647059, 0.64705882, 0.61764706, 0.58823529,\n",
      "       0.55882353, 0.52941176, 0.5       , 0.47058824, 0.44117647,\n",
      "       0.41176471, 0.38235294, 0.35294118, 0.32352941, 0.29411765,\n",
      "       0.26470588, 0.23529412, 0.20588235, 0.17647059, 0.14705882,\n",
      "       0.11764706, 0.08823529, 0.05882353, 0.02941176, 0.        ]), array([0.56652939, 0.64135828, 0.64915382, 0.70570535, 0.70996044,\n",
      "       0.82412644, 0.83536854, 0.95103772, 0.9517001 , 0.95261452,\n",
      "       0.95278528, 0.95829867, 0.97000081, 0.97664511, 0.9802574 ,\n",
      "       0.99000721, 0.99045352, 0.99822288, 0.99849813, 0.99940786,\n",
      "       0.9997011 , 0.99972958, 0.99984762, 0.99996111, 0.99996634,\n",
      "       0.99996848, 0.99998047, 0.99998989, 0.99999781, 0.99999854,\n",
      "       0.99999938, 0.99999943, 0.99999979, 0.9999998 ])), (array([0.96428571, 0.96296296, 1.        , 1.        , 1.        ,\n",
      "       1.        , 1.        , 1.        , 1.        , 1.        ,\n",
      "       1.        , 1.        , 1.        , 1.        , 1.        ,\n",
      "       1.        , 1.        , 1.        , 1.        , 1.        ,\n",
      "       1.        , 1.        , 1.        , 1.        , 1.        ,\n",
      "       1.        , 1.        , 1.        , 1.        ]), array([1.        , 0.96296296, 0.96296296, 0.92592593, 0.88888889,\n",
      "       0.85185185, 0.81481481, 0.77777778, 0.74074074, 0.7037037 ,\n",
      "       0.66666667, 0.62962963, 0.59259259, 0.55555556, 0.51851852,\n",
      "       0.48148148, 0.44444444, 0.40740741, 0.37037037, 0.33333333,\n",
      "       0.2962963 , 0.25925926, 0.22222222, 0.18518519, 0.14814815,\n",
      "       0.11111111, 0.07407407, 0.03703704, 0.        ]), array([0.35620796, 0.40834667, 0.51221815, 0.56437788, 0.65294253,\n",
      "       0.65655765, 0.76909438, 0.7847264 , 0.81597119, 0.83094655,\n",
      "       0.83903415, 0.8909779 , 0.91282031, 0.94741561, 0.95258395,\n",
      "       0.95667968, 0.96183545, 0.97798868, 0.97896344, 0.98094087,\n",
      "       0.99061463, 0.99070453, 0.99694495, 0.99696408, 0.99741287,\n",
      "       0.9985987 , 0.99881949, 0.9990527 ])), (array([0.92105263, 0.91891892, 0.94444444, 0.97142857, 0.97058824,\n",
      "       1.        , 1.        , 1.        , 1.        , 1.        ,\n",
      "       1.        , 1.        , 1.        , 1.        , 1.        ,\n",
      "       1.        , 1.        , 1.        , 1.        , 1.        ,\n",
      "       1.        , 1.        , 1.        , 1.        , 1.        ,\n",
      "       1.        , 1.        , 1.        , 1.        , 1.        ,\n",
      "       1.        , 1.        , 1.        , 1.        , 1.        ,\n",
      "       1.        , 1.        , 1.        , 1.        ]), array([1.        , 0.97142857, 0.97142857, 0.97142857, 0.94285714,\n",
      "       0.94285714, 0.91428571, 0.88571429, 0.85714286, 0.82857143,\n",
      "       0.8       , 0.77142857, 0.74285714, 0.71428571, 0.68571429,\n",
      "       0.65714286, 0.62857143, 0.6       , 0.57142857, 0.54285714,\n",
      "       0.51428571, 0.48571429, 0.45714286, 0.42857143, 0.4       ,\n",
      "       0.37142857, 0.34285714, 0.31428571, 0.28571429, 0.25714286,\n",
      "       0.22857143, 0.2       , 0.17142857, 0.14285714, 0.11428571,\n",
      "       0.08571429, 0.05714286, 0.02857143, 0.        ]), array([0.26239373, 0.29565657, 0.75608835, 0.7652756 , 0.8088649 ,\n",
      "       0.88205622, 0.94294693, 0.94665816, 0.95380786, 0.95482238,\n",
      "       0.96343354, 0.98842637, 0.9969663 , 0.99779048, 0.99956907,\n",
      "       0.99979555, 0.99980591, 0.99981749, 0.99994735, 0.9999681 ,\n",
      "       0.99997074, 0.99997768, 0.99998486, 0.99998594, 0.99998921,\n",
      "       0.99999214, 0.99999598, 0.99999712, 0.99999813, 0.99999841,\n",
      "       0.99999884, 0.9999997 , 0.9999997 , 0.99999977, 0.99999982,\n",
      "       0.99999997, 0.99999997, 0.99999998]))], 'MCC': array([0.956])}\n",
      "=================================\n",
      "Evaluating model: Decision Trees\n",
      "TRAIN: 318, TEST: 80, X_k_train: (318, 30), X_k_test: (80, 30)\n",
      "Fitting 5 folds for each of 20 candidates, totalling 100 fits\n"
     ]
    },
    {
     "name": "stderr",
     "output_type": "stream",
     "text": [
      "[Parallel(n_jobs=-1)]: Using backend LokyBackend with 24 concurrent workers.\n",
      "[Parallel(n_jobs=-1)]: Done   2 tasks      | elapsed:    0.0s\n",
      "[Parallel(n_jobs=-1)]: Done 100 out of 100 | elapsed:    0.3s finished\n",
      "[Parallel(n_jobs=-1)]: Using backend LokyBackend with 24 concurrent workers.\n",
      "[Parallel(n_jobs=-1)]: Done   2 tasks      | elapsed:    0.0s\n"
     ]
    },
    {
     "name": "stdout",
     "output_type": "stream",
     "text": [
      "TRAIN: 318, TEST: 80, X_k_train: (318, 30), X_k_test: (80, 30)\n",
      "Fitting 5 folds for each of 20 candidates, totalling 100 fits\n"
     ]
    },
    {
     "name": "stderr",
     "output_type": "stream",
     "text": [
      "[Parallel(n_jobs=-1)]: Done 100 out of 100 | elapsed:    0.3s finished\n",
      "[Parallel(n_jobs=-1)]: Using backend LokyBackend with 24 concurrent workers.\n",
      "[Parallel(n_jobs=-1)]: Done   2 tasks      | elapsed:    0.0s\n"
     ]
    },
    {
     "name": "stdout",
     "output_type": "stream",
     "text": [
      "TRAIN: 318, TEST: 80, X_k_train: (318, 30), X_k_test: (80, 30)\n",
      "Fitting 5 folds for each of 20 candidates, totalling 100 fits\n"
     ]
    },
    {
     "name": "stderr",
     "output_type": "stream",
     "text": [
      "[Parallel(n_jobs=-1)]: Done 100 out of 100 | elapsed:    0.3s finished\n",
      "[Parallel(n_jobs=-1)]: Using backend LokyBackend with 24 concurrent workers.\n",
      "[Parallel(n_jobs=-1)]: Done   2 tasks      | elapsed:    0.0s\n"
     ]
    },
    {
     "name": "stdout",
     "output_type": "stream",
     "text": [
      "TRAIN: 319, TEST: 79, X_k_train: (319, 30), X_k_test: (79, 30)\n",
      "Fitting 5 folds for each of 20 candidates, totalling 100 fits\n"
     ]
    },
    {
     "name": "stderr",
     "output_type": "stream",
     "text": [
      "[Parallel(n_jobs=-1)]: Done 100 out of 100 | elapsed:    0.3s finished\n",
      "[Parallel(n_jobs=-1)]: Using backend LokyBackend with 24 concurrent workers.\n",
      "[Parallel(n_jobs=-1)]: Done   2 tasks      | elapsed:    0.1s\n"
     ]
    },
    {
     "name": "stdout",
     "output_type": "stream",
     "text": [
      "TRAIN: 319, TEST: 79, X_k_train: (319, 30), X_k_test: (79, 30)\n",
      "Fitting 5 folds for each of 20 candidates, totalling 100 fits\n"
     ]
    },
    {
     "name": "stderr",
     "output_type": "stream",
     "text": [
      "[Parallel(n_jobs=-1)]: Done 100 out of 100 | elapsed:    0.3s finished\n",
      "[Parallel(n_jobs=-1)]: Using backend LokyBackend with 24 concurrent workers.\n"
     ]
    },
    {
     "name": "stdout",
     "output_type": "stream",
     "text": [
      "SVC K-Fold mean_accuracy_score: 0.937, accuracy_scores: [0.925, 0.9375, 0.8875, 0.9620253164556962, 0.9746835443037974]\n",
      "SVC K-Fold mean_precision_score: 0.932, precision_scores: [0.9199999999999999, 0.9202508960573477, 0.8840351979886863, 0.961901306240929, 0.9743506493506493]\n",
      "SVC K-Fold mean_recall_score: 0.929, recall_scores: [0.9199999999999999, 0.9046591889559965, 0.8906649616368286, 0.9533475783475783, 0.9743506493506493]\n",
      "SVC K-Fold mean_f1_score: 0.93, f1_scores: [0.9199999999999999, 0.9121072291804, 0.8860579205570502, 0.9574123989218328, 0.9743506493506493]\n",
      "SVC K-Fold mean_roc_auc_score: 0.93, roc_auc_scores: [0.9276666666666666, 0.9046591889559965, 0.8906649616368285, 0.9533475783475783, 0.9743506493506494]\n",
      "SVC K-Fold mean_mcc_score: 0.861, mcc_scores: [0.84, 0.8247627216517418, 0.7746717908622774, 0.9152089130245799, 0.9487012987012987]\n",
      "result: {'Model': 'Decision Trees', 'Accuracy': array([0.937]), 'Precision': array([0.932]), 'Recall': array([0.929]), 'F1': array([0.93]), 'ROC': array([0.93]), 'PRC': [(array([0.375     , 0.77142857, 0.9       , 0.92307692, 0.95652174,\n",
      "       1.        ]), array([1.        , 0.9       , 0.9       , 0.8       , 0.73333333,\n",
      "       0.        ]), array([0.        , 0.15384615, 0.71428571, 0.8       , 1.        ])), (array([0.2375    , 0.88888889, 1.        ]), array([1.        , 0.84210526, 0.        ]), array([0., 1.])), (array([0.425     , 0.83783784, 1.        ]), array([1.        , 0.91176471, 0.        ]), array([0.03      , 0.88983051])), (array([0.34177215, 0.96153846, 1.        ]), array([1.        , 0.92592593, 0.        ]), array([0., 1.])), (array([0.44303797, 0.97142857, 1.        ]), array([1.        , 0.97142857, 0.        ]), array([0., 1.]))], 'MCC': array([0.861])}\n",
      "=================================\n",
      "Evaluating model: Naive Bayes\n",
      "TRAIN: 318, TEST: 80, X_k_train: (318, 30), X_k_test: (80, 30)\n",
      "TRAIN: 318, TEST: 80, X_k_train: (318, 30), X_k_test: (80, 30)\n",
      "TRAIN: 318, TEST: 80, X_k_train: (318, 30), X_k_test: (80, 30)\n",
      "TRAIN: 319, TEST: 79, X_k_train: (319, 30), X_k_test: (79, 30)\n",
      "TRAIN: 319, TEST: 79, X_k_train: (319, 30), X_k_test: (79, 30)\n",
      "SVC K-Fold mean_accuracy_score: 0.932, accuracy_scores: [0.9375, 0.9625, 0.9125, 0.9113924050632911, 0.9367088607594937]\n",
      "SVC K-Fold mean_precision_score: 0.928, precision_scores: [0.9312047399605003, 0.9560931899641577, 0.9119922630560928, 0.9045718432510885, 0.935077519379845]\n",
      "SVC K-Fold mean_recall_score: 0.924, recall_scores: [0.9366666666666666, 0.9391716997411561, 0.9085677749360614, 0.8970797720797721, 0.9373376623376624]\n",
      "SVC K-Fold mean_f1_score: 0.926, f1_scores: [0.9337638681900977, 0.9472643375082399, 0.9101267854277002, 0.9006289308176101, 0.9360531002104582]\n",
      "SVC K-Fold mean_roc_auc_score: 0.983, roc_auc_scores: [0.9833333333333334, 0.9896462467644521, 0.9891304347826088, 0.9886039886039887, 0.9662337662337663]\n",
      "SVC K-Fold mean_mcc_score: 0.852, mcc_scores: [0.867854219208315, 0.89510495803995, 0.8205528921591839, 0.8016166048879864, 0.8724122540662766]\n",
      "result: {'Model': 'Naive Bayes', 'Accuracy': array([0.932]), 'Precision': array([0.928]), 'Recall': array([0.924]), 'F1': array([0.926]), 'ROC': array([0.983]), 'PRC': [(array([0.6       , 0.59183673, 0.60416667, 0.61702128, 0.63043478,\n",
      "       0.64444444, 0.65909091, 0.6744186 , 0.69047619, 0.70731707,\n",
      "       0.725     , 0.74358974, 0.76315789, 0.78378378, 0.80555556,\n",
      "       0.82857143, 0.85294118, 0.87878788, 0.875     , 0.90322581,\n",
      "       0.93333333, 0.96551724, 0.96428571, 1.        , 1.        ,\n",
      "       1.        , 1.        , 1.        ]), array([1.        , 0.96666667, 0.96666667, 0.96666667, 0.96666667,\n",
      "       0.96666667, 0.96666667, 0.96666667, 0.96666667, 0.96666667,\n",
      "       0.96666667, 0.96666667, 0.96666667, 0.96666667, 0.96666667,\n",
      "       0.96666667, 0.96666667, 0.96666667, 0.93333333, 0.93333333,\n",
      "       0.93333333, 0.93333333, 0.9       , 0.9       , 0.86666667,\n",
      "       0.83333333, 0.8       , 0.        ]), array([5.65607049e-13, 8.59045088e-13, 2.84939147e-12, 3.41792126e-12,\n",
      "       1.44511099e-11, 3.22437709e-11, 7.76248225e-11, 2.74798381e-08,\n",
      "       6.78006430e-08, 2.16163805e-07, 3.66696450e-07, 3.79781204e-07,\n",
      "       9.67641463e-07, 1.80702359e-06, 2.00584284e-06, 2.06484157e-05,\n",
      "       6.85718700e-04, 6.52143892e-03, 4.24924219e-01, 5.37027820e-01,\n",
      "       5.49436505e-01, 9.13480266e-01, 9.87719192e-01, 9.95969984e-01,\n",
      "       9.99960133e-01, 1.00000000e+00, 1.00000000e+00])), (array([0.65517241, 0.64285714, 0.66666667, 0.69230769, 0.72      ,\n",
      "       0.75      , 0.7826087 , 0.81818182, 0.85714286, 0.9       ,\n",
      "       0.89473684, 0.94444444, 1.        , 1.        , 1.        ,\n",
      "       1.        , 1.        , 1.        ]), array([1.        , 0.94736842, 0.94736842, 0.94736842, 0.94736842,\n",
      "       0.94736842, 0.94736842, 0.94736842, 0.94736842, 0.94736842,\n",
      "       0.89473684, 0.89473684, 0.89473684, 0.84210526, 0.78947368,\n",
      "       0.73684211, 0.68421053, 0.        ]), array([8.72349908e-10, 9.97419239e-10, 3.67246776e-08, 1.60323110e-07,\n",
      "       1.17368223e-05, 8.33909702e-05, 1.10856399e-04, 1.69923589e-04,\n",
      "       2.65282495e-02, 3.85267691e-02, 3.01193525e-01, 9.63798701e-01,\n",
      "       9.85409575e-01, 1.00000000e+00, 1.00000000e+00, 1.00000000e+00,\n",
      "       1.00000000e+00])), (array([0.91891892, 0.91666667, 0.91428571, 0.91176471, 0.90909091,\n",
      "       0.9375    , 0.93548387, 0.93333333, 0.96551724, 0.96428571,\n",
      "       1.        , 1.        , 1.        , 1.        , 1.        ]), array([1.        , 0.97058824, 0.94117647, 0.91176471, 0.88235294,\n",
      "       0.88235294, 0.85294118, 0.82352941, 0.82352941, 0.79411765,\n",
      "       0.79411765, 0.76470588, 0.73529412, 0.70588235, 0.        ]), array([0.01576402, 0.04678903, 0.1196647 , 0.37644909, 0.89545077,\n",
      "       0.97577655, 0.99834101, 0.99986927, 0.99994633, 0.99999997,\n",
      "       1.        , 1.        , 1.        , 1.        ])), (array([0.87096774, 0.86666667, 0.89655172, 0.89285714, 0.88888889,\n",
      "       0.88461538, 0.92      , 0.91666667, 0.95652174, 0.95454545,\n",
      "       1.        , 1.        , 1.        , 1.        , 1.        ,\n",
      "       1.        , 1.        ]), array([1.        , 0.96296296, 0.96296296, 0.92592593, 0.88888889,\n",
      "       0.85185185, 0.85185185, 0.81481481, 0.81481481, 0.77777778,\n",
      "       0.77777778, 0.74074074, 0.7037037 , 0.66666667, 0.62962963,\n",
      "       0.59259259, 0.        ]), array([1.74541566e-05, 1.94206753e-05, 3.08586274e-03, 4.44088556e-03,\n",
      "       1.98041622e-02, 7.72791077e-01, 9.94296750e-01, 9.99911301e-01,\n",
      "       9.99999987e-01, 9.99999993e-01, 9.99999994e-01, 9.99999999e-01,\n",
      "       1.00000000e+00, 1.00000000e+00, 1.00000000e+00, 1.00000000e+00])), (array([0.83333333, 0.82926829, 0.85      , 0.87179487, 0.86842105,\n",
      "       0.89189189, 0.91666667, 0.91428571, 0.94117647, 0.93939394,\n",
      "       0.9375    , 0.93548387, 0.93333333, 0.93103448, 1.        ]), array([1.        , 0.97142857, 0.97142857, 0.97142857, 0.94285714,\n",
      "       0.94285714, 0.94285714, 0.91428571, 0.91428571, 0.88571429,\n",
      "       0.85714286, 0.82857143, 0.8       , 0.77142857, 0.        ]), array([9.88508829e-08, 1.09083641e-04, 4.84022087e-04, 4.21587562e-03,\n",
      "       1.69625024e-02, 4.68085199e-01, 9.45686671e-01, 9.75586848e-01,\n",
      "       9.99991056e-01, 9.99999999e-01, 1.00000000e+00, 1.00000000e+00,\n",
      "       1.00000000e+00, 1.00000000e+00]))], 'MCC': array([0.852])}\n",
      "=================================\n",
      "Evaluating model: Stacking MLP\n",
      "TRAIN: 318, TEST: 80, X_k_train: (318, 30), X_k_test: (80, 30)\n",
      "Fitting 5 folds for each of 1944 candidates, totalling 9720 fits\n"
     ]
    },
    {
     "name": "stderr",
     "output_type": "stream",
     "text": [
      "[Parallel(n_jobs=-1)]: Done   2 tasks      | elapsed:    0.1s\n",
      "[Parallel(n_jobs=-1)]: Done 256 tasks      | elapsed:    2.3s\n",
      "[Parallel(n_jobs=-1)]: Done 756 tasks      | elapsed:    5.5s\n",
      "[Parallel(n_jobs=-1)]: Done 1456 tasks      | elapsed:    9.5s\n",
      "[Parallel(n_jobs=-1)]: Done 2356 tasks      | elapsed:   15.1s\n",
      "[Parallel(n_jobs=-1)]: Done 3456 tasks      | elapsed:   22.1s\n",
      "[Parallel(n_jobs=-1)]: Done 4756 tasks      | elapsed:   29.5s\n",
      "[Parallel(n_jobs=-1)]: Done 6256 tasks      | elapsed:   39.0s\n",
      "[Parallel(n_jobs=-1)]: Done 9000 tasks      | elapsed:   50.6s\n",
      "[Parallel(n_jobs=-1)]: Done 9720 out of 9720 | elapsed:   56.0s finished\n",
      "[Parallel(n_jobs=-1)]: Using backend LokyBackend with 24 concurrent workers.\n"
     ]
    },
    {
     "name": "stdout",
     "output_type": "stream",
     "text": [
      "Fitting 5 folds for each of 1944 candidates, totalling 9720 fits\n"
     ]
    },
    {
     "name": "stderr",
     "output_type": "stream",
     "text": [
      "[Parallel(n_jobs=-1)]: Done   2 tasks      | elapsed:    0.1s\n",
      "[Parallel(n_jobs=-1)]: Done 256 tasks      | elapsed:    3.3s\n",
      "[Parallel(n_jobs=-1)]: Done 756 tasks      | elapsed:    7.6s\n",
      "[Parallel(n_jobs=-1)]: Done 1456 tasks      | elapsed:   13.1s\n",
      "[Parallel(n_jobs=-1)]: Done 2356 tasks      | elapsed:   21.0s\n",
      "[Parallel(n_jobs=-1)]: Done 3456 tasks      | elapsed:   30.2s\n",
      "[Parallel(n_jobs=-1)]: Done 4756 tasks      | elapsed:   40.0s\n",
      "[Parallel(n_jobs=-1)]: Done 6256 tasks      | elapsed:   52.8s\n",
      "[Parallel(n_jobs=-1)]: Done 7956 tasks      | elapsed:  1.1min\n",
      "[Parallel(n_jobs=-1)]: Done 9673 out of 9720 | elapsed:  1.3min remaining:    0.4s\n",
      "[Parallel(n_jobs=-1)]: Done 9720 out of 9720 | elapsed:  1.3min finished\n",
      "[Parallel(n_jobs=-1)]: Using backend LokyBackend with 24 concurrent workers.\n"
     ]
    },
    {
     "name": "stdout",
     "output_type": "stream",
     "text": [
      "Fitting 5 folds for each of 1944 candidates, totalling 9720 fits\n"
     ]
    },
    {
     "name": "stderr",
     "output_type": "stream",
     "text": [
      "[Parallel(n_jobs=-1)]: Done   2 tasks      | elapsed:    0.3s\n",
      "[Parallel(n_jobs=-1)]: Done 152 tasks      | elapsed:    4.0s\n",
      "[Parallel(n_jobs=-1)]: Done 402 tasks      | elapsed:    6.8s\n",
      "[Parallel(n_jobs=-1)]: Done 752 tasks      | elapsed:   13.2s\n",
      "[Parallel(n_jobs=-1)]: Done 1202 tasks      | elapsed:   20.5s\n",
      "[Parallel(n_jobs=-1)]: Done 1752 tasks      | elapsed:   28.9s\n",
      "[Parallel(n_jobs=-1)]: Done 2402 tasks      | elapsed:   38.8s\n",
      "[Parallel(n_jobs=-1)]: Done 3152 tasks      | elapsed:   49.4s\n",
      "[Parallel(n_jobs=-1)]: Done 4002 tasks      | elapsed:  1.1min\n",
      "[Parallel(n_jobs=-1)]: Done 4952 tasks      | elapsed:  1.3min\n",
      "[Parallel(n_jobs=-1)]: Done 6002 tasks      | elapsed:  1.6min\n",
      "[Parallel(n_jobs=-1)]: Done 7152 tasks      | elapsed:  1.8min\n",
      "[Parallel(n_jobs=-1)]: Done 8906 tasks      | elapsed:  2.2min\n",
      "[Parallel(n_jobs=-1)]: Done 9720 out of 9720 | elapsed:  2.4min finished\n",
      "[Parallel(n_jobs=-1)]: Using backend LokyBackend with 24 concurrent workers.\n"
     ]
    },
    {
     "name": "stdout",
     "output_type": "stream",
     "text": [
      "Fitting 5 folds for each of 1944 candidates, totalling 9720 fits\n"
     ]
    },
    {
     "name": "stderr",
     "output_type": "stream",
     "text": [
      "[Parallel(n_jobs=-1)]: Done   2 tasks      | elapsed:    0.2s\n",
      "[Parallel(n_jobs=-1)]: Done 239 tasks      | elapsed:    4.8s\n",
      "[Parallel(n_jobs=-1)]: Done 498 tasks      | elapsed:    7.5s\n",
      "[Parallel(n_jobs=-1)]: Done 848 tasks      | elapsed:   13.5s\n",
      "[Parallel(n_jobs=-1)]: Done 1298 tasks      | elapsed:   20.7s\n",
      "[Parallel(n_jobs=-1)]: Done 1848 tasks      | elapsed:   29.2s\n",
      "[Parallel(n_jobs=-1)]: Done 2498 tasks      | elapsed:   38.9s\n",
      "[Parallel(n_jobs=-1)]: Done 3248 tasks      | elapsed:   49.7s\n",
      "[Parallel(n_jobs=-1)]: Done 4098 tasks      | elapsed:  1.0min\n",
      "[Parallel(n_jobs=-1)]: Done 5048 tasks      | elapsed:  1.3min\n",
      "[Parallel(n_jobs=-1)]: Done 6098 tasks      | elapsed:  1.6min\n",
      "[Parallel(n_jobs=-1)]: Done 7248 tasks      | elapsed:  1.8min\n",
      "[Parallel(n_jobs=-1)]: Done 8666 tasks      | elapsed:  2.2min\n",
      "[Parallel(n_jobs=-1)]: Done 9720 out of 9720 | elapsed:  2.4min finished\n"
     ]
    },
    {
     "name": "stdout",
     "output_type": "stream",
     "text": [
      "Fitting 5 folds for each of 1944 candidates, totalling 9720 fits\n"
     ]
    },
    {
     "name": "stderr",
     "output_type": "stream",
     "text": [
      "[Parallel(n_jobs=-1)]: Using backend LokyBackend with 24 concurrent workers.\n",
      "[Parallel(n_jobs=-1)]: Done   2 tasks      | elapsed:    0.1s\n",
      "[Parallel(n_jobs=-1)]: Done 240 tasks      | elapsed:    4.4s\n",
      "[Parallel(n_jobs=-1)]: Done 516 tasks      | elapsed:    7.4s\n",
      "[Parallel(n_jobs=-1)]: Done 944 tasks      | elapsed:   13.6s\n",
      "[Parallel(n_jobs=-1)]: Done 1514 tasks      | elapsed:   21.1s\n",
      "[Parallel(n_jobs=-1)]: Done 2256 tasks      | elapsed:   32.7s\n",
      "[Parallel(n_jobs=-1)]: Done 3026 tasks      | elapsed:   43.0s\n",
      "[Parallel(n_jobs=-1)]: Done 3776 tasks      | elapsed:   52.6s\n",
      "[Parallel(n_jobs=-1)]: Done 4626 tasks      | elapsed:  1.1min\n",
      "[Parallel(n_jobs=-1)]: Done 5696 tasks      | elapsed:  1.3min\n",
      "[Parallel(n_jobs=-1)]: Done 6986 tasks      | elapsed:  1.6min\n",
      "[Parallel(n_jobs=-1)]: Done 8256 tasks      | elapsed:  1.9min\n",
      "[Parallel(n_jobs=-1)]: Done 9673 out of 9720 | elapsed:  2.2min remaining:    0.6s\n",
      "[Parallel(n_jobs=-1)]: Done 9720 out of 9720 | elapsed:  2.2min finished\n",
      "[Parallel(n_jobs=-1)]: Using backend LokyBackend with 24 concurrent workers.\n"
     ]
    },
    {
     "name": "stdout",
     "output_type": "stream",
     "text": [
      "Fitting 5 folds for each of 4 candidates, totalling 20 fits\n",
      "Fitting 5 folds for each of 4 candidates, totalling 20 fits\n"
     ]
    },
    {
     "name": "stderr",
     "output_type": "stream",
     "text": [
      "[Parallel(n_jobs=-1)]: Done  15 out of  20 | elapsed:    0.1s remaining:    0.0s\n",
      "[Parallel(n_jobs=-1)]: Done  20 out of  20 | elapsed:    0.1s finished\n",
      "[Parallel(n_jobs=-1)]: Using backend LokyBackend with 24 concurrent workers.\n",
      "[Parallel(n_jobs=-1)]: Done  15 out of  20 | elapsed:    0.1s remaining:    0.0s\n",
      "[Parallel(n_jobs=-1)]: Done  20 out of  20 | elapsed:    0.1s finished\n",
      "[Parallel(n_jobs=-1)]: Using backend LokyBackend with 24 concurrent workers.\n"
     ]
    },
    {
     "name": "stdout",
     "output_type": "stream",
     "text": [
      "Fitting 5 folds for each of 4 candidates, totalling 20 fits\n",
      "Fitting 5 folds for each of 4 candidates, totalling 20 fits\n"
     ]
    },
    {
     "name": "stderr",
     "output_type": "stream",
     "text": [
      "[Parallel(n_jobs=-1)]: Done  15 out of  20 | elapsed:    0.1s remaining:    0.0s\n",
      "[Parallel(n_jobs=-1)]: Done  20 out of  20 | elapsed:    0.1s finished\n",
      "[Parallel(n_jobs=-1)]: Using backend LokyBackend with 24 concurrent workers.\n",
      "[Parallel(n_jobs=-1)]: Done  15 out of  20 | elapsed:    0.1s remaining:    0.0s\n",
      "[Parallel(n_jobs=-1)]: Done  20 out of  20 | elapsed:    0.1s finished\n",
      "[Parallel(n_jobs=-1)]: Using backend LokyBackend with 24 concurrent workers.\n",
      "[Parallel(n_jobs=-1)]: Done  15 out of  20 | elapsed:    0.1s remaining:    0.0s\n"
     ]
    },
    {
     "name": "stdout",
     "output_type": "stream",
     "text": [
      "Fitting 5 folds for each of 4 candidates, totalling 20 fits\n",
      "Fitting 5 folds for each of 20 candidates, totalling 100 fits\n"
     ]
    },
    {
     "name": "stderr",
     "output_type": "stream",
     "text": [
      "[Parallel(n_jobs=-1)]: Done  20 out of  20 | elapsed:    0.1s finished\n",
      "[Parallel(n_jobs=-1)]: Using backend LokyBackend with 24 concurrent workers.\n",
      "[Parallel(n_jobs=-1)]: Done   2 tasks      | elapsed:    0.0s\n",
      "[Parallel(n_jobs=-1)]: Done 100 out of 100 | elapsed:    0.3s finished\n",
      "[Parallel(n_jobs=-1)]: Using backend LokyBackend with 24 concurrent workers.\n",
      "[Parallel(n_jobs=-1)]: Done   2 tasks      | elapsed:    0.0s\n"
     ]
    },
    {
     "name": "stdout",
     "output_type": "stream",
     "text": [
      "Fitting 5 folds for each of 20 candidates, totalling 100 fits\n"
     ]
    },
    {
     "name": "stderr",
     "output_type": "stream",
     "text": [
      "[Parallel(n_jobs=-1)]: Done 100 out of 100 | elapsed:    0.3s finished\n",
      "[Parallel(n_jobs=-1)]: Using backend LokyBackend with 24 concurrent workers.\n",
      "[Parallel(n_jobs=-1)]: Done   2 tasks      | elapsed:    0.0s\n"
     ]
    },
    {
     "name": "stdout",
     "output_type": "stream",
     "text": [
      "Fitting 5 folds for each of 20 candidates, totalling 100 fits\n"
     ]
    },
    {
     "name": "stderr",
     "output_type": "stream",
     "text": [
      "[Parallel(n_jobs=-1)]: Done 100 out of 100 | elapsed:    0.3s finished\n",
      "[Parallel(n_jobs=-1)]: Using backend LokyBackend with 24 concurrent workers.\n",
      "[Parallel(n_jobs=-1)]: Done   2 tasks      | elapsed:    0.0s\n"
     ]
    },
    {
     "name": "stdout",
     "output_type": "stream",
     "text": [
      "Fitting 5 folds for each of 20 candidates, totalling 100 fits\n"
     ]
    },
    {
     "name": "stderr",
     "output_type": "stream",
     "text": [
      "[Parallel(n_jobs=-1)]: Done 100 out of 100 | elapsed:    0.3s finished\n",
      "[Parallel(n_jobs=-1)]: Using backend LokyBackend with 24 concurrent workers.\n",
      "[Parallel(n_jobs=-1)]: Done   2 tasks      | elapsed:    0.1s\n"
     ]
    },
    {
     "name": "stdout",
     "output_type": "stream",
     "text": [
      "Fitting 5 folds for each of 20 candidates, totalling 100 fits\n"
     ]
    },
    {
     "name": "stderr",
     "output_type": "stream",
     "text": [
      "[Parallel(n_jobs=-1)]: Done 100 out of 100 | elapsed:    0.3s finished\n",
      "[Parallel(n_jobs=-1)]: Using backend LokyBackend with 24 concurrent workers.\n"
     ]
    },
    {
     "name": "stdout",
     "output_type": "stream",
     "text": [
      "Fitting 5 folds for each of 1944 candidates, totalling 9720 fits\n"
     ]
    },
    {
     "name": "stderr",
     "output_type": "stream",
     "text": [
      "[Parallel(n_jobs=-1)]: Done   2 tasks      | elapsed:    0.2s\n",
      "[Parallel(n_jobs=-1)]: Done 217 tasks      | elapsed:    6.6s\n",
      "[Parallel(n_jobs=-1)]: Done 474 tasks      | elapsed:   10.2s\n",
      "[Parallel(n_jobs=-1)]: Done 824 tasks      | elapsed:   19.3s\n",
      "[Parallel(n_jobs=-1)]: Done 1274 tasks      | elapsed:   29.9s\n",
      "[Parallel(n_jobs=-1)]: Done 1824 tasks      | elapsed:   42.0s\n",
      "[Parallel(n_jobs=-1)]: Done 2474 tasks      | elapsed:   55.5s\n",
      "[Parallel(n_jobs=-1)]: Done 3224 tasks      | elapsed:  1.2min\n",
      "[Parallel(n_jobs=-1)]: Done 4074 tasks      | elapsed:  1.5min\n",
      "[Parallel(n_jobs=-1)]: Done 5024 tasks      | elapsed:  1.9min\n",
      "[Parallel(n_jobs=-1)]: Done 6074 tasks      | elapsed:  2.2min\n",
      "[Parallel(n_jobs=-1)]: Done 7224 tasks      | elapsed:  2.6min\n",
      "[Parallel(n_jobs=-1)]: Done 8474 tasks      | elapsed:  3.0min\n",
      "[Parallel(n_jobs=-1)]: Done 9720 out of 9720 | elapsed:  3.4min finished\n",
      "[Parallel(n_jobs=-1)]: Using backend LokyBackend with 24 concurrent workers.\n"
     ]
    },
    {
     "name": "stdout",
     "output_type": "stream",
     "text": [
      "Fitting 5 folds for each of 4 candidates, totalling 20 fits\n",
      "Fitting 5 folds for each of 20 candidates, totalling 100 fits\n"
     ]
    },
    {
     "name": "stderr",
     "output_type": "stream",
     "text": [
      "[Parallel(n_jobs=-1)]: Done  15 out of  20 | elapsed:    0.1s remaining:    0.0s\n",
      "[Parallel(n_jobs=-1)]: Done  20 out of  20 | elapsed:    0.1s finished\n",
      "[Parallel(n_jobs=-1)]: Using backend LokyBackend with 24 concurrent workers.\n",
      "[Parallel(n_jobs=-1)]: Done   2 tasks      | elapsed:    0.1s\n",
      "[Parallel(n_jobs=-1)]: Done 100 out of 100 | elapsed:    0.3s finished\n"
     ]
    },
    {
     "name": "stdout",
     "output_type": "stream",
     "text": [
      "TRAIN: 318, TEST: 80, X_k_train: (318, 30), X_k_test: (80, 30)\n",
      "Fitting 5 folds for each of 1944 candidates, totalling 9720 fits\n"
     ]
    },
    {
     "name": "stderr",
     "output_type": "stream",
     "text": [
      "[Parallel(n_jobs=-1)]: Using backend LokyBackend with 24 concurrent workers.\n",
      "[Parallel(n_jobs=-1)]: Done   2 tasks      | elapsed:    0.1s\n",
      "[Parallel(n_jobs=-1)]: Done 256 tasks      | elapsed:    2.9s\n",
      "[Parallel(n_jobs=-1)]: Done 756 tasks      | elapsed:    6.6s\n",
      "[Parallel(n_jobs=-1)]: Done 1456 tasks      | elapsed:   11.0s\n",
      "[Parallel(n_jobs=-1)]: Done 2356 tasks      | elapsed:   17.9s\n",
      "[Parallel(n_jobs=-1)]: Done 3456 tasks      | elapsed:   25.9s\n",
      "[Parallel(n_jobs=-1)]: Done 4756 tasks      | elapsed:   33.9s\n",
      "[Parallel(n_jobs=-1)]: Done 6256 tasks      | elapsed:   43.9s\n",
      "[Parallel(n_jobs=-1)]: Done 8424 tasks      | elapsed:   55.6s\n",
      "[Parallel(n_jobs=-1)]: Done 9673 out of 9720 | elapsed:  1.0min remaining:    0.3s\n",
      "[Parallel(n_jobs=-1)]: Done 9720 out of 9720 | elapsed:  1.1min finished\n",
      "[Parallel(n_jobs=-1)]: Using backend LokyBackend with 24 concurrent workers.\n"
     ]
    },
    {
     "name": "stdout",
     "output_type": "stream",
     "text": [
      "Fitting 5 folds for each of 1944 candidates, totalling 9720 fits\n"
     ]
    },
    {
     "name": "stderr",
     "output_type": "stream",
     "text": [
      "[Parallel(n_jobs=-1)]: Done   2 tasks      | elapsed:    0.1s\n",
      "[Parallel(n_jobs=-1)]: Done 256 tasks      | elapsed:    3.3s\n",
      "[Parallel(n_jobs=-1)]: Done 756 tasks      | elapsed:    8.4s\n",
      "[Parallel(n_jobs=-1)]: Done 1456 tasks      | elapsed:   14.3s\n",
      "[Parallel(n_jobs=-1)]: Done 2356 tasks      | elapsed:   23.4s\n",
      "[Parallel(n_jobs=-1)]: Done 3214 tasks      | elapsed:   30.8s\n",
      "[Parallel(n_jobs=-1)]: Done 4084 tasks      | elapsed:   39.1s\n",
      "[Parallel(n_jobs=-1)]: Done 5584 tasks      | elapsed:   52.7s\n",
      "[Parallel(n_jobs=-1)]: Done 7284 tasks      | elapsed:  1.1min\n",
      "[Parallel(n_jobs=-1)]: Done 9184 tasks      | elapsed:  1.3min\n",
      "[Parallel(n_jobs=-1)]: Done 9673 out of 9720 | elapsed:  1.4min remaining:    0.4s\n",
      "[Parallel(n_jobs=-1)]: Done 9720 out of 9720 | elapsed:  1.4min finished\n"
     ]
    },
    {
     "name": "stdout",
     "output_type": "stream",
     "text": [
      "Fitting 5 folds for each of 1944 candidates, totalling 9720 fits\n"
     ]
    },
    {
     "name": "stderr",
     "output_type": "stream",
     "text": [
      "[Parallel(n_jobs=-1)]: Using backend LokyBackend with 24 concurrent workers.\n",
      "[Parallel(n_jobs=-1)]: Done   2 tasks      | elapsed:    0.3s\n",
      "[Parallel(n_jobs=-1)]: Done 152 tasks      | elapsed:    3.7s\n",
      "[Parallel(n_jobs=-1)]: Done 402 tasks      | elapsed:    6.6s\n",
      "[Parallel(n_jobs=-1)]: Done 752 tasks      | elapsed:   12.2s\n",
      "[Parallel(n_jobs=-1)]: Done 1202 tasks      | elapsed:   19.1s\n",
      "[Parallel(n_jobs=-1)]: Done 1752 tasks      | elapsed:   27.2s\n",
      "[Parallel(n_jobs=-1)]: Done 2402 tasks      | elapsed:   36.4s\n",
      "[Parallel(n_jobs=-1)]: Done 3152 tasks      | elapsed:   46.3s\n",
      "[Parallel(n_jobs=-1)]: Done 4002 tasks      | elapsed:   59.4s\n",
      "[Parallel(n_jobs=-1)]: Done 4952 tasks      | elapsed:  1.2min\n",
      "[Parallel(n_jobs=-1)]: Done 6002 tasks      | elapsed:  1.4min\n",
      "[Parallel(n_jobs=-1)]: Done 7152 tasks      | elapsed:  1.7min\n",
      "[Parallel(n_jobs=-1)]: Done 8498 tasks      | elapsed:  2.0min\n",
      "[Parallel(n_jobs=-1)]: Done 9720 out of 9720 | elapsed:  2.2min finished\n"
     ]
    },
    {
     "name": "stdout",
     "output_type": "stream",
     "text": [
      "Fitting 5 folds for each of 1944 candidates, totalling 9720 fits\n"
     ]
    },
    {
     "name": "stderr",
     "output_type": "stream",
     "text": [
      "[Parallel(n_jobs=-1)]: Using backend LokyBackend with 24 concurrent workers.\n",
      "[Parallel(n_jobs=-1)]: Done   2 tasks      | elapsed:    0.1s\n",
      "[Parallel(n_jobs=-1)]: Done 221 tasks      | elapsed:    4.8s\n",
      "[Parallel(n_jobs=-1)]: Done 474 tasks      | elapsed:    7.9s\n",
      "[Parallel(n_jobs=-1)]: Done 824 tasks      | elapsed:   14.8s\n",
      "[Parallel(n_jobs=-1)]: Done 1274 tasks      | elapsed:   22.8s\n",
      "[Parallel(n_jobs=-1)]: Done 1824 tasks      | elapsed:   31.9s\n",
      "[Parallel(n_jobs=-1)]: Done 2474 tasks      | elapsed:   42.4s\n",
      "[Parallel(n_jobs=-1)]: Done 3224 tasks      | elapsed:   53.9s\n",
      "[Parallel(n_jobs=-1)]: Done 4074 tasks      | elapsed:  1.1min\n",
      "[Parallel(n_jobs=-1)]: Done 5024 tasks      | elapsed:  1.4min\n",
      "[Parallel(n_jobs=-1)]: Done 6074 tasks      | elapsed:  1.7min\n",
      "[Parallel(n_jobs=-1)]: Done 7224 tasks      | elapsed:  2.0min\n",
      "[Parallel(n_jobs=-1)]: Done 8474 tasks      | elapsed:  2.3min\n",
      "[Parallel(n_jobs=-1)]: Done 9720 out of 9720 | elapsed:  2.6min finished\n",
      "[Parallel(n_jobs=-1)]: Using backend LokyBackend with 24 concurrent workers.\n"
     ]
    },
    {
     "name": "stdout",
     "output_type": "stream",
     "text": [
      "Fitting 5 folds for each of 1944 candidates, totalling 9720 fits\n"
     ]
    },
    {
     "name": "stderr",
     "output_type": "stream",
     "text": [
      "[Parallel(n_jobs=-1)]: Done   2 tasks      | elapsed:    0.1s\n",
      "[Parallel(n_jobs=-1)]: Done 238 tasks      | elapsed:    4.8s\n",
      "[Parallel(n_jobs=-1)]: Done 498 tasks      | elapsed:    7.8s\n",
      "[Parallel(n_jobs=-1)]: Done 848 tasks      | elapsed:   14.4s\n",
      "[Parallel(n_jobs=-1)]: Done 1298 tasks      | elapsed:   21.7s\n",
      "[Parallel(n_jobs=-1)]: Done 1848 tasks      | elapsed:   30.3s\n",
      "[Parallel(n_jobs=-1)]: Done 2498 tasks      | elapsed:   40.3s\n",
      "[Parallel(n_jobs=-1)]: Done 3248 tasks      | elapsed:   51.4s\n",
      "[Parallel(n_jobs=-1)]: Done 4098 tasks      | elapsed:  1.1min\n",
      "[Parallel(n_jobs=-1)]: Done 5048 tasks      | elapsed:  1.3min\n",
      "[Parallel(n_jobs=-1)]: Done 6098 tasks      | elapsed:  1.6min\n",
      "[Parallel(n_jobs=-1)]: Done 7248 tasks      | elapsed:  1.9min\n",
      "[Parallel(n_jobs=-1)]: Done 8594 tasks      | elapsed:  2.1min\n",
      "[Parallel(n_jobs=-1)]: Done 9720 out of 9720 | elapsed:  2.4min finished\n"
     ]
    },
    {
     "name": "stdout",
     "output_type": "stream",
     "text": [
      "Fitting 5 folds for each of 4 candidates, totalling 20 fits\n",
      "Fitting 5 folds for each of 4 candidates, totalling 20 fits\n"
     ]
    },
    {
     "name": "stderr",
     "output_type": "stream",
     "text": [
      "[Parallel(n_jobs=-1)]: Using backend LokyBackend with 24 concurrent workers.\n",
      "[Parallel(n_jobs=-1)]: Done  15 out of  20 | elapsed:    0.1s remaining:    0.0s\n",
      "[Parallel(n_jobs=-1)]: Done  20 out of  20 | elapsed:    0.1s finished\n",
      "[Parallel(n_jobs=-1)]: Using backend LokyBackend with 24 concurrent workers.\n",
      "[Parallel(n_jobs=-1)]: Done  15 out of  20 | elapsed:    0.1s remaining:    0.0s\n",
      "[Parallel(n_jobs=-1)]: Done  20 out of  20 | elapsed:    0.1s finished\n"
     ]
    },
    {
     "name": "stdout",
     "output_type": "stream",
     "text": [
      "Fitting 5 folds for each of 4 candidates, totalling 20 fits\n",
      "Fitting 5 folds for each of 4 candidates, totalling 20 fits\n"
     ]
    },
    {
     "name": "stderr",
     "output_type": "stream",
     "text": [
      "[Parallel(n_jobs=-1)]: Using backend LokyBackend with 24 concurrent workers.\n",
      "[Parallel(n_jobs=-1)]: Done  15 out of  20 | elapsed:    0.1s remaining:    0.0s\n",
      "[Parallel(n_jobs=-1)]: Done  20 out of  20 | elapsed:    0.1s finished\n",
      "[Parallel(n_jobs=-1)]: Using backend LokyBackend with 24 concurrent workers.\n",
      "[Parallel(n_jobs=-1)]: Done  15 out of  20 | elapsed:    0.1s remaining:    0.0s\n",
      "[Parallel(n_jobs=-1)]: Done  20 out of  20 | elapsed:    0.1s finished\n"
     ]
    },
    {
     "name": "stdout",
     "output_type": "stream",
     "text": [
      "Fitting 5 folds for each of 4 candidates, totalling 20 fits\n",
      "Fitting 5 folds for each of 20 candidates, totalling 100 fits\n"
     ]
    },
    {
     "name": "stderr",
     "output_type": "stream",
     "text": [
      "[Parallel(n_jobs=-1)]: Using backend LokyBackend with 24 concurrent workers.\n",
      "[Parallel(n_jobs=-1)]: Done  15 out of  20 | elapsed:    0.1s remaining:    0.0s\n",
      "[Parallel(n_jobs=-1)]: Done  20 out of  20 | elapsed:    0.1s finished\n",
      "[Parallel(n_jobs=-1)]: Using backend LokyBackend with 24 concurrent workers.\n",
      "[Parallel(n_jobs=-1)]: Done   2 tasks      | elapsed:    0.1s\n",
      "[Parallel(n_jobs=-1)]: Done 100 out of 100 | elapsed:    0.3s finished\n",
      "[Parallel(n_jobs=-1)]: Using backend LokyBackend with 24 concurrent workers.\n",
      "[Parallel(n_jobs=-1)]: Done   2 tasks      | elapsed:    0.0s\n"
     ]
    },
    {
     "name": "stdout",
     "output_type": "stream",
     "text": [
      "Fitting 5 folds for each of 20 candidates, totalling 100 fits\n"
     ]
    },
    {
     "name": "stderr",
     "output_type": "stream",
     "text": [
      "[Parallel(n_jobs=-1)]: Done 100 out of 100 | elapsed:    0.3s finished\n",
      "[Parallel(n_jobs=-1)]: Using backend LokyBackend with 24 concurrent workers.\n",
      "[Parallel(n_jobs=-1)]: Done   2 tasks      | elapsed:    0.0s\n"
     ]
    },
    {
     "name": "stdout",
     "output_type": "stream",
     "text": [
      "Fitting 5 folds for each of 20 candidates, totalling 100 fits\n"
     ]
    },
    {
     "name": "stderr",
     "output_type": "stream",
     "text": [
      "[Parallel(n_jobs=-1)]: Done 100 out of 100 | elapsed:    0.3s finished\n",
      "[Parallel(n_jobs=-1)]: Using backend LokyBackend with 24 concurrent workers.\n",
      "[Parallel(n_jobs=-1)]: Done   2 tasks      | elapsed:    0.0s\n"
     ]
    },
    {
     "name": "stdout",
     "output_type": "stream",
     "text": [
      "Fitting 5 folds for each of 20 candidates, totalling 100 fits\n"
     ]
    },
    {
     "name": "stderr",
     "output_type": "stream",
     "text": [
      "[Parallel(n_jobs=-1)]: Done 100 out of 100 | elapsed:    0.3s finished\n",
      "[Parallel(n_jobs=-1)]: Using backend LokyBackend with 24 concurrent workers.\n",
      "[Parallel(n_jobs=-1)]: Done   2 tasks      | elapsed:    0.0s\n"
     ]
    },
    {
     "name": "stdout",
     "output_type": "stream",
     "text": [
      "Fitting 5 folds for each of 20 candidates, totalling 100 fits\n"
     ]
    },
    {
     "name": "stderr",
     "output_type": "stream",
     "text": [
      "[Parallel(n_jobs=-1)]: Done 100 out of 100 | elapsed:    0.3s finished\n",
      "[Parallel(n_jobs=-1)]: Using backend LokyBackend with 24 concurrent workers.\n"
     ]
    },
    {
     "name": "stdout",
     "output_type": "stream",
     "text": [
      "Fitting 5 folds for each of 1944 candidates, totalling 9720 fits\n"
     ]
    },
    {
     "name": "stderr",
     "output_type": "stream",
     "text": [
      "[Parallel(n_jobs=-1)]: Done   2 tasks      | elapsed:    0.4s\n",
      "[Parallel(n_jobs=-1)]: Done 152 tasks      | elapsed:    5.4s\n",
      "[Parallel(n_jobs=-1)]: Done 402 tasks      | elapsed:   10.3s\n",
      "[Parallel(n_jobs=-1)]: Done 752 tasks      | elapsed:   19.5s\n",
      "[Parallel(n_jobs=-1)]: Done 1202 tasks      | elapsed:   30.3s\n",
      "[Parallel(n_jobs=-1)]: Done 1752 tasks      | elapsed:   43.1s\n",
      "[Parallel(n_jobs=-1)]: Done 2402 tasks      | elapsed:   57.9s\n",
      "[Parallel(n_jobs=-1)]: Done 3152 tasks      | elapsed:  1.2min\n",
      "[Parallel(n_jobs=-1)]: Done 4002 tasks      | elapsed:  1.6min\n",
      "[Parallel(n_jobs=-1)]: Done 4952 tasks      | elapsed:  1.9min\n",
      "[Parallel(n_jobs=-1)]: Done 6002 tasks      | elapsed:  2.3min\n",
      "[Parallel(n_jobs=-1)]: Done 7152 tasks      | elapsed:  2.7min\n",
      "[Parallel(n_jobs=-1)]: Done 8402 tasks      | elapsed:  3.1min\n",
      "[Parallel(n_jobs=-1)]: Done 9720 out of 9720 | elapsed:  3.6min finished\n"
     ]
    },
    {
     "name": "stdout",
     "output_type": "stream",
     "text": [
      "Fitting 5 folds for each of 4 candidates, totalling 20 fits\n",
      "Fitting 5 folds for each of 20 candidates, totalling 100 fits\n"
     ]
    },
    {
     "name": "stderr",
     "output_type": "stream",
     "text": [
      "[Parallel(n_jobs=-1)]: Using backend LokyBackend with 24 concurrent workers.\n",
      "[Parallel(n_jobs=-1)]: Done  15 out of  20 | elapsed:    0.1s remaining:    0.0s\n",
      "[Parallel(n_jobs=-1)]: Done  20 out of  20 | elapsed:    0.1s finished\n",
      "[Parallel(n_jobs=-1)]: Using backend LokyBackend with 24 concurrent workers.\n",
      "[Parallel(n_jobs=-1)]: Done   3 tasks      | elapsed:    0.0s\n",
      "[Parallel(n_jobs=-1)]: Done 100 out of 100 | elapsed:    0.3s finished\n"
     ]
    },
    {
     "name": "stdout",
     "output_type": "stream",
     "text": [
      "TRAIN: 318, TEST: 80, X_k_train: (318, 30), X_k_test: (80, 30)\n",
      "Fitting 5 folds for each of 1944 candidates, totalling 9720 fits\n"
     ]
    },
    {
     "name": "stderr",
     "output_type": "stream",
     "text": [
      "[Parallel(n_jobs=-1)]: Using backend LokyBackend with 24 concurrent workers.\n",
      "[Parallel(n_jobs=-1)]: Done   2 tasks      | elapsed:    0.2s\n",
      "[Parallel(n_jobs=-1)]: Done 256 tasks      | elapsed:    3.0s\n",
      "[Parallel(n_jobs=-1)]: Done 756 tasks      | elapsed:    6.8s\n",
      "[Parallel(n_jobs=-1)]: Done 1382 tasks      | elapsed:   11.4s\n",
      "[Parallel(n_jobs=-1)]: Done 2164 tasks      | elapsed:   16.9s\n",
      "[Parallel(n_jobs=-1)]: Done 3264 tasks      | elapsed:   25.6s\n",
      "[Parallel(n_jobs=-1)]: Done 4564 tasks      | elapsed:   35.0s\n",
      "[Parallel(n_jobs=-1)]: Done 6064 tasks      | elapsed:   45.2s\n",
      "[Parallel(n_jobs=-1)]: Done 7764 tasks      | elapsed:   55.8s\n",
      "[Parallel(n_jobs=-1)]: Done 9720 out of 9720 | elapsed:  1.1min finished\n"
     ]
    },
    {
     "name": "stdout",
     "output_type": "stream",
     "text": [
      "Fitting 5 folds for each of 1944 candidates, totalling 9720 fits\n"
     ]
    },
    {
     "name": "stderr",
     "output_type": "stream",
     "text": [
      "[Parallel(n_jobs=-1)]: Using backend LokyBackend with 24 concurrent workers.\n",
      "[Parallel(n_jobs=-1)]: Done   2 tasks      | elapsed:    0.2s\n",
      "[Parallel(n_jobs=-1)]: Done 220 tasks      | elapsed:    5.0s\n",
      "[Parallel(n_jobs=-1)]: Done 474 tasks      | elapsed:    7.8s\n",
      "[Parallel(n_jobs=-1)]: Done 824 tasks      | elapsed:   14.6s\n",
      "[Parallel(n_jobs=-1)]: Done 1274 tasks      | elapsed:   22.5s\n",
      "[Parallel(n_jobs=-1)]: Done 1824 tasks      | elapsed:   31.7s\n",
      "[Parallel(n_jobs=-1)]: Done 2474 tasks      | elapsed:   42.6s\n",
      "[Parallel(n_jobs=-1)]: Done 3224 tasks      | elapsed:   54.2s\n",
      "[Parallel(n_jobs=-1)]: Done 4074 tasks      | elapsed:  1.1min\n",
      "[Parallel(n_jobs=-1)]: Done 5024 tasks      | elapsed:  1.4min\n",
      "[Parallel(n_jobs=-1)]: Done 6074 tasks      | elapsed:  1.7min\n",
      "[Parallel(n_jobs=-1)]: Done 7224 tasks      | elapsed:  2.0min\n",
      "[Parallel(n_jobs=-1)]: Done 8474 tasks      | elapsed:  2.3min\n",
      "[Parallel(n_jobs=-1)]: Done 9720 out of 9720 | elapsed:  2.7min finished\n",
      "[Parallel(n_jobs=-1)]: Using backend LokyBackend with 24 concurrent workers.\n"
     ]
    },
    {
     "name": "stdout",
     "output_type": "stream",
     "text": [
      "Fitting 5 folds for each of 1944 candidates, totalling 9720 fits\n"
     ]
    },
    {
     "name": "stderr",
     "output_type": "stream",
     "text": [
      "[Parallel(n_jobs=-1)]: Done   2 tasks      | elapsed:    0.1s\n",
      "[Parallel(n_jobs=-1)]: Done 218 tasks      | elapsed:    4.4s\n",
      "[Parallel(n_jobs=-1)]: Done 477 tasks      | elapsed:    7.2s\n",
      "[Parallel(n_jobs=-1)]: Done 920 tasks      | elapsed:   14.6s\n",
      "[Parallel(n_jobs=-1)]: Done 1370 tasks      | elapsed:   21.7s\n",
      "[Parallel(n_jobs=-1)]: Done 2016 tasks      | elapsed:   31.3s\n",
      "[Parallel(n_jobs=-1)]: Done 2692 tasks      | elapsed:   41.6s\n",
      "[Parallel(n_jobs=-1)]: Done 3512 tasks      | elapsed:   54.2s\n",
      "[Parallel(n_jobs=-1)]: Done 4458 tasks      | elapsed:  1.1min\n",
      "[Parallel(n_jobs=-1)]: Done 5621 tasks      | elapsed:  1.4min\n",
      "[Parallel(n_jobs=-1)]: Done 6770 tasks      | elapsed:  1.7min\n",
      "[Parallel(n_jobs=-1)]: Done 8112 tasks      | elapsed:  2.0min\n",
      "[Parallel(n_jobs=-1)]: Done 9626 tasks      | elapsed:  2.3min\n",
      "[Parallel(n_jobs=-1)]: Done 9720 out of 9720 | elapsed:  2.3min finished\n",
      "[Parallel(n_jobs=-1)]: Using backend LokyBackend with 24 concurrent workers.\n"
     ]
    },
    {
     "name": "stdout",
     "output_type": "stream",
     "text": [
      "Fitting 5 folds for each of 1944 candidates, totalling 9720 fits\n"
     ]
    },
    {
     "name": "stderr",
     "output_type": "stream",
     "text": [
      "[Parallel(n_jobs=-1)]: Done   2 tasks      | elapsed:    0.3s\n",
      "[Parallel(n_jobs=-1)]: Done 152 tasks      | elapsed:    4.5s\n",
      "[Parallel(n_jobs=-1)]: Done 402 tasks      | elapsed:    8.6s\n",
      "[Parallel(n_jobs=-1)]: Done 752 tasks      | elapsed:   16.5s\n",
      "[Parallel(n_jobs=-1)]: Done 1202 tasks      | elapsed:   25.4s\n",
      "[Parallel(n_jobs=-1)]: Done 1752 tasks      | elapsed:   36.1s\n",
      "[Parallel(n_jobs=-1)]: Done 2402 tasks      | elapsed:   48.8s\n",
      "[Parallel(n_jobs=-1)]: Done 3152 tasks      | elapsed:  1.0min\n",
      "[Parallel(n_jobs=-1)]: Done 4002 tasks      | elapsed:  1.3min\n",
      "[Parallel(n_jobs=-1)]: Done 4952 tasks      | elapsed:  1.6min\n",
      "[Parallel(n_jobs=-1)]: Done 6002 tasks      | elapsed:  2.0min\n",
      "[Parallel(n_jobs=-1)]: Done 7152 tasks      | elapsed:  2.3min\n",
      "[Parallel(n_jobs=-1)]: Done 8402 tasks      | elapsed:  2.7min\n",
      "[Parallel(n_jobs=-1)]: Done 9720 out of 9720 | elapsed:  3.1min finished\n",
      "[Parallel(n_jobs=-1)]: Using backend LokyBackend with 24 concurrent workers.\n"
     ]
    },
    {
     "name": "stdout",
     "output_type": "stream",
     "text": [
      "Fitting 5 folds for each of 1944 candidates, totalling 9720 fits\n"
     ]
    },
    {
     "name": "stderr",
     "output_type": "stream",
     "text": [
      "[Parallel(n_jobs=-1)]: Done   2 tasks      | elapsed:    0.3s\n",
      "[Parallel(n_jobs=-1)]: Done 152 tasks      | elapsed:    4.5s\n",
      "[Parallel(n_jobs=-1)]: Done 402 tasks      | elapsed:    8.5s\n",
      "[Parallel(n_jobs=-1)]: Done 752 tasks      | elapsed:   16.2s\n",
      "[Parallel(n_jobs=-1)]: Done 1202 tasks      | elapsed:   24.8s\n",
      "[Parallel(n_jobs=-1)]: Done 1752 tasks      | elapsed:   35.5s\n",
      "[Parallel(n_jobs=-1)]: Done 2402 tasks      | elapsed:   48.2s\n",
      "[Parallel(n_jobs=-1)]: Done 3152 tasks      | elapsed:  1.0min\n",
      "[Parallel(n_jobs=-1)]: Done 4002 tasks      | elapsed:  1.3min\n",
      "[Parallel(n_jobs=-1)]: Done 4952 tasks      | elapsed:  1.6min\n",
      "[Parallel(n_jobs=-1)]: Done 6002 tasks      | elapsed:  1.9min\n",
      "[Parallel(n_jobs=-1)]: Done 7152 tasks      | elapsed:  2.3min\n",
      "[Parallel(n_jobs=-1)]: Done 8402 tasks      | elapsed:  2.6min\n",
      "[Parallel(n_jobs=-1)]: Done 9720 out of 9720 | elapsed:  3.0min finished\n"
     ]
    },
    {
     "name": "stdout",
     "output_type": "stream",
     "text": [
      "Fitting 5 folds for each of 4 candidates, totalling 20 fits\n",
      "Fitting 5 folds for each of 4 candidates, totalling 20 fits\n"
     ]
    },
    {
     "name": "stderr",
     "output_type": "stream",
     "text": [
      "[Parallel(n_jobs=-1)]: Using backend LokyBackend with 24 concurrent workers.\n",
      "[Parallel(n_jobs=-1)]: Done  15 out of  20 | elapsed:    0.1s remaining:    0.0s\n",
      "[Parallel(n_jobs=-1)]: Done  20 out of  20 | elapsed:    0.1s finished\n",
      "[Parallel(n_jobs=-1)]: Using backend LokyBackend with 24 concurrent workers.\n",
      "[Parallel(n_jobs=-1)]: Done  15 out of  20 | elapsed:    0.1s remaining:    0.0s\n",
      "[Parallel(n_jobs=-1)]: Done  20 out of  20 | elapsed:    0.1s finished\n"
     ]
    },
    {
     "name": "stdout",
     "output_type": "stream",
     "text": [
      "Fitting 5 folds for each of 4 candidates, totalling 20 fits\n",
      "Fitting 5 folds for each of 4 candidates, totalling 20 fits\n"
     ]
    },
    {
     "name": "stderr",
     "output_type": "stream",
     "text": [
      "[Parallel(n_jobs=-1)]: Using backend LokyBackend with 24 concurrent workers.\n",
      "[Parallel(n_jobs=-1)]: Done  15 out of  20 | elapsed:    0.1s remaining:    0.0s\n",
      "[Parallel(n_jobs=-1)]: Done  20 out of  20 | elapsed:    0.1s finished\n",
      "[Parallel(n_jobs=-1)]: Using backend LokyBackend with 24 concurrent workers.\n",
      "[Parallel(n_jobs=-1)]: Done  15 out of  20 | elapsed:    0.1s remaining:    0.0s\n",
      "[Parallel(n_jobs=-1)]: Done  20 out of  20 | elapsed:    0.1s finished\n"
     ]
    },
    {
     "name": "stdout",
     "output_type": "stream",
     "text": [
      "Fitting 5 folds for each of 4 candidates, totalling 20 fits\n",
      "Fitting 5 folds for each of 20 candidates, totalling 100 fits\n"
     ]
    },
    {
     "name": "stderr",
     "output_type": "stream",
     "text": [
      "[Parallel(n_jobs=-1)]: Using backend LokyBackend with 24 concurrent workers.\n",
      "[Parallel(n_jobs=-1)]: Done  15 out of  20 | elapsed:    0.1s remaining:    0.0s\n",
      "[Parallel(n_jobs=-1)]: Done  20 out of  20 | elapsed:    0.1s finished\n",
      "[Parallel(n_jobs=-1)]: Using backend LokyBackend with 24 concurrent workers.\n",
      "[Parallel(n_jobs=-1)]: Done   2 tasks      | elapsed:    0.0s\n",
      "[Parallel(n_jobs=-1)]: Done 100 out of 100 | elapsed:    0.3s finished\n",
      "[Parallel(n_jobs=-1)]: Using backend LokyBackend with 24 concurrent workers.\n",
      "[Parallel(n_jobs=-1)]: Done   2 tasks      | elapsed:    0.0s\n"
     ]
    },
    {
     "name": "stdout",
     "output_type": "stream",
     "text": [
      "Fitting 5 folds for each of 20 candidates, totalling 100 fits\n"
     ]
    },
    {
     "name": "stderr",
     "output_type": "stream",
     "text": [
      "[Parallel(n_jobs=-1)]: Done 100 out of 100 | elapsed:    0.3s finished\n",
      "[Parallel(n_jobs=-1)]: Using backend LokyBackend with 24 concurrent workers.\n",
      "[Parallel(n_jobs=-1)]: Done   2 tasks      | elapsed:    0.0s\n"
     ]
    },
    {
     "name": "stdout",
     "output_type": "stream",
     "text": [
      "Fitting 5 folds for each of 20 candidates, totalling 100 fits\n"
     ]
    },
    {
     "name": "stderr",
     "output_type": "stream",
     "text": [
      "[Parallel(n_jobs=-1)]: Done 100 out of 100 | elapsed:    0.2s finished\n",
      "[Parallel(n_jobs=-1)]: Using backend LokyBackend with 24 concurrent workers.\n",
      "[Parallel(n_jobs=-1)]: Done   2 tasks      | elapsed:    0.1s\n"
     ]
    },
    {
     "name": "stdout",
     "output_type": "stream",
     "text": [
      "Fitting 5 folds for each of 20 candidates, totalling 100 fits\n"
     ]
    },
    {
     "name": "stderr",
     "output_type": "stream",
     "text": [
      "[Parallel(n_jobs=-1)]: Done 100 out of 100 | elapsed:    0.3s finished\n",
      "[Parallel(n_jobs=-1)]: Using backend LokyBackend with 24 concurrent workers.\n",
      "[Parallel(n_jobs=-1)]: Done   2 tasks      | elapsed:    0.1s\n"
     ]
    },
    {
     "name": "stdout",
     "output_type": "stream",
     "text": [
      "Fitting 5 folds for each of 20 candidates, totalling 100 fits\n"
     ]
    },
    {
     "name": "stderr",
     "output_type": "stream",
     "text": [
      "[Parallel(n_jobs=-1)]: Done 100 out of 100 | elapsed:    0.3s finished\n",
      "[Parallel(n_jobs=-1)]: Using backend LokyBackend with 24 concurrent workers.\n"
     ]
    },
    {
     "name": "stdout",
     "output_type": "stream",
     "text": [
      "Fitting 5 folds for each of 1944 candidates, totalling 9720 fits\n"
     ]
    },
    {
     "name": "stderr",
     "output_type": "stream",
     "text": [
      "[Parallel(n_jobs=-1)]: Done   2 tasks      | elapsed:    0.4s\n",
      "[Parallel(n_jobs=-1)]: Done 152 tasks      | elapsed:    6.2s\n",
      "[Parallel(n_jobs=-1)]: Done 402 tasks      | elapsed:   11.6s\n",
      "[Parallel(n_jobs=-1)]: Done 752 tasks      | elapsed:   22.0s\n",
      "[Parallel(n_jobs=-1)]: Done 1202 tasks      | elapsed:   34.2s\n",
      "[Parallel(n_jobs=-1)]: Done 1752 tasks      | elapsed:   48.7s\n",
      "[Parallel(n_jobs=-1)]: Done 2402 tasks      | elapsed:  1.1min\n",
      "[Parallel(n_jobs=-1)]: Done 3152 tasks      | elapsed:  1.4min\n",
      "[Parallel(n_jobs=-1)]: Done 4002 tasks      | elapsed:  1.8min\n",
      "[Parallel(n_jobs=-1)]: Done 4952 tasks      | elapsed:  2.2min\n",
      "[Parallel(n_jobs=-1)]: Done 6002 tasks      | elapsed:  2.6min\n",
      "[Parallel(n_jobs=-1)]: Done 7152 tasks      | elapsed:  3.1min\n",
      "[Parallel(n_jobs=-1)]: Done 8402 tasks      | elapsed:  3.6min\n",
      "[Parallel(n_jobs=-1)]: Done 9720 out of 9720 | elapsed:  4.1min finished\n"
     ]
    },
    {
     "name": "stdout",
     "output_type": "stream",
     "text": [
      "Fitting 5 folds for each of 4 candidates, totalling 20 fits\n",
      "Fitting 5 folds for each of 20 candidates, totalling 100 fits\n"
     ]
    },
    {
     "name": "stderr",
     "output_type": "stream",
     "text": [
      "[Parallel(n_jobs=-1)]: Using backend LokyBackend with 24 concurrent workers.\n",
      "[Parallel(n_jobs=-1)]: Done  15 out of  20 | elapsed:    0.1s remaining:    0.0s\n",
      "[Parallel(n_jobs=-1)]: Done  20 out of  20 | elapsed:    0.1s finished\n",
      "[Parallel(n_jobs=-1)]: Using backend LokyBackend with 24 concurrent workers.\n",
      "[Parallel(n_jobs=-1)]: Done   2 tasks      | elapsed:    0.0s\n",
      "[Parallel(n_jobs=-1)]: Done 100 out of 100 | elapsed:    0.3s finished\n"
     ]
    },
    {
     "name": "stdout",
     "output_type": "stream",
     "text": [
      "TRAIN: 319, TEST: 79, X_k_train: (319, 30), X_k_test: (79, 30)\n",
      "Fitting 5 folds for each of 1944 candidates, totalling 9720 fits\n"
     ]
    },
    {
     "name": "stderr",
     "output_type": "stream",
     "text": [
      "[Parallel(n_jobs=-1)]: Using backend LokyBackend with 24 concurrent workers.\n",
      "[Parallel(n_jobs=-1)]: Done   2 tasks      | elapsed:    0.3s\n",
      "[Parallel(n_jobs=-1)]: Done 220 tasks      | elapsed:    4.9s\n",
      "[Parallel(n_jobs=-1)]: Done 474 tasks      | elapsed:    7.8s\n",
      "[Parallel(n_jobs=-1)]: Done 824 tasks      | elapsed:   14.5s\n",
      "[Parallel(n_jobs=-1)]: Done 1274 tasks      | elapsed:   22.8s\n",
      "[Parallel(n_jobs=-1)]: Done 1824 tasks      | elapsed:   32.1s\n",
      "[Parallel(n_jobs=-1)]: Done 2474 tasks      | elapsed:   42.6s\n",
      "[Parallel(n_jobs=-1)]: Done 3224 tasks      | elapsed:   54.4s\n",
      "[Parallel(n_jobs=-1)]: Done 4074 tasks      | elapsed:  1.2min\n",
      "[Parallel(n_jobs=-1)]: Done 5024 tasks      | elapsed:  1.4min\n",
      "[Parallel(n_jobs=-1)]: Done 6074 tasks      | elapsed:  1.7min\n",
      "[Parallel(n_jobs=-1)]: Done 7224 tasks      | elapsed:  2.0min\n",
      "[Parallel(n_jobs=-1)]: Done 8474 tasks      | elapsed:  2.3min\n",
      "[Parallel(n_jobs=-1)]: Done 9720 out of 9720 | elapsed:  2.6min finished\n",
      "[Parallel(n_jobs=-1)]: Using backend LokyBackend with 24 concurrent workers.\n"
     ]
    },
    {
     "name": "stdout",
     "output_type": "stream",
     "text": [
      "Fitting 5 folds for each of 1944 candidates, totalling 9720 fits\n"
     ]
    },
    {
     "name": "stderr",
     "output_type": "stream",
     "text": [
      "[Parallel(n_jobs=-1)]: Done   2 tasks      | elapsed:    0.3s\n",
      "[Parallel(n_jobs=-1)]: Done 220 tasks      | elapsed:    4.8s\n",
      "[Parallel(n_jobs=-1)]: Done 474 tasks      | elapsed:    7.6s\n",
      "[Parallel(n_jobs=-1)]: Done 824 tasks      | elapsed:   14.2s\n",
      "[Parallel(n_jobs=-1)]: Done 1274 tasks      | elapsed:   21.9s\n",
      "[Parallel(n_jobs=-1)]: Done 1824 tasks      | elapsed:   30.5s\n",
      "[Parallel(n_jobs=-1)]: Done 2474 tasks      | elapsed:   40.6s\n",
      "[Parallel(n_jobs=-1)]: Done 3224 tasks      | elapsed:   51.7s\n",
      "[Parallel(n_jobs=-1)]: Done 4074 tasks      | elapsed:  1.1min\n",
      "[Parallel(n_jobs=-1)]: Done 5024 tasks      | elapsed:  1.3min\n",
      "[Parallel(n_jobs=-1)]: Done 6074 tasks      | elapsed:  1.6min\n",
      "[Parallel(n_jobs=-1)]: Done 7224 tasks      | elapsed:  1.9min\n",
      "[Parallel(n_jobs=-1)]: Done 8474 tasks      | elapsed:  2.2min\n",
      "[Parallel(n_jobs=-1)]: Done 9720 out of 9720 | elapsed:  2.5min finished\n"
     ]
    },
    {
     "name": "stdout",
     "output_type": "stream",
     "text": [
      "Fitting 5 folds for each of 1944 candidates, totalling 9720 fits\n"
     ]
    },
    {
     "name": "stderr",
     "output_type": "stream",
     "text": [
      "[Parallel(n_jobs=-1)]: Using backend LokyBackend with 24 concurrent workers.\n",
      "[Parallel(n_jobs=-1)]: Done   2 tasks      | elapsed:    0.3s\n",
      "[Parallel(n_jobs=-1)]: Done 152 tasks      | elapsed:    4.6s\n",
      "[Parallel(n_jobs=-1)]: Done 402 tasks      | elapsed:    9.0s\n",
      "[Parallel(n_jobs=-1)]: Done 752 tasks      | elapsed:   17.1s\n",
      "[Parallel(n_jobs=-1)]: Done 1202 tasks      | elapsed:   26.3s\n",
      "[Parallel(n_jobs=-1)]: Done 1752 tasks      | elapsed:   37.6s\n",
      "[Parallel(n_jobs=-1)]: Done 2402 tasks      | elapsed:   50.8s\n",
      "[Parallel(n_jobs=-1)]: Done 3152 tasks      | elapsed:  1.1min\n",
      "[Parallel(n_jobs=-1)]: Done 4002 tasks      | elapsed:  1.4min\n",
      "[Parallel(n_jobs=-1)]: Done 4952 tasks      | elapsed:  1.7min\n",
      "[Parallel(n_jobs=-1)]: Done 6002 tasks      | elapsed:  2.1min\n",
      "[Parallel(n_jobs=-1)]: Done 7152 tasks      | elapsed:  2.4min\n",
      "[Parallel(n_jobs=-1)]: Done 8402 tasks      | elapsed:  2.8min\n",
      "[Parallel(n_jobs=-1)]: Done 9720 out of 9720 | elapsed:  3.3min finished\n",
      "[Parallel(n_jobs=-1)]: Using backend LokyBackend with 24 concurrent workers.\n"
     ]
    },
    {
     "name": "stdout",
     "output_type": "stream",
     "text": [
      "Fitting 5 folds for each of 1944 candidates, totalling 9720 fits\n"
     ]
    },
    {
     "name": "stderr",
     "output_type": "stream",
     "text": [
      "[Parallel(n_jobs=-1)]: Done   2 tasks      | elapsed:    0.3s\n",
      "[Parallel(n_jobs=-1)]: Done 152 tasks      | elapsed:    4.4s\n",
      "[Parallel(n_jobs=-1)]: Done 402 tasks      | elapsed:    8.1s\n",
      "[Parallel(n_jobs=-1)]: Done 752 tasks      | elapsed:   15.5s\n",
      "[Parallel(n_jobs=-1)]: Done 1202 tasks      | elapsed:   24.2s\n",
      "[Parallel(n_jobs=-1)]: Done 1752 tasks      | elapsed:   34.6s\n",
      "[Parallel(n_jobs=-1)]: Done 2402 tasks      | elapsed:   46.9s\n",
      "[Parallel(n_jobs=-1)]: Done 3152 tasks      | elapsed:   59.5s\n",
      "[Parallel(n_jobs=-1)]: Done 4002 tasks      | elapsed:  1.3min\n",
      "[Parallel(n_jobs=-1)]: Done 4952 tasks      | elapsed:  1.6min\n",
      "[Parallel(n_jobs=-1)]: Done 6002 tasks      | elapsed:  1.9min\n",
      "[Parallel(n_jobs=-1)]: Done 7152 tasks      | elapsed:  2.2min\n",
      "[Parallel(n_jobs=-1)]: Done 8402 tasks      | elapsed:  2.6min\n",
      "[Parallel(n_jobs=-1)]: Done 9720 out of 9720 | elapsed:  2.9min finished\n",
      "[Parallel(n_jobs=-1)]: Using backend LokyBackend with 24 concurrent workers.\n"
     ]
    },
    {
     "name": "stdout",
     "output_type": "stream",
     "text": [
      "Fitting 5 folds for each of 1944 candidates, totalling 9720 fits\n"
     ]
    },
    {
     "name": "stderr",
     "output_type": "stream",
     "text": [
      "[Parallel(n_jobs=-1)]: Done   2 tasks      | elapsed:    0.3s\n",
      "[Parallel(n_jobs=-1)]: Done 152 tasks      | elapsed:    4.6s\n",
      "[Parallel(n_jobs=-1)]: Done 402 tasks      | elapsed:    8.6s\n",
      "[Parallel(n_jobs=-1)]: Done 752 tasks      | elapsed:   16.3s\n",
      "[Parallel(n_jobs=-1)]: Done 1202 tasks      | elapsed:   25.4s\n",
      "[Parallel(n_jobs=-1)]: Done 1752 tasks      | elapsed:   36.3s\n",
      "[Parallel(n_jobs=-1)]: Done 2402 tasks      | elapsed:   48.8s\n",
      "[Parallel(n_jobs=-1)]: Done 3152 tasks      | elapsed:  1.0min\n",
      "[Parallel(n_jobs=-1)]: Done 4002 tasks      | elapsed:  1.3min\n",
      "[Parallel(n_jobs=-1)]: Done 4952 tasks      | elapsed:  1.6min\n",
      "[Parallel(n_jobs=-1)]: Done 6002 tasks      | elapsed:  2.0min\n",
      "[Parallel(n_jobs=-1)]: Done 7152 tasks      | elapsed:  2.3min\n",
      "[Parallel(n_jobs=-1)]: Done 8402 tasks      | elapsed:  2.7min\n",
      "[Parallel(n_jobs=-1)]: Done 9720 out of 9720 | elapsed:  3.1min finished\n"
     ]
    },
    {
     "name": "stdout",
     "output_type": "stream",
     "text": [
      "Fitting 5 folds for each of 4 candidates, totalling 20 fits\n",
      "Fitting 5 folds for each of 4 candidates, totalling 20 fits\n"
     ]
    },
    {
     "name": "stderr",
     "output_type": "stream",
     "text": [
      "[Parallel(n_jobs=-1)]: Using backend LokyBackend with 24 concurrent workers.\n",
      "[Parallel(n_jobs=-1)]: Done  15 out of  20 | elapsed:    0.1s remaining:    0.0s\n",
      "[Parallel(n_jobs=-1)]: Done  20 out of  20 | elapsed:    0.1s finished\n",
      "/home/users/nus/csipav/anaconda3/envs/analytics/lib/python3.7/site-packages/sklearn/linear_model/_logistic.py:940: ConvergenceWarning: lbfgs failed to converge (status=1):\n",
      "STOP: TOTAL NO. of ITERATIONS REACHED LIMIT.\n",
      "\n",
      "Increase the number of iterations (max_iter) or scale the data as shown in:\n",
      "    https://scikit-learn.org/stable/modules/preprocessing.html\n",
      "Please also refer to the documentation for alternative solver options:\n",
      "    https://scikit-learn.org/stable/modules/linear_model.html#logistic-regression\n",
      "  extra_warning_msg=_LOGISTIC_SOLVER_CONVERGENCE_MSG)\n",
      "[Parallel(n_jobs=-1)]: Using backend LokyBackend with 24 concurrent workers.\n",
      "[Parallel(n_jobs=-1)]: Done  15 out of  20 | elapsed:    0.1s remaining:    0.0s\n",
      "[Parallel(n_jobs=-1)]: Done  20 out of  20 | elapsed:    0.1s finished\n"
     ]
    },
    {
     "name": "stdout",
     "output_type": "stream",
     "text": [
      "Fitting 5 folds for each of 4 candidates, totalling 20 fits\n",
      "Fitting 5 folds for each of 4 candidates, totalling 20 fits\n"
     ]
    },
    {
     "name": "stderr",
     "output_type": "stream",
     "text": [
      "[Parallel(n_jobs=-1)]: Using backend LokyBackend with 24 concurrent workers.\n",
      "[Parallel(n_jobs=-1)]: Done  15 out of  20 | elapsed:    0.1s remaining:    0.0s\n",
      "[Parallel(n_jobs=-1)]: Done  20 out of  20 | elapsed:    0.1s finished\n",
      "[Parallel(n_jobs=-1)]: Using backend LokyBackend with 24 concurrent workers.\n",
      "[Parallel(n_jobs=-1)]: Done  15 out of  20 | elapsed:    0.1s remaining:    0.0s\n",
      "[Parallel(n_jobs=-1)]: Done  20 out of  20 | elapsed:    0.1s finished\n"
     ]
    },
    {
     "name": "stdout",
     "output_type": "stream",
     "text": [
      "Fitting 5 folds for each of 4 candidates, totalling 20 fits\n",
      "Fitting 5 folds for each of 20 candidates, totalling 100 fits\n"
     ]
    },
    {
     "name": "stderr",
     "output_type": "stream",
     "text": [
      "[Parallel(n_jobs=-1)]: Using backend LokyBackend with 24 concurrent workers.\n",
      "[Parallel(n_jobs=-1)]: Done  15 out of  20 | elapsed:    0.1s remaining:    0.0s\n",
      "[Parallel(n_jobs=-1)]: Done  20 out of  20 | elapsed:    0.1s finished\n",
      "[Parallel(n_jobs=-1)]: Using backend LokyBackend with 24 concurrent workers.\n",
      "[Parallel(n_jobs=-1)]: Done   2 tasks      | elapsed:    0.0s\n",
      "[Parallel(n_jobs=-1)]: Done 100 out of 100 | elapsed:    0.2s finished\n",
      "[Parallel(n_jobs=-1)]: Using backend LokyBackend with 24 concurrent workers.\n",
      "[Parallel(n_jobs=-1)]: Done   2 tasks      | elapsed:    0.0s\n"
     ]
    },
    {
     "name": "stdout",
     "output_type": "stream",
     "text": [
      "Fitting 5 folds for each of 20 candidates, totalling 100 fits\n"
     ]
    },
    {
     "name": "stderr",
     "output_type": "stream",
     "text": [
      "[Parallel(n_jobs=-1)]: Done 100 out of 100 | elapsed:    0.3s finished\n",
      "[Parallel(n_jobs=-1)]: Using backend LokyBackend with 24 concurrent workers.\n",
      "[Parallel(n_jobs=-1)]: Done   2 tasks      | elapsed:    0.0s\n"
     ]
    },
    {
     "name": "stdout",
     "output_type": "stream",
     "text": [
      "Fitting 5 folds for each of 20 candidates, totalling 100 fits\n"
     ]
    },
    {
     "name": "stderr",
     "output_type": "stream",
     "text": [
      "[Parallel(n_jobs=-1)]: Done 100 out of 100 | elapsed:    0.3s finished\n",
      "[Parallel(n_jobs=-1)]: Using backend LokyBackend with 24 concurrent workers.\n",
      "[Parallel(n_jobs=-1)]: Done   2 tasks      | elapsed:    0.0s\n"
     ]
    },
    {
     "name": "stdout",
     "output_type": "stream",
     "text": [
      "Fitting 5 folds for each of 20 candidates, totalling 100 fits\n"
     ]
    },
    {
     "name": "stderr",
     "output_type": "stream",
     "text": [
      "[Parallel(n_jobs=-1)]: Done 100 out of 100 | elapsed:    0.3s finished\n",
      "[Parallel(n_jobs=-1)]: Using backend LokyBackend with 24 concurrent workers.\n",
      "[Parallel(n_jobs=-1)]: Done   2 tasks      | elapsed:    0.1s\n"
     ]
    },
    {
     "name": "stdout",
     "output_type": "stream",
     "text": [
      "Fitting 5 folds for each of 20 candidates, totalling 100 fits\n"
     ]
    },
    {
     "name": "stderr",
     "output_type": "stream",
     "text": [
      "[Parallel(n_jobs=-1)]: Done 100 out of 100 | elapsed:    0.2s finished\n",
      "[Parallel(n_jobs=-1)]: Using backend LokyBackend with 24 concurrent workers.\n"
     ]
    },
    {
     "name": "stdout",
     "output_type": "stream",
     "text": [
      "Fitting 5 folds for each of 1944 candidates, totalling 9720 fits\n"
     ]
    },
    {
     "name": "stderr",
     "output_type": "stream",
     "text": [
      "[Parallel(n_jobs=-1)]: Done   2 tasks      | elapsed:    0.5s\n",
      "[Parallel(n_jobs=-1)]: Done 152 tasks      | elapsed:    6.8s\n",
      "[Parallel(n_jobs=-1)]: Done 402 tasks      | elapsed:   12.9s\n",
      "[Parallel(n_jobs=-1)]: Done 752 tasks      | elapsed:   24.3s\n",
      "[Parallel(n_jobs=-1)]: Done 1202 tasks      | elapsed:   37.8s\n",
      "[Parallel(n_jobs=-1)]: Done 1752 tasks      | elapsed:   54.1s\n",
      "[Parallel(n_jobs=-1)]: Done 2402 tasks      | elapsed:  1.2min\n",
      "[Parallel(n_jobs=-1)]: Done 3152 tasks      | elapsed:  1.6min\n",
      "[Parallel(n_jobs=-1)]: Done 4002 tasks      | elapsed:  2.0min\n",
      "[Parallel(n_jobs=-1)]: Done 4952 tasks      | elapsed:  2.4min\n",
      "[Parallel(n_jobs=-1)]: Done 6002 tasks      | elapsed:  2.9min\n",
      "[Parallel(n_jobs=-1)]: Done 7152 tasks      | elapsed:  3.5min\n",
      "[Parallel(n_jobs=-1)]: Done 8402 tasks      | elapsed:  4.1min\n",
      "[Parallel(n_jobs=-1)]: Done 9720 out of 9720 | elapsed:  4.7min finished\n"
     ]
    },
    {
     "name": "stdout",
     "output_type": "stream",
     "text": [
      "Fitting 5 folds for each of 4 candidates, totalling 20 fits\n",
      "Fitting 5 folds for each of 20 candidates, totalling 100 fits\n"
     ]
    },
    {
     "name": "stderr",
     "output_type": "stream",
     "text": [
      "[Parallel(n_jobs=-1)]: Using backend LokyBackend with 24 concurrent workers.\n",
      "[Parallel(n_jobs=-1)]: Done  15 out of  20 | elapsed:    0.1s remaining:    0.0s\n",
      "[Parallel(n_jobs=-1)]: Done  20 out of  20 | elapsed:    0.1s finished\n",
      "[Parallel(n_jobs=-1)]: Using backend LokyBackend with 24 concurrent workers.\n",
      "[Parallel(n_jobs=-1)]: Done   2 tasks      | elapsed:    0.0s\n",
      "[Parallel(n_jobs=-1)]: Done 100 out of 100 | elapsed:    0.3s finished\n"
     ]
    },
    {
     "name": "stdout",
     "output_type": "stream",
     "text": [
      "TRAIN: 319, TEST: 79, X_k_train: (319, 30), X_k_test: (79, 30)\n",
      "Fitting 5 folds for each of 1944 candidates, totalling 9720 fits\n"
     ]
    },
    {
     "name": "stderr",
     "output_type": "stream",
     "text": [
      "[Parallel(n_jobs=-1)]: Using backend LokyBackend with 24 concurrent workers.\n",
      "[Parallel(n_jobs=-1)]: Done   2 tasks      | elapsed:    0.3s\n",
      "[Parallel(n_jobs=-1)]: Done 152 tasks      | elapsed:    3.7s\n",
      "[Parallel(n_jobs=-1)]: Done 402 tasks      | elapsed:    6.1s\n",
      "[Parallel(n_jobs=-1)]: Done 872 tasks      | elapsed:   13.2s\n",
      "[Parallel(n_jobs=-1)]: Done 1418 tasks      | elapsed:   20.8s\n",
      "[Parallel(n_jobs=-1)]: Done 2064 tasks      | elapsed:   28.9s\n",
      "[Parallel(n_jobs=-1)]: Done 2788 tasks      | elapsed:   40.5s\n",
      "[Parallel(n_jobs=-1)]: Done 3656 tasks      | elapsed:   51.1s\n",
      "[Parallel(n_jobs=-1)]: Done 4602 tasks      | elapsed:  1.1min\n",
      "[Parallel(n_jobs=-1)]: Done 5552 tasks      | elapsed:  1.3min\n",
      "[Parallel(n_jobs=-1)]: Done 6719 tasks      | elapsed:  1.6min\n",
      "[Parallel(n_jobs=-1)]: Done 8184 tasks      | elapsed:  1.9min\n",
      "[Parallel(n_jobs=-1)]: Done 9673 out of 9720 | elapsed:  2.2min remaining:    0.6s\n",
      "[Parallel(n_jobs=-1)]: Done 9720 out of 9720 | elapsed:  2.2min finished\n",
      "[Parallel(n_jobs=-1)]: Using backend LokyBackend with 24 concurrent workers.\n"
     ]
    },
    {
     "name": "stdout",
     "output_type": "stream",
     "text": [
      "Fitting 5 folds for each of 1944 candidates, totalling 9720 fits\n"
     ]
    },
    {
     "name": "stderr",
     "output_type": "stream",
     "text": [
      "[Parallel(n_jobs=-1)]: Done   2 tasks      | elapsed:    0.1s\n",
      "[Parallel(n_jobs=-1)]: Done 223 tasks      | elapsed:    5.3s\n",
      "[Parallel(n_jobs=-1)]: Done 474 tasks      | elapsed:    8.2s\n",
      "[Parallel(n_jobs=-1)]: Done 824 tasks      | elapsed:   15.5s\n",
      "[Parallel(n_jobs=-1)]: Done 1274 tasks      | elapsed:   23.6s\n",
      "[Parallel(n_jobs=-1)]: Done 1824 tasks      | elapsed:   33.1s\n",
      "[Parallel(n_jobs=-1)]: Done 2474 tasks      | elapsed:   44.1s\n",
      "[Parallel(n_jobs=-1)]: Done 3224 tasks      | elapsed:   56.3s\n",
      "[Parallel(n_jobs=-1)]: Done 4074 tasks      | elapsed:  1.2min\n",
      "[Parallel(n_jobs=-1)]: Done 5024 tasks      | elapsed:  1.5min\n",
      "[Parallel(n_jobs=-1)]: Done 6074 tasks      | elapsed:  1.7min\n",
      "[Parallel(n_jobs=-1)]: Done 7224 tasks      | elapsed:  2.1min\n",
      "[Parallel(n_jobs=-1)]: Done 8474 tasks      | elapsed:  2.4min\n",
      "[Parallel(n_jobs=-1)]: Done 9720 out of 9720 | elapsed:  2.7min finished\n",
      "[Parallel(n_jobs=-1)]: Using backend LokyBackend with 24 concurrent workers.\n"
     ]
    },
    {
     "name": "stdout",
     "output_type": "stream",
     "text": [
      "Fitting 5 folds for each of 1944 candidates, totalling 9720 fits\n"
     ]
    },
    {
     "name": "stderr",
     "output_type": "stream",
     "text": [
      "[Parallel(n_jobs=-1)]: Done   2 tasks      | elapsed:    0.2s\n",
      "[Parallel(n_jobs=-1)]: Done 223 tasks      | elapsed:    5.3s\n",
      "[Parallel(n_jobs=-1)]: Done 474 tasks      | elapsed:    8.3s\n",
      "[Parallel(n_jobs=-1)]: Done 824 tasks      | elapsed:   15.5s\n",
      "[Parallel(n_jobs=-1)]: Done 1274 tasks      | elapsed:   23.6s\n",
      "[Parallel(n_jobs=-1)]: Done 1824 tasks      | elapsed:   33.3s\n",
      "[Parallel(n_jobs=-1)]: Done 2474 tasks      | elapsed:   44.5s\n",
      "[Parallel(n_jobs=-1)]: Done 3224 tasks      | elapsed:   56.4s\n",
      "[Parallel(n_jobs=-1)]: Done 4074 tasks      | elapsed:  1.2min\n",
      "[Parallel(n_jobs=-1)]: Done 5024 tasks      | elapsed:  1.5min\n",
      "[Parallel(n_jobs=-1)]: Done 6074 tasks      | elapsed:  1.8min\n",
      "[Parallel(n_jobs=-1)]: Done 7320 tasks      | elapsed:  2.1min\n",
      "[Parallel(n_jobs=-1)]: Done 8666 tasks      | elapsed:  2.4min\n",
      "[Parallel(n_jobs=-1)]: Done 9720 out of 9720 | elapsed:  2.6min finished\n"
     ]
    },
    {
     "name": "stdout",
     "output_type": "stream",
     "text": [
      "Fitting 5 folds for each of 1944 candidates, totalling 9720 fits\n"
     ]
    },
    {
     "name": "stderr",
     "output_type": "stream",
     "text": [
      "[Parallel(n_jobs=-1)]: Using backend LokyBackend with 24 concurrent workers.\n",
      "[Parallel(n_jobs=-1)]: Done   2 tasks      | elapsed:    0.3s\n",
      "[Parallel(n_jobs=-1)]: Done 152 tasks      | elapsed:    4.7s\n",
      "[Parallel(n_jobs=-1)]: Done 402 tasks      | elapsed:    9.1s\n",
      "[Parallel(n_jobs=-1)]: Done 752 tasks      | elapsed:   17.3s\n",
      "[Parallel(n_jobs=-1)]: Done 1202 tasks      | elapsed:   26.4s\n",
      "[Parallel(n_jobs=-1)]: Done 1752 tasks      | elapsed:   37.8s\n",
      "[Parallel(n_jobs=-1)]: Done 2402 tasks      | elapsed:   51.3s\n",
      "[Parallel(n_jobs=-1)]: Done 3152 tasks      | elapsed:  1.1min\n",
      "[Parallel(n_jobs=-1)]: Done 4002 tasks      | elapsed:  1.4min\n",
      "[Parallel(n_jobs=-1)]: Done 4952 tasks      | elapsed:  1.7min\n",
      "[Parallel(n_jobs=-1)]: Done 6002 tasks      | elapsed:  2.1min\n",
      "[Parallel(n_jobs=-1)]: Done 7152 tasks      | elapsed:  2.4min\n",
      "[Parallel(n_jobs=-1)]: Done 8402 tasks      | elapsed:  2.8min\n",
      "[Parallel(n_jobs=-1)]: Done 9720 out of 9720 | elapsed:  3.2min finished\n",
      "[Parallel(n_jobs=-1)]: Using backend LokyBackend with 24 concurrent workers.\n"
     ]
    },
    {
     "name": "stdout",
     "output_type": "stream",
     "text": [
      "Fitting 5 folds for each of 1944 candidates, totalling 9720 fits\n"
     ]
    },
    {
     "name": "stderr",
     "output_type": "stream",
     "text": [
      "[Parallel(n_jobs=-1)]: Done   2 tasks      | elapsed:    0.3s\n",
      "[Parallel(n_jobs=-1)]: Done 152 tasks      | elapsed:    4.7s\n",
      "[Parallel(n_jobs=-1)]: Done 402 tasks      | elapsed:    8.8s\n",
      "[Parallel(n_jobs=-1)]: Done 752 tasks      | elapsed:   16.7s\n",
      "[Parallel(n_jobs=-1)]: Done 1202 tasks      | elapsed:   25.9s\n",
      "[Parallel(n_jobs=-1)]: Done 1752 tasks      | elapsed:   37.1s\n",
      "[Parallel(n_jobs=-1)]: Done 2402 tasks      | elapsed:   50.1s\n",
      "[Parallel(n_jobs=-1)]: Done 3152 tasks      | elapsed:  1.1min\n",
      "[Parallel(n_jobs=-1)]: Done 4002 tasks      | elapsed:  1.4min\n",
      "[Parallel(n_jobs=-1)]: Done 4952 tasks      | elapsed:  1.7min\n",
      "[Parallel(n_jobs=-1)]: Done 6002 tasks      | elapsed:  2.0min\n",
      "[Parallel(n_jobs=-1)]: Done 7152 tasks      | elapsed:  2.4min\n",
      "[Parallel(n_jobs=-1)]: Done 8402 tasks      | elapsed:  2.8min\n",
      "[Parallel(n_jobs=-1)]: Done 9720 out of 9720 | elapsed:  3.2min finished\n",
      "[Parallel(n_jobs=-1)]: Using backend LokyBackend with 24 concurrent workers.\n"
     ]
    },
    {
     "name": "stdout",
     "output_type": "stream",
     "text": [
      "Fitting 5 folds for each of 4 candidates, totalling 20 fits\n",
      "Fitting 5 folds for each of 4 candidates, totalling 20 fits\n"
     ]
    },
    {
     "name": "stderr",
     "output_type": "stream",
     "text": [
      "[Parallel(n_jobs=-1)]: Done  15 out of  20 | elapsed:    0.1s remaining:    0.0s\n",
      "[Parallel(n_jobs=-1)]: Done  20 out of  20 | elapsed:    0.1s finished\n",
      "[Parallel(n_jobs=-1)]: Using backend LokyBackend with 24 concurrent workers.\n",
      "[Parallel(n_jobs=-1)]: Done  15 out of  20 | elapsed:    0.1s remaining:    0.0s\n",
      "[Parallel(n_jobs=-1)]: Done  20 out of  20 | elapsed:    0.1s finished\n",
      "[Parallel(n_jobs=-1)]: Using backend LokyBackend with 24 concurrent workers.\n"
     ]
    },
    {
     "name": "stdout",
     "output_type": "stream",
     "text": [
      "Fitting 5 folds for each of 4 candidates, totalling 20 fits\n",
      "Fitting 5 folds for each of 4 candidates, totalling 20 fits\n"
     ]
    },
    {
     "name": "stderr",
     "output_type": "stream",
     "text": [
      "[Parallel(n_jobs=-1)]: Done  15 out of  20 | elapsed:    0.1s remaining:    0.0s\n",
      "[Parallel(n_jobs=-1)]: Done  20 out of  20 | elapsed:    0.1s finished\n",
      "[Parallel(n_jobs=-1)]: Using backend LokyBackend with 24 concurrent workers.\n",
      "[Parallel(n_jobs=-1)]: Done  15 out of  20 | elapsed:    0.1s remaining:    0.0s\n",
      "[Parallel(n_jobs=-1)]: Done  20 out of  20 | elapsed:    0.1s finished\n",
      "[Parallel(n_jobs=-1)]: Using backend LokyBackend with 24 concurrent workers.\n"
     ]
    },
    {
     "name": "stdout",
     "output_type": "stream",
     "text": [
      "Fitting 5 folds for each of 4 candidates, totalling 20 fits\n",
      "Fitting 5 folds for each of 20 candidates, totalling 100 fits\n"
     ]
    },
    {
     "name": "stderr",
     "output_type": "stream",
     "text": [
      "[Parallel(n_jobs=-1)]: Done  15 out of  20 | elapsed:    0.1s remaining:    0.0s\n",
      "[Parallel(n_jobs=-1)]: Done  20 out of  20 | elapsed:    0.1s finished\n",
      "[Parallel(n_jobs=-1)]: Using backend LokyBackend with 24 concurrent workers.\n",
      "[Parallel(n_jobs=-1)]: Done   2 tasks      | elapsed:    0.0s\n",
      "[Parallel(n_jobs=-1)]: Done 100 out of 100 | elapsed:    0.3s finished\n",
      "[Parallel(n_jobs=-1)]: Using backend LokyBackend with 24 concurrent workers.\n",
      "[Parallel(n_jobs=-1)]: Done   2 tasks      | elapsed:    0.1s\n"
     ]
    },
    {
     "name": "stdout",
     "output_type": "stream",
     "text": [
      "Fitting 5 folds for each of 20 candidates, totalling 100 fits\n"
     ]
    },
    {
     "name": "stderr",
     "output_type": "stream",
     "text": [
      "[Parallel(n_jobs=-1)]: Done 100 out of 100 | elapsed:    0.3s finished\n",
      "[Parallel(n_jobs=-1)]: Using backend LokyBackend with 24 concurrent workers.\n",
      "[Parallel(n_jobs=-1)]: Done   2 tasks      | elapsed:    0.0s\n"
     ]
    },
    {
     "name": "stdout",
     "output_type": "stream",
     "text": [
      "Fitting 5 folds for each of 20 candidates, totalling 100 fits\n"
     ]
    },
    {
     "name": "stderr",
     "output_type": "stream",
     "text": [
      "[Parallel(n_jobs=-1)]: Done 100 out of 100 | elapsed:    0.3s finished\n",
      "[Parallel(n_jobs=-1)]: Using backend LokyBackend with 24 concurrent workers.\n",
      "[Parallel(n_jobs=-1)]: Done   2 tasks      | elapsed:    0.1s\n"
     ]
    },
    {
     "name": "stdout",
     "output_type": "stream",
     "text": [
      "Fitting 5 folds for each of 20 candidates, totalling 100 fits\n"
     ]
    },
    {
     "name": "stderr",
     "output_type": "stream",
     "text": [
      "[Parallel(n_jobs=-1)]: Done 100 out of 100 | elapsed:    0.3s finished\n",
      "[Parallel(n_jobs=-1)]: Using backend LokyBackend with 24 concurrent workers.\n",
      "[Parallel(n_jobs=-1)]: Done   2 tasks      | elapsed:    0.0s\n"
     ]
    },
    {
     "name": "stdout",
     "output_type": "stream",
     "text": [
      "Fitting 5 folds for each of 20 candidates, totalling 100 fits\n"
     ]
    },
    {
     "name": "stderr",
     "output_type": "stream",
     "text": [
      "[Parallel(n_jobs=-1)]: Done 100 out of 100 | elapsed:    0.3s finished\n",
      "[Parallel(n_jobs=-1)]: Using backend LokyBackend with 24 concurrent workers.\n"
     ]
    },
    {
     "name": "stdout",
     "output_type": "stream",
     "text": [
      "Fitting 5 folds for each of 1944 candidates, totalling 9720 fits\n"
     ]
    },
    {
     "name": "stderr",
     "output_type": "stream",
     "text": [
      "[Parallel(n_jobs=-1)]: Done   2 tasks      | elapsed:    0.5s\n",
      "[Parallel(n_jobs=-1)]: Done 152 tasks      | elapsed:    6.8s\n",
      "[Parallel(n_jobs=-1)]: Done 402 tasks      | elapsed:   13.1s\n",
      "[Parallel(n_jobs=-1)]: Done 752 tasks      | elapsed:   25.0s\n",
      "[Parallel(n_jobs=-1)]: Done 1202 tasks      | elapsed:   38.6s\n",
      "[Parallel(n_jobs=-1)]: Done 1752 tasks      | elapsed:   54.9s\n",
      "[Parallel(n_jobs=-1)]: Done 2402 tasks      | elapsed:  1.2min\n",
      "[Parallel(n_jobs=-1)]: Done 3152 tasks      | elapsed:  1.6min\n",
      "[Parallel(n_jobs=-1)]: Done 4002 tasks      | elapsed:  2.0min\n",
      "[Parallel(n_jobs=-1)]: Done 4952 tasks      | elapsed:  2.5min\n",
      "[Parallel(n_jobs=-1)]: Done 6002 tasks      | elapsed:  3.0min\n",
      "[Parallel(n_jobs=-1)]: Done 7152 tasks      | elapsed:  3.5min\n",
      "[Parallel(n_jobs=-1)]: Done 8402 tasks      | elapsed:  4.1min\n",
      "[Parallel(n_jobs=-1)]: Done 9720 out of 9720 | elapsed:  4.7min finished\n"
     ]
    },
    {
     "name": "stdout",
     "output_type": "stream",
     "text": [
      "Fitting 5 folds for each of 4 candidates, totalling 20 fits\n",
      "Fitting 5 folds for each of 20 candidates, totalling 100 fits\n"
     ]
    },
    {
     "name": "stderr",
     "output_type": "stream",
     "text": [
      "[Parallel(n_jobs=-1)]: Using backend LokyBackend with 24 concurrent workers.\n",
      "[Parallel(n_jobs=-1)]: Done  15 out of  20 | elapsed:    0.1s remaining:    0.0s\n",
      "[Parallel(n_jobs=-1)]: Done  20 out of  20 | elapsed:    0.1s finished\n",
      "[Parallel(n_jobs=-1)]: Using backend LokyBackend with 24 concurrent workers.\n",
      "[Parallel(n_jobs=-1)]: Done   2 tasks      | elapsed:    0.0s\n",
      "[Parallel(n_jobs=-1)]: Done 100 out of 100 | elapsed:    0.3s finished\n"
     ]
    },
    {
     "name": "stdout",
     "output_type": "stream",
     "text": [
      "SVC K-Fold mean_accuracy_score: 0.97, accuracy_scores: [0.95, 0.9875, 0.9625, 0.9873417721518988, 0.9620253164556962]\n",
      "SVC K-Fold mean_precision_score: 0.97, precision_scores: [0.9427083333333333, 0.9919354838709677, 0.9635718891038041, 0.9905660377358491, 0.960594315245478]\n",
      "SVC K-Fold mean_recall_score: 0.966, recall_scores: [0.9533333333333334, 0.9736842105263157, 0.9597186700767264, 0.9814814814814814, 0.9629870129870131]\n",
      "SVC K-Fold mean_f1_score: 0.968, f1_scores: [0.9473337722185649, 0.98242144583608, 0.961482908040443, 0.9858041329739443, 0.961631860126275]\n",
      "SVC K-Fold mean_roc_auc_score: 0.993, roc_auc_scores: [0.9933333333333334, 0.9767040552200172, 0.9968030690537085, 1.0, 0.9974025974025974]\n",
      "SVC K-Fold mean_mcc_score: 0.936, mcc_scores: [0.8959786703810408, 0.9654471944281583, 0.9232825187205841, 0.9720050670928767, 0.9235782288778845]\n",
      "result: {'Model': 'Stacking MLP', 'Accuracy': array([0.97]), 'Precision': array([0.97]), 'Recall': array([0.966]), 'F1': array([0.968]), 'ROC': array([0.993]), 'PRC': [(array([0.75      , 0.74358974, 0.76315789, 0.78378378, 0.80555556,\n",
      "       0.82857143, 0.85294118, 0.87878788, 0.90625   , 0.93548387,\n",
      "       0.96666667, 1.        , 1.        , 1.        , 1.        ,\n",
      "       1.        , 1.        , 1.        , 1.        , 1.        ,\n",
      "       1.        , 1.        , 1.        , 1.        , 1.        ,\n",
      "       1.        , 1.        , 1.        , 1.        , 1.        ,\n",
      "       1.        , 1.        , 1.        , 1.        , 1.        ,\n",
      "       1.        , 1.        , 1.        , 1.        , 1.        ,\n",
      "       1.        ]), array([1.        , 0.96666667, 0.96666667, 0.96666667, 0.96666667,\n",
      "       0.96666667, 0.96666667, 0.96666667, 0.96666667, 0.96666667,\n",
      "       0.96666667, 0.96666667, 0.93333333, 0.9       , 0.86666667,\n",
      "       0.83333333, 0.8       , 0.76666667, 0.73333333, 0.7       ,\n",
      "       0.66666667, 0.63333333, 0.6       , 0.56666667, 0.53333333,\n",
      "       0.5       , 0.46666667, 0.43333333, 0.4       , 0.36666667,\n",
      "       0.33333333, 0.3       , 0.26666667, 0.23333333, 0.2       ,\n",
      "       0.16666667, 0.13333333, 0.1       , 0.06666667, 0.03333333,\n",
      "       0.        ]), array([0.01842204, 0.02093659, 0.02526199, 0.03150804, 0.05239883,\n",
      "       0.06950979, 0.10984591, 0.33467321, 0.77986682, 0.85296029,\n",
      "       0.86861537, 0.92027498, 0.97350052, 0.98133832, 0.99171288,\n",
      "       0.99409847, 0.9958787 , 0.99607004, 0.99616655, 0.99661507,\n",
      "       0.99662172, 0.99662732, 0.99663131, 0.9966315 , 0.9966317 ,\n",
      "       0.99663208, 0.99663219, 0.99663236, 0.99663243, 0.99663243,\n",
      "       0.99663249, 0.9966325 , 0.99663251, 0.99663251, 0.99663251,\n",
      "       0.99663252, 0.99663253, 0.99663254, 0.99663254, 0.99663254])), (array([0.41304348, 0.4       , 0.40909091, 0.41860465, 0.42857143,\n",
      "       0.43902439, 0.45      , 0.46153846, 0.47368421, 0.48648649,\n",
      "       0.5       , 0.51428571, 0.52941176, 0.54545455, 0.5625    ,\n",
      "       0.58064516, 0.6       , 0.62068966, 0.64285714, 0.66666667,\n",
      "       0.69230769, 0.72      , 0.75      , 0.7826087 , 0.81818182,\n",
      "       0.85714286, 0.9       , 0.94736842, 1.        , 1.        ,\n",
      "       1.        , 1.        , 1.        , 1.        , 1.        ,\n",
      "       1.        , 1.        , 1.        , 1.        , 1.        ,\n",
      "       1.        , 1.        , 1.        , 1.        , 1.        ,\n",
      "       1.        , 1.        ]), array([1.        , 0.94736842, 0.94736842, 0.94736842, 0.94736842,\n",
      "       0.94736842, 0.94736842, 0.94736842, 0.94736842, 0.94736842,\n",
      "       0.94736842, 0.94736842, 0.94736842, 0.94736842, 0.94736842,\n",
      "       0.94736842, 0.94736842, 0.94736842, 0.94736842, 0.94736842,\n",
      "       0.94736842, 0.94736842, 0.94736842, 0.94736842, 0.94736842,\n",
      "       0.94736842, 0.94736842, 0.94736842, 0.94736842, 0.89473684,\n",
      "       0.84210526, 0.78947368, 0.73684211, 0.68421053, 0.63157895,\n",
      "       0.57894737, 0.52631579, 0.47368421, 0.42105263, 0.36842105,\n",
      "       0.31578947, 0.26315789, 0.21052632, 0.15789474, 0.10526316,\n",
      "       0.05263158, 0.        ]), array([0.00428576, 0.00428665, 0.00428694, 0.00429099, 0.00429323,\n",
      "       0.004294  , 0.0042982 , 0.00430419, 0.00430886, 0.00436927,\n",
      "       0.00444609, 0.00446312, 0.00447917, 0.00452107, 0.00457808,\n",
      "       0.00460601, 0.00464498, 0.0046614 , 0.00537758, 0.00559326,\n",
      "       0.00682262, 0.00714684, 0.00721558, 0.01222082, 0.01570878,\n",
      "       0.03501092, 0.03809939, 0.04117918, 0.93923386, 0.96774323,\n",
      "       0.98987057, 0.99088877, 0.9911697 , 0.99120982, 0.99159022,\n",
      "       0.99167729, 0.99174242, 0.99174984, 0.99175049, 0.99175167,\n",
      "       0.99175176, 0.99175177, 0.99175178, 0.99175178, 0.99175178,\n",
      "       0.99175178])), (array([0.91891892, 0.91666667, 0.94285714, 0.97058824, 0.96969697,\n",
      "       0.96875   , 1.        , 1.        , 1.        , 1.        ,\n",
      "       1.        , 1.        , 1.        , 1.        , 1.        ,\n",
      "       1.        , 1.        , 1.        , 1.        , 1.        ,\n",
      "       1.        , 1.        , 1.        , 1.        , 1.        ,\n",
      "       1.        , 1.        , 1.        , 1.        , 1.        ,\n",
      "       1.        , 1.        , 1.        , 1.        , 1.        ,\n",
      "       1.        , 1.        , 1.        ]), array([1.        , 0.97058824, 0.97058824, 0.97058824, 0.94117647,\n",
      "       0.91176471, 0.91176471, 0.88235294, 0.85294118, 0.82352941,\n",
      "       0.79411765, 0.76470588, 0.73529412, 0.70588235, 0.67647059,\n",
      "       0.64705882, 0.61764706, 0.58823529, 0.55882353, 0.52941176,\n",
      "       0.5       , 0.47058824, 0.44117647, 0.41176471, 0.38235294,\n",
      "       0.35294118, 0.32352941, 0.29411765, 0.26470588, 0.23529412,\n",
      "       0.20588235, 0.17647059, 0.14705882, 0.11764706, 0.08823529,\n",
      "       0.05882353, 0.02941176, 0.        ]), array([0.15886323, 0.20010856, 0.23938672, 0.28597532, 0.57303132,\n",
      "       0.64372562, 0.66980451, 0.79070605, 0.85585459, 0.90991262,\n",
      "       0.98341753, 0.98415063, 0.98440782, 0.98507528, 0.9857077 ,\n",
      "       0.98640455, 0.98720704, 0.99025597, 0.99026494, 0.99193062,\n",
      "       0.9919891 , 0.99224668, 0.99230177, 0.99242415, 0.9924399 ,\n",
      "       0.99258032, 0.99261935, 0.99262231, 0.99264363, 0.99267177,\n",
      "       0.99271434, 0.99276237, 0.99277146, 0.99278311, 0.99278508,\n",
      "       0.99279355, 0.99279506])), (array([1., 1., 1., 1., 1., 1., 1., 1., 1., 1., 1., 1., 1., 1., 1., 1., 1.,\n",
      "       1., 1., 1., 1., 1., 1., 1., 1., 1., 1., 1.]), array([1.        , 0.96296296, 0.92592593, 0.88888889, 0.85185185,\n",
      "       0.81481481, 0.77777778, 0.74074074, 0.7037037 , 0.66666667,\n",
      "       0.62962963, 0.59259259, 0.55555556, 0.51851852, 0.48148148,\n",
      "       0.44444444, 0.40740741, 0.37037037, 0.33333333, 0.2962963 ,\n",
      "       0.25925926, 0.22222222, 0.18518519, 0.14814815, 0.11111111,\n",
      "       0.07407407, 0.03703704, 0.        ]), array([0.33983882, 0.62012477, 0.9277418 , 0.94180234, 0.95875324,\n",
      "       0.98153148, 0.98942881, 0.99290558, 0.99339302, 0.99360796,\n",
      "       0.99379043, 0.99493115, 0.99509789, 0.99512167, 0.9951501 ,\n",
      "       0.99517426, 0.99519025, 0.99520274, 0.99520863, 0.99521048,\n",
      "       0.99521999, 0.99522225, 0.99522249, 0.99522256, 0.99522266,\n",
      "       0.99522299, 0.99522304])), (array([0.94594595, 0.94444444, 0.94285714, 0.97058824, 1.        ,\n",
      "       1.        , 1.        , 1.        , 1.        , 1.        ,\n",
      "       1.        , 1.        , 1.        , 1.        , 1.        ,\n",
      "       1.        , 1.        , 1.        , 1.        , 1.        ,\n",
      "       1.        , 1.        , 1.        , 1.        , 1.        ,\n",
      "       1.        , 1.        , 1.        , 1.        , 1.        ,\n",
      "       1.        , 1.        , 1.        , 1.        , 1.        ,\n",
      "       1.        , 1.        , 1.        ]), array([1.        , 0.97142857, 0.94285714, 0.94285714, 0.94285714,\n",
      "       0.91428571, 0.88571429, 0.85714286, 0.82857143, 0.8       ,\n",
      "       0.77142857, 0.74285714, 0.71428571, 0.68571429, 0.65714286,\n",
      "       0.62857143, 0.6       , 0.57142857, 0.54285714, 0.51428571,\n",
      "       0.48571429, 0.45714286, 0.42857143, 0.4       , 0.37142857,\n",
      "       0.34285714, 0.31428571, 0.28571429, 0.25714286, 0.22857143,\n",
      "       0.2       , 0.17142857, 0.14285714, 0.11428571, 0.08571429,\n",
      "       0.05714286, 0.02857143, 0.        ]), array([0.14102774, 0.94029105, 0.9474755 , 0.96561325, 0.97390583,\n",
      "       0.98316623, 0.98415669, 0.98489643, 0.98594462, 0.98667475,\n",
      "       0.98805696, 0.99098883, 0.99282029, 0.99283565, 0.9931014 ,\n",
      "       0.99317218, 0.99336569, 0.99340093, 0.99351919, 0.99351929,\n",
      "       0.99355901, 0.99355954, 0.99356437, 0.99359009, 0.99359686,\n",
      "       0.99363177, 0.99363468, 0.99364758, 0.99364979, 0.99365495,\n",
      "       0.99368769, 0.99368884, 0.99369389, 0.99369971, 0.99370998,\n",
      "       0.99371027, 0.99371051]))], 'MCC': array([0.936])}\n",
      "=================================\n"
     ]
    }
   ],
   "source": [
    "k_fold_models = [    \n",
    "    {'name': 'Logistic Regression', 'model': grid_lr},\n",
    "    {'name': 'SVM + AdaBoost', 'model': grid_svc_adaboost_std},\n",
    "    {'name': 'Decision Trees', 'model': grid_dt},\n",
    "    {'name': 'Naive Bayes', 'model': model_nb},\n",
    "    {'name': 'Stacking MLP', 'model': stack_cvc_mlp}\n",
    "]\n",
    "\n",
    "column_names = ['Model', 'Accuracy', 'Precision', 'Recall', 'F1', 'ROC', 'MCC']\n",
    "k_fold_res_df = pd.DataFrame(columns=column_names)\n",
    "\n",
    "k_fold_res = []\n",
    "\n",
    "for item in k_fold_models:\n",
    "    eval_model = item['model']\n",
    "    print(f\"Evaluating model: {item['name']}\")\n",
    "    \n",
    "    accuracy_scores = []\n",
    "    precision_scores = []\n",
    "    recall_scores = []\n",
    "    f1_scores = []\n",
    "    cohen_kappa_scores = []\n",
    "    roc_auc_scores = []\n",
    "    prc_scores = []\n",
    "    mcc_scores = []\n",
    "\n",
    "    for train_index, test_index in kf.split(X_train_std_scaled):\n",
    "        X_k_train = X_train_std_scaled[X_train_std_scaled.index.isin(train_index)]\n",
    "        y_k_train = y_train[y_train.index.isin(train_index)]\n",
    "\n",
    "        X_k_test = X_train_std_scaled[X_train_std_scaled.index.isin(test_index)]\n",
    "        y_k_test = y_train[y_train.index.isin(test_index)]\n",
    "\n",
    "        print(f\"TRAIN: {len(train_index)}, TEST: {len(test_index)}, X_k_train: {X_k_train.shape}, X_k_test: {X_k_test.shape}\")\n",
    "\n",
    "        eval_model.fit(X_k_train, y_k_train)\n",
    "        predictions = eval_model.predict(X_k_test)\n",
    "        predictions_proba = eval_model.predict_proba(X_k_test)\n",
    "\n",
    "        accuracy_scores.append(accuracy_score(y_k_test, predictions))\n",
    "        precision_scores.append(precision_score(y_k_test, predictions, average=\"macro\"))\n",
    "        recall_scores.append(recall_score(y_k_test, predictions, average=\"macro\"))\n",
    "        f1_scores.append(f1_score(y_k_test, predictions, average=\"macro\"))\n",
    "        roc_auc_scores.append(roc_auc_score(y_k_test, predictions_proba[:,1]))\n",
    "        prc_scores.append(precision_recall_curve(y_k_test, predictions_proba[:,1]))\n",
    "        mcc_scores.append(matthews_corrcoef(y_k_test, predictions))\n",
    "        \n",
    "    \n",
    "    print(f\"SVC K-Fold mean_accuracy_score: {np.round(np.mean(accuracy_scores), 3)}, accuracy_scores: {accuracy_scores}\")\n",
    "    print(f\"SVC K-Fold mean_precision_score: {np.round(np.mean(precision_scores), 3)}, precision_scores: {precision_scores}\")\n",
    "    print(f\"SVC K-Fold mean_recall_score: {np.round(np.mean(recall_scores), 3)}, recall_scores: {recall_scores}\")\n",
    "    print(f\"SVC K-Fold mean_f1_score: {np.round(np.mean(f1_scores), 3)}, f1_scores: {f1_scores}\")\n",
    "    print(f\"SVC K-Fold mean_roc_auc_score: {np.round(np.mean(roc_auc_scores), 3)}, roc_auc_scores: {roc_auc_scores}\")\n",
    "\n",
    "#     print(f\"SVC K-Fold prc_scores: {prc_scores}\")\n",
    "    print(f\"SVC K-Fold mean_mcc_score: {np.round(np.mean(mcc_scores), 3)}, mcc_scores: {mcc_scores}\")\n",
    "\n",
    "    result = {\n",
    "        'Model': item['name'],\n",
    "        'Accuracy': np.round(np.mean(accuracy_scores), 3).flatten(),\n",
    "        'Precision': np.round(np.mean(precision_scores), 3).flatten(),\n",
    "        'Recall': np.round(np.mean(recall_scores), 3).flatten(),\n",
    "        'F1': np.round(np.mean(f1_scores), 3).flatten(),\n",
    "        'ROC': np.round(np.mean(roc_auc_scores), 3).flatten(),\n",
    "        'PRC': prc_scores,\n",
    "        'MCC': np.round(np.mean(mcc_scores), 3).flatten()\n",
    "    }\n",
    "    k_fold_res.append(result)\n",
    "    print(f\"result: {result}\")\n",
    "    k_fold_res_df = k_fold_res_df.append(pd.DataFrame(result, columns=column_names))\n",
    "    print(\"=================================\")\n",
    "    \n",
    "\n",
    "\n",
    "        "
   ]
  },
  {
   "cell_type": "code",
   "execution_count": 42,
   "metadata": {},
   "outputs": [
    {
     "data": {
      "text/html": [
       "<div>\n",
       "<style scoped>\n",
       "    .dataframe tbody tr th:only-of-type {\n",
       "        vertical-align: middle;\n",
       "    }\n",
       "\n",
       "    .dataframe tbody tr th {\n",
       "        vertical-align: top;\n",
       "    }\n",
       "\n",
       "    .dataframe thead th {\n",
       "        text-align: right;\n",
       "    }\n",
       "</style>\n",
       "<table border=\"1\" class=\"dataframe\">\n",
       "  <thead>\n",
       "    <tr style=\"text-align: right;\">\n",
       "      <th></th>\n",
       "      <th>Model</th>\n",
       "      <th>Accuracy</th>\n",
       "      <th>Precision</th>\n",
       "      <th>Recall</th>\n",
       "      <th>F1</th>\n",
       "      <th>ROC</th>\n",
       "      <th>MCC</th>\n",
       "    </tr>\n",
       "  </thead>\n",
       "  <tbody>\n",
       "    <tr>\n",
       "      <th>0</th>\n",
       "      <td>Logistic Regression</td>\n",
       "      <td>0.970</td>\n",
       "      <td>0.970</td>\n",
       "      <td>0.966</td>\n",
       "      <td>0.968</td>\n",
       "      <td>0.989</td>\n",
       "      <td>0.936</td>\n",
       "    </tr>\n",
       "    <tr>\n",
       "      <th>0</th>\n",
       "      <td>SVM + AdaBoost</td>\n",
       "      <td>0.980</td>\n",
       "      <td>0.980</td>\n",
       "      <td>0.976</td>\n",
       "      <td>0.978</td>\n",
       "      <td>0.993</td>\n",
       "      <td>0.956</td>\n",
       "    </tr>\n",
       "    <tr>\n",
       "      <th>0</th>\n",
       "      <td>Decision Trees</td>\n",
       "      <td>0.937</td>\n",
       "      <td>0.932</td>\n",
       "      <td>0.929</td>\n",
       "      <td>0.930</td>\n",
       "      <td>0.930</td>\n",
       "      <td>0.861</td>\n",
       "    </tr>\n",
       "    <tr>\n",
       "      <th>0</th>\n",
       "      <td>Naive Bayes</td>\n",
       "      <td>0.932</td>\n",
       "      <td>0.928</td>\n",
       "      <td>0.924</td>\n",
       "      <td>0.926</td>\n",
       "      <td>0.983</td>\n",
       "      <td>0.852</td>\n",
       "    </tr>\n",
       "    <tr>\n",
       "      <th>0</th>\n",
       "      <td>Stacking MLP</td>\n",
       "      <td>0.970</td>\n",
       "      <td>0.970</td>\n",
       "      <td>0.966</td>\n",
       "      <td>0.968</td>\n",
       "      <td>0.993</td>\n",
       "      <td>0.936</td>\n",
       "    </tr>\n",
       "  </tbody>\n",
       "</table>\n",
       "</div>"
      ],
      "text/plain": [
       "                 Model  Accuracy  Precision  Recall     F1    ROC    MCC\n",
       "0  Logistic Regression     0.970      0.970   0.966  0.968  0.989  0.936\n",
       "0       SVM + AdaBoost     0.980      0.980   0.976  0.978  0.993  0.956\n",
       "0       Decision Trees     0.937      0.932   0.929  0.930  0.930  0.861\n",
       "0          Naive Bayes     0.932      0.928   0.924  0.926  0.983  0.852\n",
       "0         Stacking MLP     0.970      0.970   0.966  0.968  0.993  0.936"
      ]
     },
     "execution_count": 42,
     "metadata": {},
     "output_type": "execute_result"
    }
   ],
   "source": [
    "k_fold_res_df.head()"
   ]
  },
  {
   "cell_type": "markdown",
   "metadata": {},
   "source": []
  },
  {
   "cell_type": "code",
   "execution_count": 43,
   "metadata": {},
   "outputs": [
    {
     "data": {
      "text/plain": [
       "<matplotlib.axes._subplots.AxesSubplot at 0x2aab3406f590>"
      ]
     },
     "execution_count": 43,
     "metadata": {},
     "output_type": "execute_result"
    },
    {
     "data": {
      "image/png": "[encoded data removed]",
      "text/plain": [
       "<Figure size 720x360 with 1 Axes>"
      ]
     },
     "metadata": {
      "needs_background": "light"
     },
     "output_type": "display_data"
    }
   ],
   "source": [
    "k_fold_res_df.set_index('Model', inplace=True)\n",
    "invert_scale_scores_df = k_fold_res_df.transpose()\n",
    "\n",
    "invert_scale_scores_df.plot(figsize=(10,5), grid=True)"
   ]
  },
  {
   "cell_type": "code",
   "execution_count": null,
   "metadata": {},
   "outputs": [],
   "source": []
  },
  {
   "cell_type": "markdown",
   "metadata": {},
   "source": [
    "# Results from testing data"
   ]
  },
  {
   "cell_type": "code",
   "execution_count": 58,
   "metadata": {},
   "outputs": [
    {
     "name": "stdout",
     "output_type": "stream",
     "text": [
      "Evaluating model: SVM + AdaBoost\n",
      "Fitting 5 folds for each of 1944 candidates, totalling 9720 fits\n"
     ]
    },
    {
     "name": "stderr",
     "output_type": "stream",
     "text": [
      "[Parallel(n_jobs=-1)]: Using backend LokyBackend with 24 concurrent workers.\n",
      "[Parallel(n_jobs=-1)]: Done   2 tasks      | elapsed:    0.7s\n",
      "[Parallel(n_jobs=-1)]: Done 152 tasks      | elapsed:    9.8s\n",
      "[Parallel(n_jobs=-1)]: Done 402 tasks      | elapsed:   20.0s\n",
      "[Parallel(n_jobs=-1)]: Done 752 tasks      | elapsed:   38.0s\n",
      "[Parallel(n_jobs=-1)]: Done 1202 tasks      | elapsed:   57.8s\n",
      "[Parallel(n_jobs=-1)]: Done 1752 tasks      | elapsed:  1.4min\n",
      "[Parallel(n_jobs=-1)]: Done 2402 tasks      | elapsed:  1.9min\n",
      "[Parallel(n_jobs=-1)]: Done 3152 tasks      | elapsed:  2.4min\n",
      "[Parallel(n_jobs=-1)]: Done 4002 tasks      | elapsed:  3.1min\n",
      "[Parallel(n_jobs=-1)]: Done 4952 tasks      | elapsed:  3.8min\n",
      "[Parallel(n_jobs=-1)]: Done 6002 tasks      | elapsed:  4.5min\n",
      "[Parallel(n_jobs=-1)]: Done 7152 tasks      | elapsed:  5.4min\n",
      "[Parallel(n_jobs=-1)]: Done 8402 tasks      | elapsed:  6.3min\n",
      "[Parallel(n_jobs=-1)]: Done 9720 out of 9720 | elapsed:  7.2min finished\n"
     ]
    },
    {
     "name": "stdout",
     "output_type": "stream",
     "text": [
      "result: {'Model': 'SVM + AdaBoost', 'Accuracy': array([0.96491228]), 'Precision': array([0.96121057]), 'Recall': array([0.96584386]), 'F1': array([0.96337807]), 'ROC': array([0.99526406]), 'PRC': (array([0.80722892, 0.80487805, 0.80246914, 0.8125    , 0.82278481,\n",
      "       0.83333333, 0.84415584, 0.85526316, 0.86666667, 0.87837838,\n",
      "       0.89041096, 0.90277778, 0.91549296, 0.92857143, 0.94202899,\n",
      "       0.95588235, 0.97014925, 0.98484848, 0.98461538, 1.        ,\n",
      "       1.        , 1.        , 1.        , 1.        , 1.        ,\n",
      "       1.        , 1.        , 1.        , 1.        , 1.        ,\n",
      "       1.        , 1.        , 1.        , 1.        , 1.        ,\n",
      "       1.        , 1.        , 1.        , 1.        , 1.        ,\n",
      "       1.        , 1.        , 1.        , 1.        , 1.        ,\n",
      "       1.        , 1.        , 1.        , 1.        , 1.        ,\n",
      "       1.        , 1.        , 1.        , 1.        , 1.        ,\n",
      "       1.        , 1.        , 1.        , 1.        , 1.        ,\n",
      "       1.        , 1.        , 1.        , 1.        , 1.        ,\n",
      "       1.        , 1.        , 1.        , 1.        , 1.        ,\n",
      "       1.        , 1.        , 1.        , 1.        , 1.        ,\n",
      "       1.        , 1.        , 1.        , 1.        , 1.        ,\n",
      "       1.        , 1.        , 1.        , 1.        ]), array([1.        , 0.98507463, 0.97014925, 0.97014925, 0.97014925,\n",
      "       0.97014925, 0.97014925, 0.97014925, 0.97014925, 0.97014925,\n",
      "       0.97014925, 0.97014925, 0.97014925, 0.97014925, 0.97014925,\n",
      "       0.97014925, 0.97014925, 0.97014925, 0.95522388, 0.95522388,\n",
      "       0.94029851, 0.92537313, 0.91044776, 0.89552239, 0.88059701,\n",
      "       0.86567164, 0.85074627, 0.8358209 , 0.82089552, 0.80597015,\n",
      "       0.79104478, 0.7761194 , 0.76119403, 0.74626866, 0.73134328,\n",
      "       0.71641791, 0.70149254, 0.68656716, 0.67164179, 0.65671642,\n",
      "       0.64179104, 0.62686567, 0.6119403 , 0.59701493, 0.58208955,\n",
      "       0.56716418, 0.55223881, 0.53731343, 0.52238806, 0.50746269,\n",
      "       0.49253731, 0.47761194, 0.46268657, 0.44776119, 0.43283582,\n",
      "       0.41791045, 0.40298507, 0.3880597 , 0.37313433, 0.35820896,\n",
      "       0.34328358, 0.32835821, 0.31343284, 0.29850746, 0.28358209,\n",
      "       0.26865672, 0.25373134, 0.23880597, 0.2238806 , 0.20895522,\n",
      "       0.19402985, 0.17910448, 0.1641791 , 0.14925373, 0.13432836,\n",
      "       0.11940299, 0.10447761, 0.08955224, 0.07462687, 0.05970149,\n",
      "       0.04477612, 0.02985075, 0.01492537, 0.        ]), array([0.12692825, 0.13613433, 0.14655646, 0.16293121, 0.16978314,\n",
      "       0.21342393, 0.21731712, 0.22419986, 0.27033905, 0.28031149,\n",
      "       0.32191696, 0.32238076, 0.32750194, 0.41040732, 0.52850541,\n",
      "       0.53264601, 0.67197888, 0.69261475, 0.69853201, 0.73498912,\n",
      "       0.75266362, 0.76157125, 0.80837258, 0.8330978 , 0.85855447,\n",
      "       0.86104536, 0.86512785, 0.88052346, 0.88892983, 0.89610602,\n",
      "       0.90623495, 0.92165972, 0.93842853, 0.95334925, 0.95820468,\n",
      "       0.96695019, 0.96945534, 0.97053973, 0.9707505 , 0.9763117 ,\n",
      "       0.97742241, 0.99351842, 0.99512235, 0.99615093, 0.99641187,\n",
      "       0.9969972 , 0.99784661, 0.99806069, 0.99829634, 0.99844243,\n",
      "       0.9988766 , 0.99927733, 0.99937148, 0.99937675, 0.99967116,\n",
      "       0.9997279 , 0.99978584, 0.99981579, 0.9998321 , 0.9998547 ,\n",
      "       0.99994492, 0.9999505 , 0.99996238, 0.99996602, 0.99998065,\n",
      "       0.99998103, 0.99998195, 0.99998465, 0.99998975, 0.99999023,\n",
      "       0.99999153, 0.99999351, 0.99999815, 0.99999825, 0.99999924,\n",
      "       0.99999989, 0.9999999 , 0.99999991, 0.99999995, 0.99999996,\n",
      "       0.99999999, 1.        , 1.        ])), 'MCC': array([0.92704285])}\n",
      "=================================\n",
      "Evaluating model: Logistic Regression\n",
      "Fitting 5 folds for each of 4 candidates, totalling 20 fits\n",
      "result: {'Model': 'Logistic Regression', 'Accuracy': array([0.97660819]), 'Precision': array([0.97545924]), 'Recall': array([0.97545924]), 'F1': array([0.97545924]), 'ROC': array([0.99612514]), 'PRC': (array([0.80722892, 0.80487805, 0.81481481, 0.825     , 0.83544304,\n",
      "       0.84615385, 0.85714286, 0.85526316, 0.86666667, 0.87837838,\n",
      "       0.89041096, 0.90277778, 0.91549296, 0.92857143, 0.94202899,\n",
      "       0.95588235, 0.97014925, 0.98484848, 1.        , 1.        ,\n",
      "       1.        , 1.        , 1.        , 1.        , 1.        ,\n",
      "       1.        , 1.        , 1.        , 1.        , 1.        ,\n",
      "       1.        , 1.        , 1.        , 1.        , 1.        ,\n",
      "       1.        , 1.        , 1.        , 1.        , 1.        ,\n",
      "       1.        , 1.        , 1.        , 1.        , 1.        ,\n",
      "       1.        , 1.        , 1.        , 1.        , 1.        ,\n",
      "       1.        , 1.        , 1.        , 1.        , 1.        ,\n",
      "       1.        , 1.        , 1.        , 1.        , 1.        ,\n",
      "       1.        , 1.        , 1.        , 1.        , 1.        ,\n",
      "       1.        , 1.        , 1.        , 1.        , 1.        ,\n",
      "       1.        , 1.        , 1.        , 1.        , 1.        ,\n",
      "       1.        , 1.        , 1.        , 1.        , 1.        ,\n",
      "       1.        , 1.        , 1.        , 1.        ]), array([1.        , 0.98507463, 0.98507463, 0.98507463, 0.98507463,\n",
      "       0.98507463, 0.98507463, 0.97014925, 0.97014925, 0.97014925,\n",
      "       0.97014925, 0.97014925, 0.97014925, 0.97014925, 0.97014925,\n",
      "       0.97014925, 0.97014925, 0.97014925, 0.97014925, 0.95522388,\n",
      "       0.94029851, 0.92537313, 0.91044776, 0.89552239, 0.88059701,\n",
      "       0.86567164, 0.85074627, 0.8358209 , 0.82089552, 0.80597015,\n",
      "       0.79104478, 0.7761194 , 0.76119403, 0.74626866, 0.73134328,\n",
      "       0.71641791, 0.70149254, 0.68656716, 0.67164179, 0.65671642,\n",
      "       0.64179104, 0.62686567, 0.6119403 , 0.59701493, 0.58208955,\n",
      "       0.56716418, 0.55223881, 0.53731343, 0.52238806, 0.50746269,\n",
      "       0.49253731, 0.47761194, 0.46268657, 0.44776119, 0.43283582,\n",
      "       0.41791045, 0.40298507, 0.3880597 , 0.37313433, 0.35820896,\n",
      "       0.34328358, 0.32835821, 0.31343284, 0.29850746, 0.28358209,\n",
      "       0.26865672, 0.25373134, 0.23880597, 0.2238806 , 0.20895522,\n",
      "       0.19402985, 0.17910448, 0.1641791 , 0.14925373, 0.13432836,\n",
      "       0.11940299, 0.10447761, 0.08955224, 0.07462687, 0.05970149,\n",
      "       0.04477612, 0.02985075, 0.01492537, 0.        ]), array([0.06880144, 0.06953722, 0.07079057, 0.08448241, 0.0862183 ,\n",
      "       0.1038222 , 0.11649206, 0.17659863, 0.18196444, 0.20052426,\n",
      "       0.20564428, 0.23689097, 0.23774132, 0.25694803, 0.33318771,\n",
      "       0.36111294, 0.52260992, 0.55439203, 0.57425723, 0.59590164,\n",
      "       0.76322552, 0.77791434, 0.78861999, 0.82505774, 0.85347092,\n",
      "       0.88729918, 0.89282469, 0.91041398, 0.94370437, 0.95479257,\n",
      "       0.95518668, 0.96878503, 0.982034  , 0.98427662, 0.98696869,\n",
      "       0.99103457, 0.99111639, 0.99149882, 0.99622892, 0.99654357,\n",
      "       0.99709903, 0.9971263 , 0.99721977, 0.99755247, 0.99766299,\n",
      "       0.99780607, 0.99781538, 0.99830447, 0.99866475, 0.99876577,\n",
      "       0.99909002, 0.99927159, 0.99943227, 0.99960585, 0.99965301,\n",
      "       0.99972869, 0.99975456, 0.99989266, 0.99989356, 0.99995376,\n",
      "       0.99997526, 0.99997755, 0.9999908 , 0.99999451, 0.99999568,\n",
      "       0.99999576, 0.99999626, 0.99999671, 0.99999848, 0.99999972,\n",
      "       0.99999978, 0.99999978, 0.99999993, 0.99999998, 0.99999998,\n",
      "       0.99999999, 0.99999999, 1.        , 1.        , 1.        ,\n",
      "       1.        , 1.        , 1.        ])), 'MCC': array([0.95091848])}\n",
      "=================================\n",
      "Evaluating model: Decision Trees\n",
      "Fitting 5 folds for each of 20 candidates, totalling 100 fits\n"
     ]
    },
    {
     "name": "stderr",
     "output_type": "stream",
     "text": [
      "[Parallel(n_jobs=-1)]: Using backend LokyBackend with 24 concurrent workers.\n",
      "[Parallel(n_jobs=-1)]: Done  15 out of  20 | elapsed:    0.1s remaining:    0.0s\n",
      "[Parallel(n_jobs=-1)]: Done  20 out of  20 | elapsed:    0.1s finished\n",
      "[Parallel(n_jobs=-1)]: Using backend LokyBackend with 24 concurrent workers.\n",
      "[Parallel(n_jobs=-1)]: Done   2 tasks      | elapsed:    0.0s\n",
      "[Parallel(n_jobs=-1)]: Done 100 out of 100 | elapsed:    0.3s finished\n",
      "[Parallel(n_jobs=-1)]: Using backend LokyBackend with 24 concurrent workers.\n"
     ]
    },
    {
     "name": "stdout",
     "output_type": "stream",
     "text": [
      "result: {'Model': 'Decision Trees', 'Accuracy': array([0.94152047]), 'Precision': array([0.94092888]), 'Recall': array([0.93599311]), 'F1': array([0.93831169]), 'ROC': array([0.93599311]), 'PRC': (array([0.39181287, 0.93846154, 1.        ]), array([1.        , 0.91044776, 0.        ]), array([0., 1.])), 'MCC': array([0.8769081])}\n",
      "=================================\n",
      "Evaluating model: Naive Bayes\n",
      "result: {'Model': 'Naive Bayes', 'Accuracy': array([0.95321637]), 'Precision': array([0.9599851]), 'Recall': array([0.9429535]), 'F1': array([0.95005841]), 'ROC': array([0.9880884]), 'PRC': (array([0.71276596, 0.70967742, 0.7173913 , 0.72527473, 0.73333333,\n",
      "       0.74157303, 0.75      , 0.75862069, 0.76744186, 0.77647059,\n",
      "       0.78571429, 0.79518072, 0.80487805, 0.81481481, 0.825     ,\n",
      "       0.83544304, 0.84615385, 0.85714286, 0.85526316, 0.86666667,\n",
      "       0.86486486, 0.8630137 , 0.86111111, 0.87323944, 0.88571429,\n",
      "       0.89855072, 0.91176471, 0.91044776, 0.90909091, 0.92307692,\n",
      "       0.9375    , 0.95238095, 0.96774194, 0.98360656, 0.98333333,\n",
      "       0.98305085, 0.98275862, 1.        , 1.        , 1.        ,\n",
      "       1.        , 1.        , 1.        , 1.        , 1.        ,\n",
      "       1.        , 1.        , 1.        , 1.        , 1.        ,\n",
      "       1.        , 1.        , 1.        ]), array([1.        , 0.98507463, 0.98507463, 0.98507463, 0.98507463,\n",
      "       0.98507463, 0.98507463, 0.98507463, 0.98507463, 0.98507463,\n",
      "       0.98507463, 0.98507463, 0.98507463, 0.98507463, 0.98507463,\n",
      "       0.98507463, 0.98507463, 0.98507463, 0.97014925, 0.97014925,\n",
      "       0.95522388, 0.94029851, 0.92537313, 0.92537313, 0.92537313,\n",
      "       0.92537313, 0.92537313, 0.91044776, 0.89552239, 0.89552239,\n",
      "       0.89552239, 0.89552239, 0.89552239, 0.89552239, 0.88059701,\n",
      "       0.86567164, 0.85074627, 0.85074627, 0.8358209 , 0.82089552,\n",
      "       0.80597015, 0.79104478, 0.7761194 , 0.76119403, 0.74626866,\n",
      "       0.73134328, 0.71641791, 0.70149254, 0.68656716, 0.67164179,\n",
      "       0.65671642, 0.62686567, 0.        ]), array([2.23932304e-12, 2.43842139e-12, 4.74024338e-12, 4.78804965e-12,\n",
      "       6.41251856e-12, 7.74347199e-12, 5.16212577e-11, 7.08539105e-11,\n",
      "       1.11239589e-10, 5.21341655e-10, 2.68836284e-09, 3.07276630e-08,\n",
      "       1.69175301e-07, 2.34770069e-07, 2.77393894e-07, 5.69426839e-07,\n",
      "       8.97424307e-07, 1.55983376e-06, 2.10001286e-06, 3.08678125e-06,\n",
      "       3.44454857e-06, 3.57307767e-06, 3.67367941e-06, 5.25040370e-06,\n",
      "       2.18404959e-04, 2.78220974e-04, 3.17116705e-04, 3.25648308e-04,\n",
      "       2.45428581e-03, 3.82257576e-03, 4.19958815e-03, 5.69828333e-02,\n",
      "       1.92518692e-01, 6.57987631e-01, 9.44608942e-01, 9.83534646e-01,\n",
      "       9.99639789e-01, 9.99987516e-01, 9.99999044e-01, 9.99999188e-01,\n",
      "       9.99999414e-01, 9.99999720e-01, 9.99999950e-01, 9.99999999e-01,\n",
      "       1.00000000e+00, 1.00000000e+00, 1.00000000e+00, 1.00000000e+00,\n",
      "       1.00000000e+00, 1.00000000e+00, 1.00000000e+00, 1.00000000e+00])), 'MCC': array([0.90277796])}\n",
      "=================================\n",
      "Evaluating model: Stacking MLP\n",
      "Fitting 5 folds for each of 1944 candidates, totalling 9720 fits\n"
     ]
    },
    {
     "name": "stderr",
     "output_type": "stream",
     "text": [
      "[Parallel(n_jobs=-1)]: Done   2 tasks      | elapsed:    0.2s\n",
      "[Parallel(n_jobs=-1)]: Done 197 tasks      | elapsed:    6.3s\n",
      "[Parallel(n_jobs=-1)]: Done 450 tasks      | elapsed:    9.8s\n",
      "[Parallel(n_jobs=-1)]: Done 800 tasks      | elapsed:   18.7s\n",
      "[Parallel(n_jobs=-1)]: Done 1250 tasks      | elapsed:   29.4s\n",
      "[Parallel(n_jobs=-1)]: Done 1800 tasks      | elapsed:   41.4s\n",
      "[Parallel(n_jobs=-1)]: Done 2450 tasks      | elapsed:   54.7s\n",
      "[Parallel(n_jobs=-1)]: Done 3200 tasks      | elapsed:  1.2min\n",
      "[Parallel(n_jobs=-1)]: Done 4050 tasks      | elapsed:  1.5min\n",
      "[Parallel(n_jobs=-1)]: Done 5000 tasks      | elapsed:  1.8min\n",
      "[Parallel(n_jobs=-1)]: Done 6050 tasks      | elapsed:  2.2min\n",
      "[Parallel(n_jobs=-1)]: Done 7200 tasks      | elapsed:  2.6min\n",
      "[Parallel(n_jobs=-1)]: Done 8450 tasks      | elapsed:  3.0min\n",
      "[Parallel(n_jobs=-1)]: Done 9720 out of 9720 | elapsed:  3.4min finished\n",
      "[Parallel(n_jobs=-1)]: Using backend LokyBackend with 24 concurrent workers.\n"
     ]
    },
    {
     "name": "stdout",
     "output_type": "stream",
     "text": [
      "Fitting 5 folds for each of 1944 candidates, totalling 9720 fits\n"
     ]
    },
    {
     "name": "stderr",
     "output_type": "stream",
     "text": [
      "[Parallel(n_jobs=-1)]: Done   2 tasks      | elapsed:    0.4s\n",
      "[Parallel(n_jobs=-1)]: Done 152 tasks      | elapsed:    6.2s\n",
      "[Parallel(n_jobs=-1)]: Done 402 tasks      | elapsed:   11.2s\n",
      "[Parallel(n_jobs=-1)]: Done 752 tasks      | elapsed:   21.3s\n",
      "[Parallel(n_jobs=-1)]: Done 1202 tasks      | elapsed:   32.9s\n",
      "[Parallel(n_jobs=-1)]: Done 1752 tasks      | elapsed:   46.7s\n",
      "[Parallel(n_jobs=-1)]: Done 2402 tasks      | elapsed:  1.0min\n",
      "[Parallel(n_jobs=-1)]: Done 3152 tasks      | elapsed:  1.3min\n",
      "[Parallel(n_jobs=-1)]: Done 4002 tasks      | elapsed:  1.7min\n",
      "[Parallel(n_jobs=-1)]: Done 4952 tasks      | elapsed:  2.1min\n",
      "[Parallel(n_jobs=-1)]: Done 6002 tasks      | elapsed:  2.5min\n",
      "[Parallel(n_jobs=-1)]: Done 7152 tasks      | elapsed:  3.0min\n",
      "[Parallel(n_jobs=-1)]: Done 8402 tasks      | elapsed:  3.4min\n",
      "[Parallel(n_jobs=-1)]: Done 9720 out of 9720 | elapsed:  3.9min finished\n"
     ]
    },
    {
     "name": "stdout",
     "output_type": "stream",
     "text": [
      "Fitting 5 folds for each of 1944 candidates, totalling 9720 fits\n"
     ]
    },
    {
     "name": "stderr",
     "output_type": "stream",
     "text": [
      "[Parallel(n_jobs=-1)]: Using backend LokyBackend with 24 concurrent workers.\n",
      "[Parallel(n_jobs=-1)]: Done   2 tasks      | elapsed:    0.4s\n",
      "[Parallel(n_jobs=-1)]: Done 152 tasks      | elapsed:    6.0s\n",
      "[Parallel(n_jobs=-1)]: Done 402 tasks      | elapsed:   11.5s\n",
      "[Parallel(n_jobs=-1)]: Done 752 tasks      | elapsed:   21.6s\n",
      "[Parallel(n_jobs=-1)]: Done 1202 tasks      | elapsed:   33.3s\n",
      "[Parallel(n_jobs=-1)]: Done 1752 tasks      | elapsed:   47.5s\n",
      "[Parallel(n_jobs=-1)]: Done 2402 tasks      | elapsed:  1.1min\n",
      "[Parallel(n_jobs=-1)]: Done 3152 tasks      | elapsed:  1.4min\n",
      "[Parallel(n_jobs=-1)]: Done 4002 tasks      | elapsed:  1.7min\n",
      "[Parallel(n_jobs=-1)]: Done 4952 tasks      | elapsed:  2.1min\n",
      "[Parallel(n_jobs=-1)]: Done 6002 tasks      | elapsed:  2.5min\n",
      "[Parallel(n_jobs=-1)]: Done 7152 tasks      | elapsed:  3.0min\n",
      "[Parallel(n_jobs=-1)]: Done 8402 tasks      | elapsed:  3.5min\n",
      "[Parallel(n_jobs=-1)]: Done 9720 out of 9720 | elapsed:  4.0min finished\n"
     ]
    },
    {
     "name": "stdout",
     "output_type": "stream",
     "text": [
      "Fitting 5 folds for each of 1944 candidates, totalling 9720 fits\n"
     ]
    },
    {
     "name": "stderr",
     "output_type": "stream",
     "text": [
      "[Parallel(n_jobs=-1)]: Using backend LokyBackend with 24 concurrent workers.\n",
      "[Parallel(n_jobs=-1)]: Done   2 tasks      | elapsed:    0.4s\n",
      "[Parallel(n_jobs=-1)]: Done 152 tasks      | elapsed:    6.7s\n",
      "[Parallel(n_jobs=-1)]: Done 402 tasks      | elapsed:   12.9s\n",
      "[Parallel(n_jobs=-1)]: Done 752 tasks      | elapsed:   24.6s\n",
      "[Parallel(n_jobs=-1)]: Done 1202 tasks      | elapsed:   37.7s\n",
      "[Parallel(n_jobs=-1)]: Done 1752 tasks      | elapsed:   53.8s\n",
      "[Parallel(n_jobs=-1)]: Done 2402 tasks      | elapsed:  1.2min\n",
      "[Parallel(n_jobs=-1)]: Done 3152 tasks      | elapsed:  1.6min\n",
      "[Parallel(n_jobs=-1)]: Done 4002 tasks      | elapsed:  2.0min\n",
      "[Parallel(n_jobs=-1)]: Done 4952 tasks      | elapsed:  2.5min\n",
      "[Parallel(n_jobs=-1)]: Done 6002 tasks      | elapsed:  3.0min\n",
      "[Parallel(n_jobs=-1)]: Done 7152 tasks      | elapsed:  3.5min\n",
      "[Parallel(n_jobs=-1)]: Done 8402 tasks      | elapsed:  4.1min\n",
      "[Parallel(n_jobs=-1)]: Done 9720 out of 9720 | elapsed:  4.7min finished\n"
     ]
    },
    {
     "name": "stdout",
     "output_type": "stream",
     "text": [
      "Fitting 5 folds for each of 1944 candidates, totalling 9720 fits\n"
     ]
    },
    {
     "name": "stderr",
     "output_type": "stream",
     "text": [
      "[Parallel(n_jobs=-1)]: Using backend LokyBackend with 24 concurrent workers.\n",
      "[Parallel(n_jobs=-1)]: Done   2 tasks      | elapsed:    0.4s\n",
      "[Parallel(n_jobs=-1)]: Done 152 tasks      | elapsed:    6.7s\n",
      "[Parallel(n_jobs=-1)]: Done 402 tasks      | elapsed:   13.0s\n",
      "[Parallel(n_jobs=-1)]: Done 752 tasks      | elapsed:   24.6s\n",
      "[Parallel(n_jobs=-1)]: Done 1202 tasks      | elapsed:   37.8s\n",
      "[Parallel(n_jobs=-1)]: Done 1752 tasks      | elapsed:   54.1s\n",
      "[Parallel(n_jobs=-1)]: Done 2402 tasks      | elapsed:  1.2min\n",
      "[Parallel(n_jobs=-1)]: Done 3152 tasks      | elapsed:  1.6min\n",
      "[Parallel(n_jobs=-1)]: Done 4002 tasks      | elapsed:  2.0min\n",
      "[Parallel(n_jobs=-1)]: Done 4952 tasks      | elapsed:  2.5min\n",
      "[Parallel(n_jobs=-1)]: Done 6002 tasks      | elapsed:  3.0min\n",
      "[Parallel(n_jobs=-1)]: Done 7152 tasks      | elapsed:  3.5min\n",
      "[Parallel(n_jobs=-1)]: Done 8402 tasks      | elapsed:  4.1min\n",
      "[Parallel(n_jobs=-1)]: Done 9720 out of 9720 | elapsed:  4.7min finished\n"
     ]
    },
    {
     "name": "stdout",
     "output_type": "stream",
     "text": [
      "Fitting 5 folds for each of 4 candidates, totalling 20 fits\n",
      "Fitting 5 folds for each of 4 candidates, totalling 20 fits\n"
     ]
    },
    {
     "name": "stderr",
     "output_type": "stream",
     "text": [
      "[Parallel(n_jobs=-1)]: Using backend LokyBackend with 24 concurrent workers.\n",
      "[Parallel(n_jobs=-1)]: Done  15 out of  20 | elapsed:    0.1s remaining:    0.0s\n",
      "[Parallel(n_jobs=-1)]: Done  20 out of  20 | elapsed:    0.1s finished\n",
      "[Parallel(n_jobs=-1)]: Using backend LokyBackend with 24 concurrent workers.\n",
      "[Parallel(n_jobs=-1)]: Done  15 out of  20 | elapsed:    0.1s remaining:    0.0s\n",
      "[Parallel(n_jobs=-1)]: Done  20 out of  20 | elapsed:    0.1s finished\n",
      "[Parallel(n_jobs=-1)]: Using backend LokyBackend with 24 concurrent workers.\n",
      "[Parallel(n_jobs=-1)]: Done  15 out of  20 | elapsed:    0.1s remaining:    0.0s\n",
      "[Parallel(n_jobs=-1)]: Done  20 out of  20 | elapsed:    0.1s finished\n"
     ]
    },
    {
     "name": "stdout",
     "output_type": "stream",
     "text": [
      "Fitting 5 folds for each of 4 candidates, totalling 20 fits\n",
      "Fitting 5 folds for each of 4 candidates, totalling 20 fits\n"
     ]
    },
    {
     "name": "stderr",
     "output_type": "stream",
     "text": [
      "[Parallel(n_jobs=-1)]: Using backend LokyBackend with 24 concurrent workers.\n",
      "[Parallel(n_jobs=-1)]: Done  15 out of  20 | elapsed:    0.1s remaining:    0.0s\n",
      "[Parallel(n_jobs=-1)]: Done  20 out of  20 | elapsed:    0.1s finished\n",
      "[Parallel(n_jobs=-1)]: Using backend LokyBackend with 24 concurrent workers.\n"
     ]
    },
    {
     "name": "stdout",
     "output_type": "stream",
     "text": [
      "Fitting 5 folds for each of 4 candidates, totalling 20 fits\n",
      "Fitting 5 folds for each of 20 candidates, totalling 100 fits\n"
     ]
    },
    {
     "name": "stderr",
     "output_type": "stream",
     "text": [
      "[Parallel(n_jobs=-1)]: Done  15 out of  20 | elapsed:    0.1s remaining:    0.0s\n",
      "[Parallel(n_jobs=-1)]: Done  20 out of  20 | elapsed:    0.2s finished\n",
      "[Parallel(n_jobs=-1)]: Using backend LokyBackend with 24 concurrent workers.\n",
      "[Parallel(n_jobs=-1)]: Done   2 tasks      | elapsed:    0.0s\n",
      "[Parallel(n_jobs=-1)]: Done 100 out of 100 | elapsed:    0.3s finished\n",
      "[Parallel(n_jobs=-1)]: Using backend LokyBackend with 24 concurrent workers.\n",
      "[Parallel(n_jobs=-1)]: Done   2 tasks      | elapsed:    0.0s\n"
     ]
    },
    {
     "name": "stdout",
     "output_type": "stream",
     "text": [
      "Fitting 5 folds for each of 20 candidates, totalling 100 fits\n"
     ]
    },
    {
     "name": "stderr",
     "output_type": "stream",
     "text": [
      "[Parallel(n_jobs=-1)]: Done 100 out of 100 | elapsed:    0.3s finished\n",
      "[Parallel(n_jobs=-1)]: Using backend LokyBackend with 24 concurrent workers.\n",
      "[Parallel(n_jobs=-1)]: Done   2 tasks      | elapsed:    0.0s\n"
     ]
    },
    {
     "name": "stdout",
     "output_type": "stream",
     "text": [
      "Fitting 5 folds for each of 20 candidates, totalling 100 fits\n"
     ]
    },
    {
     "name": "stderr",
     "output_type": "stream",
     "text": [
      "[Parallel(n_jobs=-1)]: Done 100 out of 100 | elapsed:    0.3s finished\n",
      "[Parallel(n_jobs=-1)]: Using backend LokyBackend with 24 concurrent workers.\n",
      "[Parallel(n_jobs=-1)]: Done   2 tasks      | elapsed:    0.0s\n"
     ]
    },
    {
     "name": "stdout",
     "output_type": "stream",
     "text": [
      "Fitting 5 folds for each of 20 candidates, totalling 100 fits\n"
     ]
    },
    {
     "name": "stderr",
     "output_type": "stream",
     "text": [
      "[Parallel(n_jobs=-1)]: Done 100 out of 100 | elapsed:    0.3s finished\n",
      "[Parallel(n_jobs=-1)]: Using backend LokyBackend with 24 concurrent workers.\n",
      "[Parallel(n_jobs=-1)]: Done   2 tasks      | elapsed:    0.1s\n"
     ]
    },
    {
     "name": "stdout",
     "output_type": "stream",
     "text": [
      "Fitting 5 folds for each of 20 candidates, totalling 100 fits\n"
     ]
    },
    {
     "name": "stderr",
     "output_type": "stream",
     "text": [
      "[Parallel(n_jobs=-1)]: Done 100 out of 100 | elapsed:    0.3s finished\n",
      "[Parallel(n_jobs=-1)]: Using backend LokyBackend with 24 concurrent workers.\n"
     ]
    },
    {
     "name": "stdout",
     "output_type": "stream",
     "text": [
      "Fitting 5 folds for each of 1944 candidates, totalling 9720 fits\n"
     ]
    },
    {
     "name": "stderr",
     "output_type": "stream",
     "text": [
      "[Parallel(n_jobs=-1)]: Done   2 tasks      | elapsed:    0.6s\n",
      "[Parallel(n_jobs=-1)]: Done 152 tasks      | elapsed:    9.8s\n",
      "[Parallel(n_jobs=-1)]: Done 402 tasks      | elapsed:   19.8s\n",
      "[Parallel(n_jobs=-1)]: Done 752 tasks      | elapsed:   37.4s\n",
      "[Parallel(n_jobs=-1)]: Done 1202 tasks      | elapsed:   57.4s\n",
      "[Parallel(n_jobs=-1)]: Done 1752 tasks      | elapsed:  1.4min\n",
      "[Parallel(n_jobs=-1)]: Done 2402 tasks      | elapsed:  1.9min\n",
      "[Parallel(n_jobs=-1)]: Done 3152 tasks      | elapsed:  2.4min\n",
      "[Parallel(n_jobs=-1)]: Done 4002 tasks      | elapsed:  3.1min\n",
      "[Parallel(n_jobs=-1)]: Done 4952 tasks      | elapsed:  3.8min\n",
      "[Parallel(n_jobs=-1)]: Done 6002 tasks      | elapsed:  4.6min\n",
      "[Parallel(n_jobs=-1)]: Done 7152 tasks      | elapsed:  5.4min\n",
      "[Parallel(n_jobs=-1)]: Done 8402 tasks      | elapsed:  6.3min\n",
      "[Parallel(n_jobs=-1)]: Done 9720 out of 9720 | elapsed:  7.2min finished\n"
     ]
    },
    {
     "name": "stdout",
     "output_type": "stream",
     "text": [
      "Fitting 5 folds for each of 4 candidates, totalling 20 fits\n",
      "Fitting 5 folds for each of 20 candidates, totalling 100 fits\n"
     ]
    },
    {
     "name": "stderr",
     "output_type": "stream",
     "text": [
      "[Parallel(n_jobs=-1)]: Using backend LokyBackend with 24 concurrent workers.\n",
      "[Parallel(n_jobs=-1)]: Done  15 out of  20 | elapsed:    0.1s remaining:    0.0s\n",
      "[Parallel(n_jobs=-1)]: Done  20 out of  20 | elapsed:    0.1s finished\n",
      "[Parallel(n_jobs=-1)]: Using backend LokyBackend with 24 concurrent workers.\n",
      "[Parallel(n_jobs=-1)]: Done   2 tasks      | elapsed:    0.0s\n",
      "[Parallel(n_jobs=-1)]: Done 100 out of 100 | elapsed:    0.3s finished\n"
     ]
    },
    {
     "name": "stdout",
     "output_type": "stream",
     "text": [
      "result: {'Model': 'Stacking MLP', 'Accuracy': array([0.97660819]), 'Precision': array([0.97545924]), 'Recall': array([0.97545924]), 'F1': array([0.97545924]), 'ROC': array([0.99540758]), 'PRC': (array([0.79761905, 0.79518072, 0.80487805, 0.81481481, 0.8125    ,\n",
      "       0.82278481, 0.83333333, 0.84415584, 0.85526316, 0.86666667,\n",
      "       0.87837838, 0.89041096, 0.90277778, 0.91549296, 0.92857143,\n",
      "       0.94202899, 0.95588235, 0.97014925, 0.98484848, 1.        ,\n",
      "       1.        , 1.        , 1.        , 1.        , 1.        ,\n",
      "       1.        , 1.        , 1.        , 1.        , 1.        ,\n",
      "       1.        , 1.        , 1.        , 1.        , 1.        ,\n",
      "       1.        , 1.        , 1.        , 1.        , 1.        ,\n",
      "       1.        , 1.        , 1.        , 1.        , 1.        ,\n",
      "       1.        , 1.        , 1.        , 1.        , 1.        ,\n",
      "       1.        , 1.        , 1.        , 1.        , 1.        ,\n",
      "       1.        , 1.        , 1.        , 1.        , 1.        ,\n",
      "       1.        , 1.        , 1.        , 1.        , 1.        ,\n",
      "       1.        , 1.        , 1.        , 1.        , 1.        ,\n",
      "       1.        , 1.        , 1.        , 1.        , 1.        ,\n",
      "       1.        , 1.        , 1.        , 1.        , 1.        ,\n",
      "       1.        , 1.        , 1.        , 1.        , 1.        ]), array([1.        , 0.98507463, 0.98507463, 0.98507463, 0.97014925,\n",
      "       0.97014925, 0.97014925, 0.97014925, 0.97014925, 0.97014925,\n",
      "       0.97014925, 0.97014925, 0.97014925, 0.97014925, 0.97014925,\n",
      "       0.97014925, 0.97014925, 0.97014925, 0.97014925, 0.97014925,\n",
      "       0.95522388, 0.94029851, 0.92537313, 0.91044776, 0.89552239,\n",
      "       0.88059701, 0.86567164, 0.85074627, 0.8358209 , 0.82089552,\n",
      "       0.80597015, 0.79104478, 0.7761194 , 0.76119403, 0.74626866,\n",
      "       0.73134328, 0.71641791, 0.70149254, 0.68656716, 0.67164179,\n",
      "       0.65671642, 0.64179104, 0.62686567, 0.6119403 , 0.59701493,\n",
      "       0.58208955, 0.56716418, 0.55223881, 0.53731343, 0.52238806,\n",
      "       0.50746269, 0.49253731, 0.47761194, 0.46268657, 0.44776119,\n",
      "       0.43283582, 0.41791045, 0.40298507, 0.3880597 , 0.37313433,\n",
      "       0.35820896, 0.34328358, 0.32835821, 0.31343284, 0.29850746,\n",
      "       0.28358209, 0.26865672, 0.25373134, 0.23880597, 0.2238806 ,\n",
      "       0.20895522, 0.19402985, 0.17910448, 0.1641791 , 0.14925373,\n",
      "       0.13432836, 0.11940299, 0.10447761, 0.08955224, 0.07462687,\n",
      "       0.05970149, 0.04477612, 0.02985075, 0.01492537, 0.        ]), array([0.01790615, 0.02017181, 0.02138881, 0.02322436, 0.02327572,\n",
      "       0.0255955 , 0.02654504, 0.03236703, 0.03333837, 0.03801444,\n",
      "       0.05605843, 0.07259648, 0.07936937, 0.15584037, 0.15654443,\n",
      "       0.18427901, 0.38681184, 0.63175235, 0.78866   , 0.82498185,\n",
      "       0.88018168, 0.91410371, 0.93439188, 0.93786038, 0.96002272,\n",
      "       0.9718625 , 0.97251376, 0.97774871, 0.97972334, 0.9821941 ,\n",
      "       0.9827616 , 0.98398401, 0.98443048, 0.98888764, 0.9898374 ,\n",
      "       0.99014912, 0.99123833, 0.99148775, 0.99377669, 0.99382391,\n",
      "       0.99416088, 0.99451352, 0.99456808, 0.99474462, 0.99483635,\n",
      "       0.99487711, 0.99490115, 0.99493633, 0.99494413, 0.99504084,\n",
      "       0.99510344, 0.99510577, 0.99510996, 0.99512055, 0.9951227 ,\n",
      "       0.99513493, 0.99514914, 0.99515732, 0.99516267, 0.99516437,\n",
      "       0.99517012, 0.99517464, 0.99517801, 0.99518065, 0.99518206,\n",
      "       0.99518601, 0.99518611, 0.99518759, 0.99518901, 0.99519246,\n",
      "       0.99519344, 0.99519417, 0.99519427, 0.99519441, 0.99519472,\n",
      "       0.99519506, 0.99519527, 0.99519552, 0.99519557, 0.9951957 ,\n",
      "       0.99519576, 0.99519579, 0.99519585, 0.99519588])), 'MCC': array([0.95091848])}\n",
      "=================================\n"
     ]
    },
    {
     "data": {
      "text/html": [
       "<div>\n",
       "<style scoped>\n",
       "    .dataframe tbody tr th:only-of-type {\n",
       "        vertical-align: middle;\n",
       "    }\n",
       "\n",
       "    .dataframe tbody tr th {\n",
       "        vertical-align: top;\n",
       "    }\n",
       "\n",
       "    .dataframe thead th {\n",
       "        text-align: right;\n",
       "    }\n",
       "</style>\n",
       "<table border=\"1\" class=\"dataframe\">\n",
       "  <thead>\n",
       "    <tr style=\"text-align: right;\">\n",
       "      <th></th>\n",
       "      <th>Accuracy</th>\n",
       "      <th>Precision</th>\n",
       "      <th>Recall</th>\n",
       "      <th>F1</th>\n",
       "      <th>ROC</th>\n",
       "      <th>MCC</th>\n",
       "    </tr>\n",
       "    <tr>\n",
       "      <th>Model</th>\n",
       "      <th></th>\n",
       "      <th></th>\n",
       "      <th></th>\n",
       "      <th></th>\n",
       "      <th></th>\n",
       "      <th></th>\n",
       "    </tr>\n",
       "  </thead>\n",
       "  <tbody>\n",
       "    <tr>\n",
       "      <th>SVM + AdaBoost</th>\n",
       "      <td>0.964912</td>\n",
       "      <td>0.961211</td>\n",
       "      <td>0.965844</td>\n",
       "      <td>0.963378</td>\n",
       "      <td>0.995264</td>\n",
       "      <td>0.927043</td>\n",
       "    </tr>\n",
       "    <tr>\n",
       "      <th>Logistic Regression</th>\n",
       "      <td>0.976608</td>\n",
       "      <td>0.975459</td>\n",
       "      <td>0.975459</td>\n",
       "      <td>0.975459</td>\n",
       "      <td>0.996125</td>\n",
       "      <td>0.950918</td>\n",
       "    </tr>\n",
       "    <tr>\n",
       "      <th>Decision Trees</th>\n",
       "      <td>0.941520</td>\n",
       "      <td>0.940929</td>\n",
       "      <td>0.935993</td>\n",
       "      <td>0.938312</td>\n",
       "      <td>0.935993</td>\n",
       "      <td>0.876908</td>\n",
       "    </tr>\n",
       "    <tr>\n",
       "      <th>Naive Bayes</th>\n",
       "      <td>0.953216</td>\n",
       "      <td>0.959985</td>\n",
       "      <td>0.942954</td>\n",
       "      <td>0.950058</td>\n",
       "      <td>0.988088</td>\n",
       "      <td>0.902778</td>\n",
       "    </tr>\n",
       "    <tr>\n",
       "      <th>Stacking MLP</th>\n",
       "      <td>0.976608</td>\n",
       "      <td>0.975459</td>\n",
       "      <td>0.975459</td>\n",
       "      <td>0.975459</td>\n",
       "      <td>0.995408</td>\n",
       "      <td>0.950918</td>\n",
       "    </tr>\n",
       "  </tbody>\n",
       "</table>\n",
       "</div>"
      ],
      "text/plain": [
       "                     Accuracy  Precision    Recall        F1       ROC  \\\n",
       "Model                                                                    \n",
       "SVM + AdaBoost       0.964912   0.961211  0.965844  0.963378  0.995264   \n",
       "Logistic Regression  0.976608   0.975459  0.975459  0.975459  0.996125   \n",
       "Decision Trees       0.941520   0.940929  0.935993  0.938312  0.935993   \n",
       "Naive Bayes          0.953216   0.959985  0.942954  0.950058  0.988088   \n",
       "Stacking MLP         0.976608   0.975459  0.975459  0.975459  0.995408   \n",
       "\n",
       "                          MCC  \n",
       "Model                          \n",
       "SVM + AdaBoost       0.927043  \n",
       "Logistic Regression  0.950918  \n",
       "Decision Trees       0.876908  \n",
       "Naive Bayes          0.902778  \n",
       "Stacking MLP         0.950918  "
      ]
     },
     "execution_count": 58,
     "metadata": {},
     "output_type": "execute_result"
    }
   ],
   "source": [
    "k_fold_models = [\n",
    "    {'name': 'SVM + AdaBoost', 'model': grid_svc_adaboost_std},\n",
    "    {'name': 'Logistic Regression', 'model': grid_lr},\n",
    "    {'name': 'Decision Trees', 'model': grid_dt},\n",
    "    {'name': 'Naive Bayes', 'model': model_nb},\n",
    "    {'name': 'Stacking MLP', 'model': stack_cvc_mlp}\n",
    "]\n",
    "\n",
    "column_names = ['Model', 'Accuracy', 'Precision', 'Recall', 'F1', 'ROC', 'MCC']\n",
    "eval_res_df = pd.DataFrame(columns=column_names)\n",
    "eval_res = []\n",
    "\n",
    "for item in k_fold_models:\n",
    "    eval_model = item['model']\n",
    "    eval_name = item['name']\n",
    "    print(f\"Evaluating model: {item['name']}\")\n",
    "        \n",
    "    eval_model.fit(X_train_std_scaled, y_train)\n",
    "    predictions = eval_model.predict(X_test_std_scaled)\n",
    "    predictions_proba = eval_model.predict_proba(X_test_std_scaled)\n",
    "        \n",
    "    result = {\n",
    "        'Model': item['name'],\n",
    "        'Accuracy': accuracy_score(y_test, predictions).flatten(),\n",
    "        'Precision': precision_score(y_test, predictions, average=\"macro\").flatten(),\n",
    "        'Recall': recall_score(y_test, predictions, average=\"macro\").flatten(),\n",
    "        'F1': f1_score(y_test, predictions, average=\"macro\").flatten(),\n",
    "        'ROC': roc_auc_score(y_test, predictions_proba[:,1]).flatten(),\n",
    "        'PRC': precision_recall_curve(y_test, predictions_proba[:,1]),\n",
    "        'MCC': matthews_corrcoef(y_test, predictions).flatten()\n",
    "    }\n",
    "    print(f\"result: {result}\")\n",
    "    eval_res.append(result)\n",
    "    eval_res_df = eval_res_df.append(pd.DataFrame(result, columns=column_names))\n",
    "    print(\"=================================\")\n",
    "    \n",
    "\n",
    "eval_res_df.set_index('Model', inplace=True)\n",
    "eval_res_df.head()"
   ]
  },
  {
   "cell_type": "code",
   "execution_count": 59,
   "metadata": {},
   "outputs": [
    {
     "data": {
      "text/html": [
       "<div>\n",
       "<style scoped>\n",
       "    .dataframe tbody tr th:only-of-type {\n",
       "        vertical-align: middle;\n",
       "    }\n",
       "\n",
       "    .dataframe tbody tr th {\n",
       "        vertical-align: top;\n",
       "    }\n",
       "\n",
       "    .dataframe thead th {\n",
       "        text-align: right;\n",
       "    }\n",
       "</style>\n",
       "<table border=\"1\" class=\"dataframe\">\n",
       "  <thead>\n",
       "    <tr style=\"text-align: right;\">\n",
       "      <th></th>\n",
       "      <th>Accuracy</th>\n",
       "      <th>Precision</th>\n",
       "      <th>Recall</th>\n",
       "      <th>F1</th>\n",
       "      <th>ROC</th>\n",
       "      <th>MCC</th>\n",
       "    </tr>\n",
       "    <tr>\n",
       "      <th>Model</th>\n",
       "      <th></th>\n",
       "      <th></th>\n",
       "      <th></th>\n",
       "      <th></th>\n",
       "      <th></th>\n",
       "      <th></th>\n",
       "    </tr>\n",
       "  </thead>\n",
       "  <tbody>\n",
       "    <tr>\n",
       "      <th>SVM + AdaBoost</th>\n",
       "      <td>0.964912</td>\n",
       "      <td>0.961211</td>\n",
       "      <td>0.965844</td>\n",
       "      <td>0.963378</td>\n",
       "      <td>0.995264</td>\n",
       "      <td>0.927043</td>\n",
       "    </tr>\n",
       "    <tr>\n",
       "      <th>Logistic Regression</th>\n",
       "      <td>0.976608</td>\n",
       "      <td>0.975459</td>\n",
       "      <td>0.975459</td>\n",
       "      <td>0.975459</td>\n",
       "      <td>0.996125</td>\n",
       "      <td>0.950918</td>\n",
       "    </tr>\n",
       "    <tr>\n",
       "      <th>Decision Trees</th>\n",
       "      <td>0.941520</td>\n",
       "      <td>0.940929</td>\n",
       "      <td>0.935993</td>\n",
       "      <td>0.938312</td>\n",
       "      <td>0.935993</td>\n",
       "      <td>0.876908</td>\n",
       "    </tr>\n",
       "    <tr>\n",
       "      <th>Naive Bayes</th>\n",
       "      <td>0.953216</td>\n",
       "      <td>0.959985</td>\n",
       "      <td>0.942954</td>\n",
       "      <td>0.950058</td>\n",
       "      <td>0.988088</td>\n",
       "      <td>0.902778</td>\n",
       "    </tr>\n",
       "    <tr>\n",
       "      <th>Stacking MLP</th>\n",
       "      <td>0.976608</td>\n",
       "      <td>0.975459</td>\n",
       "      <td>0.975459</td>\n",
       "      <td>0.975459</td>\n",
       "      <td>0.995408</td>\n",
       "      <td>0.950918</td>\n",
       "    </tr>\n",
       "  </tbody>\n",
       "</table>\n",
       "</div>"
      ],
      "text/plain": [
       "                     Accuracy  Precision    Recall        F1       ROC  \\\n",
       "Model                                                                    \n",
       "SVM + AdaBoost       0.964912   0.961211  0.965844  0.963378  0.995264   \n",
       "Logistic Regression  0.976608   0.975459  0.975459  0.975459  0.996125   \n",
       "Decision Trees       0.941520   0.940929  0.935993  0.938312  0.935993   \n",
       "Naive Bayes          0.953216   0.959985  0.942954  0.950058  0.988088   \n",
       "Stacking MLP         0.976608   0.975459  0.975459  0.975459  0.995408   \n",
       "\n",
       "                          MCC  \n",
       "Model                          \n",
       "SVM + AdaBoost       0.927043  \n",
       "Logistic Regression  0.950918  \n",
       "Decision Trees       0.876908  \n",
       "Naive Bayes          0.902778  \n",
       "Stacking MLP         0.950918  "
      ]
     },
     "execution_count": 59,
     "metadata": {},
     "output_type": "execute_result"
    },
    {
     "data": {
      "image/png": "[encoded data removed]",
      "text/plain": [
       "<Figure size 720x360 with 1 Axes>"
      ]
     },
     "metadata": {
      "needs_background": "light"
     },
     "output_type": "display_data"
    }
   ],
   "source": [
    "invert_eval_res_df = eval_res_df.transpose()\n",
    "invert_eval_res_df.plot(figsize=(10,5), grid=True)\n",
    "\n",
    "eval_res_df.head()"
   ]
  },
  {
   "cell_type": "code",
   "execution_count": 60,
   "metadata": {},
   "outputs": [
    {
     "name": "stdout",
     "output_type": "stream",
     "text": [
      "              precision    recall  f1-score   support\n",
      "\n",
      "           0       0.98      0.98      0.98       104\n",
      "           1       0.97      0.97      0.97        67\n",
      "\n",
      "    accuracy                           0.98       171\n",
      "   macro avg       0.98      0.98      0.98       171\n",
      "weighted avg       0.98      0.98      0.98       171\n",
      "\n"
     ]
    },
    {
     "data": {
      "text/plain": [
       "<matplotlib.axes._subplots.AxesSubplot at 0x2aab34ba9710>"
      ]
     },
     "execution_count": 60,
     "metadata": {},
     "output_type": "execute_result"
    },
    {
     "data": {
      "image/png": "[encoded data removed]",
      "text/plain": [
       "<Figure size 432x288 with 2 Axes>"
      ]
     },
     "metadata": {
      "needs_background": "light"
     },
     "output_type": "display_data"
    }
   ],
   "source": [
    "y_predict = stack_cvc_mlp.predict(X_test_std_scaled)\n",
    "cm = confusion_matrix(y_test, y_predict)\n",
    "\n",
    "cm = np.array(confusion_matrix(y_test, y_predict, labels=cancer_labels))\n",
    "confusion = pd.DataFrame(cm, index=['is_cancer', 'is_healthy'],\n",
    "                         columns=['predicted_cancer','predicted_healthy'])\n",
    "\n",
    "confusion\n",
    "\n",
    "\n",
    "print(classification_report(y_test,y_predict))\n",
    "sns.heatmap(confusion,annot=True,fmt=\"d\")"
   ]
  },
  {
   "cell_type": "code",
   "execution_count": 61,
   "metadata": {},
   "outputs": [
    {
     "name": "stdout",
     "output_type": "stream",
     "text": [
      "              precision    recall  f1-score   support\n",
      "\n",
      "           0       0.98      0.96      0.97       104\n",
      "           1       0.94      0.97      0.96        67\n",
      "\n",
      "    accuracy                           0.96       171\n",
      "   macro avg       0.96      0.97      0.96       171\n",
      "weighted avg       0.97      0.96      0.96       171\n",
      "\n"
     ]
    },
    {
     "data": {
      "text/plain": [
       "<matplotlib.axes._subplots.AxesSubplot at 0x2aab346a8e50>"
      ]
     },
     "execution_count": 61,
     "metadata": {},
     "output_type": "execute_result"
    },
    {
     "data": {
      "image/png": "[encoded data removed]",
      "text/plain": [
       "<Figure size 432x288 with 2 Axes>"
      ]
     },
     "metadata": {
      "needs_background": "light"
     },
     "output_type": "display_data"
    }
   ],
   "source": [
    "y_predict = grid_svc_adaboost_std.predict(X_test_std_scaled)\n",
    "cm = confusion_matrix(y_test, y_predict)\n",
    "\n",
    "cm = np.array(confusion_matrix(y_test, y_predict, labels=cancer_labels))\n",
    "confusion = pd.DataFrame(cm, index=['is_cancer', 'is_healthy'],\n",
    "                         columns=['predicted_cancer','predicted_healthy'])\n",
    "\n",
    "confusion\n",
    "\n",
    "\n",
    "print(classification_report(y_test,y_predict))\n",
    "sns.heatmap(confusion,annot=True,fmt=\"d\")"
   ]
  },
  {
   "cell_type": "code",
   "execution_count": null,
   "metadata": {},
   "outputs": [],
   "source": []
  }
 ],
 "metadata": {
  "kernelspec": {
   "display_name": "Python 3",
   "language": "python",
   "name": "python3"
  },
  "language_info": {
   "codemirror_mode": {
    "name": "ipython",
    "version": 3
   },
   "file_extension": ".py",
   "mimetype": "text/x-python",
   "name": "python",
   "nbconvert_exporter": "python",
   "pygments_lexer": "ipython3",
   "version": "3.7.7"
  }
 },
 "nbformat": 4,
 "nbformat_minor": 4
}
